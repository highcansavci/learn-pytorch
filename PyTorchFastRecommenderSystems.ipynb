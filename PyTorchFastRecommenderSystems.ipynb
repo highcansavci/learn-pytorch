{
  "cells": [
    {
      "cell_type": "code",
      "execution_count": null,
      "metadata": {
        "id": "m-U21LoM9z0D"
      },
      "outputs": [],
      "source": [
        "import torch\n",
        "import torch.nn as nn\n",
        "import torch.nn.functional as F\n",
        "import numpy as np\n",
        "import pandas as pd\n",
        "import matplotlib.pyplot as plt\n",
        "from datetime import datetime\n",
        "from sklearn.utils import shuffle"
      ]
    },
    {
      "cell_type": "code",
      "execution_count": null,
      "metadata": {
        "colab": {
          "base_uri": "https://localhost:8080/"
        },
        "id": "o-YyE5Xm-J48",
        "outputId": "83ce2574-f324-4c93-b252-6afd0d051a87"
      },
      "outputs": [
        {
          "name": "stdout",
          "output_type": "stream",
          "text": [
            "--2023-02-21 12:05:31--  https://files.grouplens.org/datasets/movielens/ml-20m.zip\n",
            "Resolving files.grouplens.org (files.grouplens.org)... 128.101.65.152\n",
            "Connecting to files.grouplens.org (files.grouplens.org)|128.101.65.152|:443... connected.\n",
            "HTTP request sent, awaiting response... 200 OK\n",
            "Length: 198702078 (189M) [application/zip]\n",
            "Saving to: ‘ml-20m.zip’\n",
            "\n",
            "ml-20m.zip          100%[===================>] 189.50M  66.3MB/s    in 2.9s    \n",
            "\n",
            "2023-02-21 12:05:34 (66.3 MB/s) - ‘ml-20m.zip’ saved [198702078/198702078]\n",
            "\n"
          ]
        }
      ],
      "source": [
        "!wget -nc https://files.grouplens.org/datasets/movielens/ml-20m.zip"
      ]
    },
    {
      "cell_type": "code",
      "execution_count": null,
      "metadata": {
        "colab": {
          "base_uri": "https://localhost:8080/"
        },
        "id": "2DJQ2wwp-gY8",
        "outputId": "d9fefd7e-e8b2-4f73-a12a-1d0059883b03"
      },
      "outputs": [
        {
          "name": "stdout",
          "output_type": "stream",
          "text": [
            "Archive:  ml-20m.zip\n",
            "   creating: ml-20m/\n",
            "  inflating: ml-20m/genome-scores.csv  \n",
            "  inflating: ml-20m/genome-tags.csv  \n",
            "  inflating: ml-20m/links.csv        \n",
            "  inflating: ml-20m/movies.csv       \n",
            "  inflating: ml-20m/ratings.csv      \n",
            "  inflating: ml-20m/README.txt       \n",
            "  inflating: ml-20m/tags.csv         \n"
          ]
        }
      ],
      "source": [
        "!unzip -n ml-20m.zip"
      ]
    },
    {
      "cell_type": "code",
      "execution_count": null,
      "metadata": {
        "colab": {
          "base_uri": "https://localhost:8080/"
        },
        "id": "HV-GV6rx-vqB",
        "outputId": "43f5c314-e97b-46a7-f11f-bae5faa85479"
      },
      "outputs": [
        {
          "name": "stdout",
          "output_type": "stream",
          "text": [
            "ml-20m\tml-20m.zip  sample_data\n"
          ]
        }
      ],
      "source": [
        "!ls"
      ]
    },
    {
      "cell_type": "code",
      "execution_count": null,
      "metadata": {
        "id": "jE235Ggj-16L"
      },
      "outputs": [],
      "source": [
        "df = pd.read_csv(\"ml-20m/ratings.csv\")"
      ]
    },
    {
      "cell_type": "code",
      "execution_count": null,
      "metadata": {
        "colab": {
          "base_uri": "https://localhost:8080/",
          "height": 206
        },
        "id": "aq2Dvpl5-8vh",
        "outputId": "41ff92d9-4fea-4164-a72a-09fdcbbecf3e"
      },
      "outputs": [
        {
          "data": {
            "text/html": [
              "\n",
              "  <div id=\"df-b164adaa-91c7-41f1-9498-3fe745753348\">\n",
              "    <div class=\"colab-df-container\">\n",
              "      <div>\n",
              "<style scoped>\n",
              "    .dataframe tbody tr th:only-of-type {\n",
              "        vertical-align: middle;\n",
              "    }\n",
              "\n",
              "    .dataframe tbody tr th {\n",
              "        vertical-align: top;\n",
              "    }\n",
              "\n",
              "    .dataframe thead th {\n",
              "        text-align: right;\n",
              "    }\n",
              "</style>\n",
              "<table border=\"1\" class=\"dataframe\">\n",
              "  <thead>\n",
              "    <tr style=\"text-align: right;\">\n",
              "      <th></th>\n",
              "      <th>userId</th>\n",
              "      <th>movieId</th>\n",
              "      <th>rating</th>\n",
              "      <th>timestamp</th>\n",
              "    </tr>\n",
              "  </thead>\n",
              "  <tbody>\n",
              "    <tr>\n",
              "      <th>0</th>\n",
              "      <td>1</td>\n",
              "      <td>2</td>\n",
              "      <td>3.5</td>\n",
              "      <td>1112486027</td>\n",
              "    </tr>\n",
              "    <tr>\n",
              "      <th>1</th>\n",
              "      <td>1</td>\n",
              "      <td>29</td>\n",
              "      <td>3.5</td>\n",
              "      <td>1112484676</td>\n",
              "    </tr>\n",
              "    <tr>\n",
              "      <th>2</th>\n",
              "      <td>1</td>\n",
              "      <td>32</td>\n",
              "      <td>3.5</td>\n",
              "      <td>1112484819</td>\n",
              "    </tr>\n",
              "    <tr>\n",
              "      <th>3</th>\n",
              "      <td>1</td>\n",
              "      <td>47</td>\n",
              "      <td>3.5</td>\n",
              "      <td>1112484727</td>\n",
              "    </tr>\n",
              "    <tr>\n",
              "      <th>4</th>\n",
              "      <td>1</td>\n",
              "      <td>50</td>\n",
              "      <td>3.5</td>\n",
              "      <td>1112484580</td>\n",
              "    </tr>\n",
              "  </tbody>\n",
              "</table>\n",
              "</div>\n",
              "      <button class=\"colab-df-convert\" onclick=\"convertToInteractive('df-b164adaa-91c7-41f1-9498-3fe745753348')\"\n",
              "              title=\"Convert this dataframe to an interactive table.\"\n",
              "              style=\"display:none;\">\n",
              "        \n",
              "  <svg xmlns=\"http://www.w3.org/2000/svg\" height=\"24px\"viewBox=\"0 0 24 24\"\n",
              "       width=\"24px\">\n",
              "    <path d=\"M0 0h24v24H0V0z\" fill=\"none\"/>\n",
              "    <path d=\"M18.56 5.44l.94 2.06.94-2.06 2.06-.94-2.06-.94-.94-2.06-.94 2.06-2.06.94zm-11 1L8.5 8.5l.94-2.06 2.06-.94-2.06-.94L8.5 2.5l-.94 2.06-2.06.94zm10 10l.94 2.06.94-2.06 2.06-.94-2.06-.94-.94-2.06-.94 2.06-2.06.94z\"/><path d=\"M17.41 7.96l-1.37-1.37c-.4-.4-.92-.59-1.43-.59-.52 0-1.04.2-1.43.59L10.3 9.45l-7.72 7.72c-.78.78-.78 2.05 0 2.83L4 21.41c.39.39.9.59 1.41.59.51 0 1.02-.2 1.41-.59l7.78-7.78 2.81-2.81c.8-.78.8-2.07 0-2.86zM5.41 20L4 18.59l7.72-7.72 1.47 1.35L5.41 20z\"/>\n",
              "  </svg>\n",
              "      </button>\n",
              "      \n",
              "  <style>\n",
              "    .colab-df-container {\n",
              "      display:flex;\n",
              "      flex-wrap:wrap;\n",
              "      gap: 12px;\n",
              "    }\n",
              "\n",
              "    .colab-df-convert {\n",
              "      background-color: #E8F0FE;\n",
              "      border: none;\n",
              "      border-radius: 50%;\n",
              "      cursor: pointer;\n",
              "      display: none;\n",
              "      fill: #1967D2;\n",
              "      height: 32px;\n",
              "      padding: 0 0 0 0;\n",
              "      width: 32px;\n",
              "    }\n",
              "\n",
              "    .colab-df-convert:hover {\n",
              "      background-color: #E2EBFA;\n",
              "      box-shadow: 0px 1px 2px rgba(60, 64, 67, 0.3), 0px 1px 3px 1px rgba(60, 64, 67, 0.15);\n",
              "      fill: #174EA6;\n",
              "    }\n",
              "\n",
              "    [theme=dark] .colab-df-convert {\n",
              "      background-color: #3B4455;\n",
              "      fill: #D2E3FC;\n",
              "    }\n",
              "\n",
              "    [theme=dark] .colab-df-convert:hover {\n",
              "      background-color: #434B5C;\n",
              "      box-shadow: 0px 1px 3px 1px rgba(0, 0, 0, 0.15);\n",
              "      filter: drop-shadow(0px 1px 2px rgba(0, 0, 0, 0.3));\n",
              "      fill: #FFFFFF;\n",
              "    }\n",
              "  </style>\n",
              "\n",
              "      <script>\n",
              "        const buttonEl =\n",
              "          document.querySelector('#df-b164adaa-91c7-41f1-9498-3fe745753348 button.colab-df-convert');\n",
              "        buttonEl.style.display =\n",
              "          google.colab.kernel.accessAllowed ? 'block' : 'none';\n",
              "\n",
              "        async function convertToInteractive(key) {\n",
              "          const element = document.querySelector('#df-b164adaa-91c7-41f1-9498-3fe745753348');\n",
              "          const dataTable =\n",
              "            await google.colab.kernel.invokeFunction('convertToInteractive',\n",
              "                                                     [key], {});\n",
              "          if (!dataTable) return;\n",
              "\n",
              "          const docLinkHtml = 'Like what you see? Visit the ' +\n",
              "            '<a target=\"_blank\" href=https://colab.research.google.com/notebooks/data_table.ipynb>data table notebook</a>'\n",
              "            + ' to learn more about interactive tables.';\n",
              "          element.innerHTML = '';\n",
              "          dataTable['output_type'] = 'display_data';\n",
              "          await google.colab.output.renderOutput(dataTable, element);\n",
              "          const docLink = document.createElement('div');\n",
              "          docLink.innerHTML = docLinkHtml;\n",
              "          element.appendChild(docLink);\n",
              "        }\n",
              "      </script>\n",
              "    </div>\n",
              "  </div>\n",
              "  "
            ],
            "text/plain": [
              "   userId  movieId  rating   timestamp\n",
              "0       1        2     3.5  1112486027\n",
              "1       1       29     3.5  1112484676\n",
              "2       1       32     3.5  1112484819\n",
              "3       1       47     3.5  1112484727\n",
              "4       1       50     3.5  1112484580"
            ]
          },
          "execution_count": 7,
          "metadata": {},
          "output_type": "execute_result"
        }
      ],
      "source": [
        "df.head()"
      ]
    },
    {
      "cell_type": "code",
      "execution_count": null,
      "metadata": {
        "id": "tjrZ0ylF-_kE"
      },
      "outputs": [],
      "source": [
        "df.userId = pd.Categorical(df.userId)\n",
        "df[\"new_user_id\"] = df.userId.cat.codes"
      ]
    },
    {
      "cell_type": "code",
      "execution_count": null,
      "metadata": {
        "id": "qHmQ2bYgAFp6"
      },
      "outputs": [],
      "source": [
        "df.movieId = pd.Categorical(df.movieId)\n",
        "df[\"new_movie_id\"] = df.movieId.cat.codes"
      ]
    },
    {
      "cell_type": "code",
      "execution_count": null,
      "metadata": {
        "id": "E8RW4mPBARXy"
      },
      "outputs": [],
      "source": [
        "# Get user IDs, movie IDs and ratings as separate arrays\n",
        "user_ids = df[\"new_user_id\"].values\n",
        "movie_ids = df[\"new_movie_id\"].values\n",
        "ratings = df[\"rating\"].values - 2.5 "
      ]
    },
    {
      "cell_type": "code",
      "execution_count": null,
      "metadata": {
        "id": "c3tj-Gc6BH8W"
      },
      "outputs": [],
      "source": [
        "# Get number of users and number of movies\n",
        "N = len(set(user_ids))\n",
        "M = len(set(movie_ids))\n",
        "\n",
        "# Set embedding dimension\n",
        "D = 10"
      ]
    },
    {
      "cell_type": "code",
      "execution_count": null,
      "metadata": {
        "id": "nQo9ITkQBTVJ"
      },
      "outputs": [],
      "source": [
        "# Make a neural network\n",
        "class Model(nn.Module):\n",
        "  def __init__(self, n_users, n_items, embed_dim, n_hidden=1024):\n",
        "    super(Model, self).__init__()\n",
        "    self.N = n_users\n",
        "    self.M = n_items\n",
        "    self.D = embed_dim\n",
        "\n",
        "    self.u_embed = nn.Embedding(self.N, self.D)\n",
        "    self.m_embed = nn.Embedding(self.M, self.D)\n",
        "    self.fc1 = nn.Linear(2 * self.D, n_hidden)\n",
        "    self.fc2 = nn.Linear(n_hidden, 1)\n",
        "\n",
        "    # set the weights since N(0, 1) leads to poor results\n",
        "    self.u_embed.weight.data = nn.Parameter(torch.Tensor(np.random.randn(self.N, self.D) * 0.01))\n",
        "    self.m_embed.weight.data = nn.Parameter(torch.Tensor(np.random.randn(self.N, self.D) * 0.01))\n",
        "\n",
        "  def forward(self, user, movie):\n",
        "    user = self.u_embed(user) # output is num_samples x D\n",
        "    movie = self.m_embed(movie) # output is num_samples x D\n",
        "\n",
        "    # merge\n",
        "    out = torch.cat((user, movie), 1) # output is num_samples x 2D\n",
        "\n",
        "    # ANN\n",
        "    out = self.fc1(out)\n",
        "    out = F.relu(out)\n",
        "    out = self.fc2(out)\n",
        "    return out"
      ]
    },
    {
      "cell_type": "code",
      "execution_count": null,
      "metadata": {
        "colab": {
          "base_uri": "https://localhost:8080/"
        },
        "id": "xFv7kdIXDq9a",
        "outputId": "a841a548-44df-4cca-9295-6e7247ab96bd"
      },
      "outputs": [
        {
          "name": "stdout",
          "output_type": "stream",
          "text": [
            "cpu\n"
          ]
        }
      ],
      "source": [
        "device = torch.device(\"cuda:0\" if torch.cuda.is_available() else \"cpu\")\n",
        "print(device)"
      ]
    },
    {
      "cell_type": "code",
      "execution_count": null,
      "metadata": {
        "colab": {
          "base_uri": "https://localhost:8080/"
        },
        "id": "3K1im7g_Dzv9",
        "outputId": "4379f0a8-659d-4963-9fef-d0a56463601d"
      },
      "outputs": [
        {
          "data": {
            "text/plain": [
              "Model(\n",
              "  (u_embed): Embedding(138493, 10)\n",
              "  (m_embed): Embedding(26744, 10)\n",
              "  (fc1): Linear(in_features=20, out_features=1024, bias=True)\n",
              "  (fc2): Linear(in_features=1024, out_features=1, bias=True)\n",
              ")"
            ]
          },
          "execution_count": 14,
          "metadata": {},
          "output_type": "execute_result"
        }
      ],
      "source": [
        "model = Model(N, M, D)\n",
        "model.to(device)"
      ]
    },
    {
      "cell_type": "code",
      "execution_count": null,
      "metadata": {
        "id": "yLe4LJPGD_Ll"
      },
      "outputs": [],
      "source": [
        "# Loss and Optimizer\n",
        "criterion = nn.MSELoss()\n",
        "optimizer = torch.optim.SGD(model.parameters(), lr=0.08, momentum=0.9)"
      ]
    },
    {
      "cell_type": "code",
      "execution_count": null,
      "metadata": {
        "id": "-t2XdYbSIjM0"
      },
      "outputs": [],
      "source": [
        "def batch_gd(model, criterion, optimizer, train_data, test_data, epochs, batch_size=512):\n",
        "  train_users, train_movies, train_ratings = train_data\n",
        "  test_users, test_movies, test_ratings = test_data\n",
        "  \n",
        "  train_losses = np.zeros(epochs)\n",
        "  test_losses = np.zeros(epochs)\n",
        "\n",
        "  # batches per epoch\n",
        "  Ntrain = len(train_users)\n",
        "  batches_per_epoch = int(np.ceil(Ntrain / batch_size))\n",
        "\n",
        "  for i in range(epochs):\n",
        "    model.train()\n",
        "    t0 = datetime.now()\n",
        "    train_loss = []\n",
        "\n",
        "    # shuffle each batch\n",
        "    train_users, train_movies, train_ratings = shuffle(train_users, train_movies, train_ratings)\n",
        "\n",
        "    for j in range(batches_per_epoch):\n",
        "      # get the batch\n",
        "      users = train_users[j * batch_size: (j + 1) * batch_size]\n",
        "      movies = train_movies[j * batch_size: (j + 1) * batch_size]\n",
        "      targets = train_ratings[j * batch_size: (j + 1) * batch_size]\n",
        "\n",
        "      # convert to tensor\n",
        "      users = torch.from_numpy(users).long()\n",
        "      movies = torch.from_numpy(movies).long()\n",
        "      targets = torch.from_numpy(targets)\n",
        "\n",
        "      targets = targets.view(-1, 1).float()\n",
        "\n",
        "      # move data to GPU\n",
        "      users, movies, targets = users.to(device), movies.to(device), targets.to(device)\n",
        "\n",
        "      # zero the parameter gradients\n",
        "      optimizer.zero_grad()\n",
        "\n",
        "      # Forward pass\n",
        "      outputs = model(users, movies)\n",
        "      loss = criterion(outputs, targets)\n",
        "\n",
        "      # Backward and Optimize\n",
        "      loss.backward()\n",
        "      optimizer.step()\n",
        "      \n",
        "      train_loss.append(loss.item())\n",
        "\n",
        "    train_losses[i] = np.mean(train_loss)\n",
        "\n",
        "    model.eval()\n",
        "    test_loss = []\n",
        "    for j in range(int(np.ceil(len(test_users) / batch_size))):\n",
        "      # get the batch\n",
        "      users = test_users[j * batch_size: (j + 1) * batch_size]\n",
        "      movies = test_movies[j * batch_size: (j + 1) * batch_size]\n",
        "      targets = test_ratings[j * batch_size: (j + 1) * batch_size]\n",
        "\n",
        "      # convert to tensor\n",
        "      users = torch.from_numpy(users).long()\n",
        "      movies = torch.from_numpy(movies).long()\n",
        "      targets = torch.from_numpy(targets)\n",
        "      # reshape the target\n",
        "      targets = targets.view(-1, 1).float()\n",
        "      # move data to GPU\n",
        "      users, movies, targets = users.to(device), movies.to(device), targets.to(device)\n",
        "      outputs = model(users, movies)\n",
        "      loss = criterion(outputs, targets)\n",
        "      test_loss.append(loss.item())\n",
        "    \n",
        "    test_losses[i] = np.mean(test_loss)\n",
        "\n",
        "    dt = datetime.now() - t0\n",
        "    print(f\"Epoch: {i+1} / {epochs}, Train Loss: {train_losses[i]:.4f}, Test Loss: {test_losses[i]:.4f}, Duration: {dt}\")\n",
        "  \n",
        "  return train_losses, test_losses"
      ]
    },
    {
      "cell_type": "code",
      "execution_count": null,
      "metadata": {
        "id": "bL8yFIy0lIyR"
      },
      "outputs": [],
      "source": [
        "# shuffle the data in corresponding order \n",
        "user_ids, movie_ids, ratings = shuffle(user_ids, movie_ids, ratings)"
      ]
    },
    {
      "cell_type": "code",
      "execution_count": 36,
      "metadata": {
        "colab": {
          "base_uri": "https://localhost:8080/"
        },
        "id": "m0MU585DIpr1",
        "outputId": "8d69beda-85bc-48a6-c097-4370d2856b46"
      },
      "outputs": [
        {
          "output_type": "stream",
          "name": "stdout",
          "text": [
            "Epoch: 1 / 10, Train Loss: 0.7356, Test Loss: 0.6917, Duration: 0:14:40.544992\n",
            "Epoch: 2 / 10, Train Loss: 0.6699, Test Loss: 0.6661, Duration: 0:14:50.855571\n",
            "Epoch: 3 / 10, Train Loss: 0.6372, Test Loss: 0.6537, Duration: 0:15:00.682171\n",
            "Epoch: 4 / 10, Train Loss: 0.6142, Test Loss: 0.6370, Duration: 0:14:40.415849\n",
            "Epoch: 5 / 10, Train Loss: 0.5970, Test Loss: 0.6324, Duration: 0:14:46.667950\n",
            "Epoch: 6 / 10, Train Loss: 0.5845, Test Loss: 0.6307, Duration: 0:14:40.388906\n",
            "Epoch: 7 / 10, Train Loss: 0.5749, Test Loss: 0.6266, Duration: 0:14:44.068804\n",
            "Epoch: 8 / 10, Train Loss: 0.5678, Test Loss: 0.6263, Duration: 0:14:36.526871\n",
            "Epoch: 9 / 10, Train Loss: 0.5622, Test Loss: 0.6263, Duration: 0:14:40.239509\n",
            "Epoch: 10 / 10, Train Loss: 0.5573, Test Loss: 0.6257, Duration: 0:14:31.185777\n"
          ]
        }
      ],
      "source": [
        "Ntrain = int(0.8 * len(ratings))\n",
        "train_users = user_ids[:Ntrain]\n",
        "train_movies = movie_ids[:Ntrain]\n",
        "train_ratings = ratings[:Ntrain]\n",
        "\n",
        "test_users = user_ids[Ntrain:]\n",
        "test_movies = movie_ids[Ntrain:]\n",
        "test_ratings = ratings[Ntrain:]\n",
        "\n",
        "train_losses, test_losses = batch_gd(model, criterion, optimizer, (train_users, train_movies, train_ratings), (test_users, test_movies, test_ratings), 10)"
      ]
    },
    {
      "cell_type": "code",
      "execution_count": 37,
      "metadata": {
        "colab": {
          "base_uri": "https://localhost:8080/",
          "height": 265
        },
        "id": "y8LruQu0KE5z",
        "outputId": "c091f5d3-5946-431a-bbef-aebe8731c71a"
      },
      "outputs": [
        {
          "output_type": "display_data",
          "data": {
            "text/plain": [
              "<Figure size 432x288 with 1 Axes>"
            ],
            "image/png": "[encoded data removed]"
          },
          "metadata": {
            "needs_background": "light"
          }
        }
      ],
      "source": [
        "plt.plot(train_losses, label='Train Loss')\n",
        "plt.plot(test_losses, label='Test Loss')\n",
        "plt.legend();"
      ]
    },
    {
      "cell_type": "code",
      "execution_count": 38,
      "metadata": {
        "id": "1kX8_RfdLKcz"
      },
      "outputs": [],
      "source": [
        "# Suppose I want to find recommendations for user_id = 1\n",
        "# First find all the movie ids for movies they haven't yet watched\n",
        "watched_movie_ids = df[df.new_user_id == 1].new_movie_id.values"
      ]
    },
    {
      "cell_type": "code",
      "execution_count": 39,
      "metadata": {
        "colab": {
          "base_uri": "https://localhost:8080/"
        },
        "id": "kYY-hZKY3KLH",
        "outputId": "c12d4d37-28aa-4e5e-928b-4cd550077ee5"
      },
      "outputs": [
        {
          "output_type": "execute_result",
          "data": {
            "text/plain": [
              "array([   2,   61,   69,  108,  239,  257,  263,  465,  476,  537,  583,\n",
              "        874,  891,  907, 1098, 1171, 1184, 1188, 1221, 1231, 1242, 1298,\n",
              "       1326, 1494, 1528, 1616, 1684, 1881, 1885, 1886, 1887, 1888, 1889,\n",
              "       1890, 1902, 2206, 2369, 2370, 2705, 2772, 2862, 2865, 3063, 3072,\n",
              "       3086, 3361, 3423, 3443, 3464, 3474, 3612, 3662, 3824, 3825, 3830,\n",
              "       3833, 3834, 3835, 3837, 3843, 3865], dtype=int16)"
            ]
          },
          "metadata": {},
          "execution_count": 39
        }
      ],
      "source": [
        "watched_movie_ids"
      ]
    },
    {
      "cell_type": "code",
      "execution_count": 40,
      "metadata": {
        "id": "5Uo1989n3cPv"
      },
      "outputs": [],
      "source": [
        "potential_movie_ids = df[~df.new_movie_id.isin(watched_movie_ids)].new_movie_id.unique()"
      ]
    },
    {
      "cell_type": "code",
      "execution_count": 41,
      "metadata": {
        "id": "VlQpcedDAL6g",
        "colab": {
          "base_uri": "https://localhost:8080/"
        },
        "outputId": "7f9db351-e2a1-41f1-929b-73cad144541a"
      },
      "outputs": [
        {
          "output_type": "execute_result",
          "data": {
            "text/plain": [
              "(26683,)"
            ]
          },
          "metadata": {},
          "execution_count": 41
        }
      ],
      "source": [
        "potential_movie_ids.shape"
      ]
    },
    {
      "cell_type": "code",
      "execution_count": 42,
      "metadata": {
        "id": "eyCk7wk6AOnG",
        "colab": {
          "base_uri": "https://localhost:8080/"
        },
        "outputId": "983bd110-9169-468f-9a7d-c3753906b94b"
      },
      "outputs": [
        {
          "output_type": "execute_result",
          "data": {
            "text/plain": [
              "26683"
            ]
          },
          "metadata": {},
          "execution_count": 42
        }
      ],
      "source": [
        "len(set(potential_movie_ids))"
      ]
    },
    {
      "cell_type": "code",
      "execution_count": 43,
      "metadata": {
        "id": "Vy80f1B2AVjV"
      },
      "outputs": [],
      "source": [
        "# Repeat the user id this many times\n",
        "user_id_to_recommend = np.ones_like(potential_movie_ids)"
      ]
    },
    {
      "cell_type": "code",
      "execution_count": 44,
      "metadata": {
        "id": "JNRs-iGwBX3R"
      },
      "outputs": [],
      "source": [
        "# Convert to torch tensor\n",
        "t_user_ids = torch.from_numpy(user_id_to_recommend).long().to(device)\n",
        "t_movie_ids = torch.from_numpy(potential_movie_ids).long().to(device)\n",
        "\n",
        "# Get predictions\n",
        "with torch.no_grad():\n",
        "  predictions = model(t_user_ids, t_movie_ids)"
      ]
    },
    {
      "cell_type": "code",
      "execution_count": 45,
      "metadata": {
        "id": "Ec33wXE2B4tz"
      },
      "outputs": [],
      "source": [
        "# Convert predictions to Numpy\n",
        "predictions_np = predictions.cpu().numpy().flatten()"
      ]
    },
    {
      "cell_type": "code",
      "execution_count": 46,
      "metadata": {
        "id": "Jgxny6OuCGCr"
      },
      "outputs": [],
      "source": [
        "# Get sort index for predictions\n",
        "sort_idx = np.argsort(-predictions_np)"
      ]
    },
    {
      "cell_type": "code",
      "execution_count": 47,
      "metadata": {
        "id": "J3EJZbn9COvW",
        "colab": {
          "base_uri": "https://localhost:8080/"
        },
        "outputId": "d8f441a5-1bae-4a9f-85a1-d6b73b91b0e3"
      },
      "outputs": [
        {
          "data": {
            "text/plain": [
              "array([1.561099 , 1.1314094, 2.0379078, ..., 1.5305789, 1.4829282,\n",
              "       1.4799558], dtype=float32)"
            ]
          },
          "execution_count": 47,
          "metadata": {},
          "output_type": "execute_result"
        }
      ],
      "source": [
        "predictions_np"
      ]
    },
    {
      "cell_type": "code",
      "execution_count": 48,
      "metadata": {
        "id": "x4GudBmrCXCU",
        "colab": {
          "base_uri": "https://localhost:8080/"
        },
        "outputId": "6615564a-3d6f-4c3b-b2ac-0c4db17c4228"
      },
      "outputs": [
        {
          "output_type": "execute_result",
          "data": {
            "text/plain": [
              "array([  848,   270,    34, ...,  3646, 13520,  8795])"
            ]
          },
          "metadata": {},
          "execution_count": 48
        }
      ],
      "source": [
        "sort_idx"
      ]
    },
    {
      "cell_type": "code",
      "execution_count": 49,
      "metadata": {
        "id": "yYWW3YQECXuk",
        "colab": {
          "base_uri": "https://localhost:8080/"
        },
        "outputId": "d963a725-bed4-47be-889f-75947b2c9590"
      },
      "outputs": [
        {
          "output_type": "stream",
          "name": "stdout",
          "text": [
            "Movie: 10109, Score: 2.633188009262085\n",
            "Movie: 2486, Score: 2.6153388023376465\n",
            "Movie: 1212, Score: 2.6105380058288574\n",
            "Movie: 1017, Score: 2.610189914703369\n",
            "Movie: 7206, Score: 2.6038432121276855\n",
            "Movie: 23332, Score: 2.596259117126465\n",
            "Movie: 12002, Score: 2.5904133319854736\n",
            "Movie: 1173, Score: 2.580634117126465\n",
            "Movie: 7982, Score: 2.5662753582000732\n",
            "Movie: 22016, Score: 2.561558723449707\n"
          ]
        }
      ],
      "source": [
        "# Top 10 predictions\n",
        "top_10_movie_ids = potential_movie_ids[sort_idx[:10]]\n",
        "top_10_scores = predictions_np[sort_idx[:10]]\n",
        "\n",
        "for movie, score in zip(top_10_movie_ids, top_10_scores):\n",
        "  print(f\"Movie: {movie}, Score: {score}\")"
      ]
    },
    {
      "cell_type": "code",
      "execution_count": 49,
      "metadata": {
        "id": "ha0Qf4mYDJHu"
      },
      "outputs": [],
      "source": []
    }
  ],
  "metadata": {
    "colab": {
      "provenance": []
    },
    "gpuClass": "standard",
    "kernelspec": {
      "display_name": "Python 3",
      "name": "python3"
    },
    "language_info": {
      "name": "python"
    }
  },
  "nbformat": 4,
  "nbformat_minor": 0
}