{
  "nbformat": 4,
  "nbformat_minor": 0,
  "metadata": {
    "colab": {
      "provenance": []
    },
    "kernelspec": {
      "name": "python3",
      "display_name": "Python 3"
    },
    "language_info": {
      "name": "python"
    }
  },
  "cells": [
    {
      "cell_type": "code",
      "execution_count": 1,
      "metadata": {
        "id": "b6ceh47I7Toz"
      },
      "outputs": [],
      "source": [
        "import torch\n",
        "import torch.nn as nn\n",
        "import numpy as np\n",
        "import matplotlib.pyplot as plt"
      ]
    },
    {
      "cell_type": "code",
      "source": [
        "# N = number of samples\n",
        "# T = sequence length\n",
        "# D = number of input features\n",
        "# M = number of hidden units\n",
        "# K = number of output units"
      ],
      "metadata": {
        "id": "otiuc9Qg7V_q"
      },
      "execution_count": 2,
      "outputs": []
    },
    {
      "cell_type": "code",
      "source": [
        "# Synthetic Data\n",
        "N = 10\n",
        "T = 10\n",
        "D = 3\n",
        "M = 5\n",
        "K = 2\n",
        "X = np.random.randn(N, T, D)"
      ],
      "metadata": {
        "id": "H2BzEPxO7cPq"
      },
      "execution_count": 3,
      "outputs": []
    },
    {
      "cell_type": "code",
      "source": [
        "# Make an RNN\n",
        "class SimpleRNN(nn.Module):\n",
        "  def __init__(self, n_inputs, n_hidden, n_outputs):\n",
        "    super(SimpleRNN, self).__init__()\n",
        "    self.D = n_inputs\n",
        "    self.M = n_hidden\n",
        "    self.K = n_outputs\n",
        "    self.rnn = nn.RNN(\n",
        "        input_size=self.D,\n",
        "        hidden_size=self.M,\n",
        "        nonlinearity=\"tanh\",\n",
        "        batch_first=True\n",
        "    )\n",
        "    self.fc = nn.Linear(self.M, self.K)\n",
        "\n",
        "  def forward(self, X):\n",
        "    # initial hidden states (1 x N x M)\n",
        "    h0 = torch.zeros(1, X.size(0), self.M)\n",
        "\n",
        "    # get RNN unit output\n",
        "    out, _ = self.rnn(X, h0)\n",
        "\n",
        "    # Take all the hidden states and pass it to the final dense layer\n",
        "    out = self.fc(out)\n",
        "    return out"
      ],
      "metadata": {
        "id": "WQNVOLyT8BFf"
      },
      "execution_count": 4,
      "outputs": []
    },
    {
      "cell_type": "code",
      "source": [
        "# Instantiate the model\n",
        "model = SimpleRNN(n_inputs=D, n_hidden=M, n_outputs=K)"
      ],
      "metadata": {
        "id": "42XXBOaA8HKg"
      },
      "execution_count": 5,
      "outputs": []
    },
    {
      "cell_type": "code",
      "source": [
        "# Get the output\n",
        "inputs = torch.from_numpy(X.astype(np.float32))\n",
        "out = model(inputs)\n",
        "out"
      ],
      "metadata": {
        "colab": {
          "base_uri": "https://localhost:8080/"
        },
        "id": "teYjv1G-8J7e",
        "outputId": "9d8814e9-dbd8-4abe-f757-c20093e3accc"
      },
      "execution_count": 6,
      "outputs": [
        {
          "output_type": "execute_result",
          "data": {
            "text/plain": [
              "tensor([[[-0.3595, -0.4377],\n",
              "         [-0.0964, -0.1917],\n",
              "         [-0.0313, -0.5381],\n",
              "         [-0.3981, -0.3038],\n",
              "         [ 0.1957, -0.3274],\n",
              "         [-0.4587, -0.3525],\n",
              "         [-0.5403, -0.1035],\n",
              "         [-0.5833, -0.5002],\n",
              "         [-0.3776, -0.3689],\n",
              "         [-0.7410, -0.3071]],\n",
              "\n",
              "        [[-0.4235, -0.4075],\n",
              "         [-0.4947, -0.2603],\n",
              "         [-0.1921, -0.2827],\n",
              "         [-0.2645, -0.2836],\n",
              "         [-0.0574, -0.1189],\n",
              "         [-0.1244, -0.2939],\n",
              "         [-0.5746, -0.4755],\n",
              "         [-0.5824, -0.3386],\n",
              "         [-0.3307, -0.3745],\n",
              "         [-0.1177, -0.3466]],\n",
              "\n",
              "        [[ 0.2445, -0.3096],\n",
              "         [-0.2507, -0.1250],\n",
              "         [-0.5935, -0.4780],\n",
              "         [-0.3377, -0.5198],\n",
              "         [-0.2780, -0.2746],\n",
              "         [-0.3523, -0.3557],\n",
              "         [-0.6158, -0.4737],\n",
              "         [-0.2584, -0.1584],\n",
              "         [-0.0710, -0.4629],\n",
              "         [-0.2711, -0.1994]],\n",
              "\n",
              "        [[ 0.2459, -0.0601],\n",
              "         [ 0.2271, -0.2342],\n",
              "         [-0.2175, -0.3616],\n",
              "         [-0.6630, -0.5427],\n",
              "         [-0.6763, -0.3973],\n",
              "         [-0.5389, -0.5152],\n",
              "         [-0.4703, -0.2913],\n",
              "         [-0.5967, -0.2548],\n",
              "         [-0.5113, -0.3792],\n",
              "         [-0.4780, -0.0702]],\n",
              "\n",
              "        [[-0.2275, -0.5263],\n",
              "         [-0.3119, -0.4519],\n",
              "         [-0.2331, -0.4412],\n",
              "         [-0.6165, -0.4636],\n",
              "         [-0.0087, -0.1935],\n",
              "         [-0.5045, -0.2905],\n",
              "         [-0.5934, -0.4601],\n",
              "         [-0.1858, -0.1835],\n",
              "         [ 0.2359, -0.3091],\n",
              "         [-0.3599, -0.2187]],\n",
              "\n",
              "        [[-0.2464, -0.5556],\n",
              "         [-0.4846, -0.3754],\n",
              "         [-0.3440, -0.2562],\n",
              "         [ 0.1826, -0.2640],\n",
              "         [-0.2597, -0.2768],\n",
              "         [-0.6358, -0.3985],\n",
              "         [-0.2920, -0.1769],\n",
              "         [-0.1809, -0.2688],\n",
              "         [-0.3756, -0.4077],\n",
              "         [-0.1130, -0.2169]],\n",
              "\n",
              "        [[-0.4618, -0.3486],\n",
              "         [-0.6097, -0.3428],\n",
              "         [-0.3931, -0.3033],\n",
              "         [-0.3038, -0.2638],\n",
              "         [-0.0080, -0.3712],\n",
              "         [-0.6603, -0.2755],\n",
              "         [-0.3234, -0.2591],\n",
              "         [-0.3649, -0.2608],\n",
              "         [-0.4584, -0.4234],\n",
              "         [-0.2740, -0.3002]],\n",
              "\n",
              "        [[-0.3034, -0.1562],\n",
              "         [-0.4125, -0.4192],\n",
              "         [-0.6529, -0.4438],\n",
              "         [-0.3942, -0.2599],\n",
              "         [-0.4665, -0.3333],\n",
              "         [-0.3521, -0.3813],\n",
              "         [-0.3967, -0.5134],\n",
              "         [-0.7070, -0.2620],\n",
              "         [-0.5222, -0.3048],\n",
              "         [-0.5750, -0.2680]],\n",
              "\n",
              "        [[-0.4453, -0.3968],\n",
              "         [-0.3907, -0.4001],\n",
              "         [-0.5287, -0.3485],\n",
              "         [-0.0042, -0.1923],\n",
              "         [-0.5564, -0.3859],\n",
              "         [-0.2678, -0.4022],\n",
              "         [-0.4033, -0.4358],\n",
              "         [-0.2599, -0.3192],\n",
              "         [-0.5025, -0.3487],\n",
              "         [-0.4627, -0.4139]],\n",
              "\n",
              "        [[-0.5242, -0.4434],\n",
              "         [-0.3306, -0.3850],\n",
              "         [-0.0152, -0.4361],\n",
              "         [-0.4514, -0.3812],\n",
              "         [-0.5159, -0.2282],\n",
              "         [-0.1958, -0.3860],\n",
              "         [-0.5948, -0.4321],\n",
              "         [-0.6920, -0.3304],\n",
              "         [-0.4182, -0.4486],\n",
              "         [-0.3547, -0.4036]]], grad_fn=<AddBackward0>)"
            ]
          },
          "metadata": {},
          "execution_count": 6
        }
      ]
    },
    {
      "cell_type": "code",
      "source": [
        "# out is of size (N x T x K)\n",
        "out.shape"
      ],
      "metadata": {
        "colab": {
          "base_uri": "https://localhost:8080/"
        },
        "id": "ipM3Um3m8MIv",
        "outputId": "fa691dcb-9fa3-4f46-cf5b-cfed486f1b2b"
      },
      "execution_count": 7,
      "outputs": [
        {
          "output_type": "execute_result",
          "data": {
            "text/plain": [
              "torch.Size([10, 10, 2])"
            ]
          },
          "metadata": {},
          "execution_count": 7
        }
      ]
    },
    {
      "cell_type": "code",
      "source": [
        "Yhats_torch = out.detach().numpy()"
      ],
      "metadata": {
        "id": "O-vzwTe88PCE"
      },
      "execution_count": 8,
      "outputs": []
    },
    {
      "cell_type": "code",
      "source": [
        "Wxh, Whh, bxh, bhh = model.rnn.parameters()"
      ],
      "metadata": {
        "id": "fFQ9lkM68Qib"
      },
      "execution_count": 9,
      "outputs": []
    },
    {
      "cell_type": "code",
      "source": [
        "Wxh.shape"
      ],
      "metadata": {
        "colab": {
          "base_uri": "https://localhost:8080/"
        },
        "id": "RYvvXmL98Scd",
        "outputId": "dfdad767-ce00-4d03-d101-eb27601bff3c"
      },
      "execution_count": 10,
      "outputs": [
        {
          "output_type": "execute_result",
          "data": {
            "text/plain": [
              "torch.Size([5, 3])"
            ]
          },
          "metadata": {},
          "execution_count": 10
        }
      ]
    },
    {
      "cell_type": "code",
      "source": [
        "Wxh"
      ],
      "metadata": {
        "colab": {
          "base_uri": "https://localhost:8080/"
        },
        "id": "DGybIU6v9gLa",
        "outputId": "587e597b-ca39-4084-d412-e4340c1491b7"
      },
      "execution_count": 11,
      "outputs": [
        {
          "output_type": "execute_result",
          "data": {
            "text/plain": [
              "Parameter containing:\n",
              "tensor([[-0.3948, -0.3095, -0.0984],\n",
              "        [ 0.1909, -0.0851, -0.3178],\n",
              "        [-0.3491, -0.1400, -0.1770],\n",
              "        [ 0.3057, -0.4102, -0.4345],\n",
              "        [ 0.2492,  0.0297, -0.2726]], requires_grad=True)"
            ]
          },
          "metadata": {},
          "execution_count": 11
        }
      ]
    },
    {
      "cell_type": "code",
      "source": [
        "Wxh = Wxh.data.numpy()\n",
        "Wxh"
      ],
      "metadata": {
        "colab": {
          "base_uri": "https://localhost:8080/"
        },
        "id": "yCrOKhOR9hmu",
        "outputId": "e106410c-b457-42c1-b350-e7ac5443fa9a"
      },
      "execution_count": 12,
      "outputs": [
        {
          "output_type": "execute_result",
          "data": {
            "text/plain": [
              "array([[-0.39480132, -0.30950844, -0.09838684],\n",
              "       [ 0.19090745, -0.08509136, -0.31777355],\n",
              "       [-0.3491203 , -0.14001457, -0.17701289],\n",
              "       [ 0.3056773 , -0.41021654, -0.43447495],\n",
              "       [ 0.2491674 ,  0.02969623, -0.27261898]], dtype=float32)"
            ]
          },
          "metadata": {},
          "execution_count": 12
        }
      ]
    },
    {
      "cell_type": "code",
      "source": [
        "bxh = bxh.data.numpy()\n",
        "bhh = bhh.data.numpy()\n",
        "Whh = Whh.data.numpy()"
      ],
      "metadata": {
        "id": "5KwXmul49jSF"
      },
      "execution_count": 13,
      "outputs": []
    },
    {
      "cell_type": "code",
      "source": [
        "Wxh.shape, Whh.shape, bxh.shape, bhh.shape"
      ],
      "metadata": {
        "colab": {
          "base_uri": "https://localhost:8080/"
        },
        "id": "I4KAzD8N9ldW",
        "outputId": "19a8d98b-52a5-42a2-8faf-196856cdb1de"
      },
      "execution_count": 14,
      "outputs": [
        {
          "output_type": "execute_result",
          "data": {
            "text/plain": [
              "((5, 3), (5, 5), (5,), (5,))"
            ]
          },
          "metadata": {},
          "execution_count": 14
        }
      ]
    },
    {
      "cell_type": "code",
      "source": [
        "# FC parameter weights\n",
        "Wo, bo = model.fc.parameters()"
      ],
      "metadata": {
        "id": "FJI4lgSd9nHr"
      },
      "execution_count": 15,
      "outputs": []
    },
    {
      "cell_type": "code",
      "source": [
        "Wo = Wo.data.numpy()\n",
        "bo = bo.data.numpy()\n",
        "Wo.shape, bo.shape"
      ],
      "metadata": {
        "colab": {
          "base_uri": "https://localhost:8080/"
        },
        "id": "S88uIajbHblL",
        "outputId": "9e67eeb5-9888-47fb-f701-580dc97c2550"
      },
      "execution_count": 16,
      "outputs": [
        {
          "output_type": "execute_result",
          "data": {
            "text/plain": [
              "((2, 5), (2,))"
            ]
          },
          "metadata": {},
          "execution_count": 16
        }
      ]
    },
    {
      "cell_type": "code",
      "source": [
        "# See if we can replicate the output\n",
        "Yhats = np.zeros((N, T, K)) # the outputs\n",
        "h_last = np.zeros(M) # initial hidden state\n",
        "for i in range(N):\n",
        "  x = X[i]\n",
        "  for t in range(T):\n",
        "    h = np.tanh(x[t].dot(Wxh.T) + bxh + h_last.dot(Whh.T) + bhh)\n",
        "    y = h.dot(Wo.T) + bo # we only care about this value in the last iteration\n",
        "    Yhats[t] = y\n",
        "\n",
        "    h_last = h\n",
        "\n",
        "print(Yhats)"
      ],
      "metadata": {
        "colab": {
          "base_uri": "https://localhost:8080/"
        },
        "id": "6dQw3nYNHgv4",
        "outputId": "509c8241-f692-4f9c-889c-6980a53ff80c"
      },
      "execution_count": 33,
      "outputs": [
        {
          "output_type": "stream",
          "name": "stdout",
          "text": [
            "[[[-0.5872389  -0.42979765]\n",
            "  [-0.5872389  -0.42979765]\n",
            "  [-0.5872389  -0.42979765]\n",
            "  [-0.5872389  -0.42979765]\n",
            "  [-0.5872389  -0.42979765]\n",
            "  [-0.5872389  -0.42979765]\n",
            "  [-0.5872389  -0.42979765]\n",
            "  [-0.5872389  -0.42979765]\n",
            "  [-0.5872389  -0.42979765]\n",
            "  [-0.5872389  -0.42979765]]\n",
            "\n",
            " [[-0.39539058 -0.385592  ]\n",
            "  [-0.39539058 -0.385592  ]\n",
            "  [-0.39539058 -0.385592  ]\n",
            "  [-0.39539058 -0.385592  ]\n",
            "  [-0.39539058 -0.385592  ]\n",
            "  [-0.39539058 -0.385592  ]\n",
            "  [-0.39539058 -0.385592  ]\n",
            "  [-0.39539058 -0.385592  ]\n",
            "  [-0.39539058 -0.385592  ]\n",
            "  [-0.39539058 -0.385592  ]]\n",
            "\n",
            " [[-0.04223876 -0.43245241]\n",
            "  [-0.04223876 -0.43245241]\n",
            "  [-0.04223876 -0.43245241]\n",
            "  [-0.04223876 -0.43245241]\n",
            "  [-0.04223876 -0.43245241]\n",
            "  [-0.04223876 -0.43245241]\n",
            "  [-0.04223876 -0.43245241]\n",
            "  [-0.04223876 -0.43245241]\n",
            "  [-0.04223876 -0.43245241]\n",
            "  [-0.04223876 -0.43245241]]\n",
            "\n",
            " [[-0.45235257 -0.38318635]\n",
            "  [-0.45235257 -0.38318635]\n",
            "  [-0.45235257 -0.38318635]\n",
            "  [-0.45235257 -0.38318635]\n",
            "  [-0.45235257 -0.38318635]\n",
            "  [-0.45235257 -0.38318635]\n",
            "  [-0.45235257 -0.38318635]\n",
            "  [-0.45235257 -0.38318635]\n",
            "  [-0.45235257 -0.38318635]\n",
            "  [-0.45235257 -0.38318635]]\n",
            "\n",
            " [[-0.52289913 -0.22617093]\n",
            "  [-0.52289913 -0.22617093]\n",
            "  [-0.52289913 -0.22617093]\n",
            "  [-0.52289913 -0.22617093]\n",
            "  [-0.52289913 -0.22617093]\n",
            "  [-0.52289913 -0.22617093]\n",
            "  [-0.52289913 -0.22617093]\n",
            "  [-0.52289913 -0.22617093]\n",
            "  [-0.52289913 -0.22617093]\n",
            "  [-0.52289913 -0.22617093]]\n",
            "\n",
            " [[-0.1956734  -0.38644964]\n",
            "  [-0.1956734  -0.38644964]\n",
            "  [-0.1956734  -0.38644964]\n",
            "  [-0.1956734  -0.38644964]\n",
            "  [-0.1956734  -0.38644964]\n",
            "  [-0.1956734  -0.38644964]\n",
            "  [-0.1956734  -0.38644964]\n",
            "  [-0.1956734  -0.38644964]\n",
            "  [-0.1956734  -0.38644964]\n",
            "  [-0.1956734  -0.38644964]]\n",
            "\n",
            " [[-0.59523732 -0.43206545]\n",
            "  [-0.59523732 -0.43206545]\n",
            "  [-0.59523732 -0.43206545]\n",
            "  [-0.59523732 -0.43206545]\n",
            "  [-0.59523732 -0.43206545]\n",
            "  [-0.59523732 -0.43206545]\n",
            "  [-0.59523732 -0.43206545]\n",
            "  [-0.59523732 -0.43206545]\n",
            "  [-0.59523732 -0.43206545]\n",
            "  [-0.59523732 -0.43206545]]\n",
            "\n",
            " [[-0.6922038  -0.33031322]\n",
            "  [-0.6922038  -0.33031322]\n",
            "  [-0.6922038  -0.33031322]\n",
            "  [-0.6922038  -0.33031322]\n",
            "  [-0.6922038  -0.33031322]\n",
            "  [-0.6922038  -0.33031322]\n",
            "  [-0.6922038  -0.33031322]\n",
            "  [-0.6922038  -0.33031322]\n",
            "  [-0.6922038  -0.33031322]\n",
            "  [-0.6922038  -0.33031322]]\n",
            "\n",
            " [[-0.41819671 -0.44859149]\n",
            "  [-0.41819671 -0.44859149]\n",
            "  [-0.41819671 -0.44859149]\n",
            "  [-0.41819671 -0.44859149]\n",
            "  [-0.41819671 -0.44859149]\n",
            "  [-0.41819671 -0.44859149]\n",
            "  [-0.41819671 -0.44859149]\n",
            "  [-0.41819671 -0.44859149]\n",
            "  [-0.41819671 -0.44859149]\n",
            "  [-0.41819671 -0.44859149]]\n",
            "\n",
            " [[-0.35471446 -0.40354876]\n",
            "  [-0.35471446 -0.40354876]\n",
            "  [-0.35471446 -0.40354876]\n",
            "  [-0.35471446 -0.40354876]\n",
            "  [-0.35471446 -0.40354876]\n",
            "  [-0.35471446 -0.40354876]\n",
            "  [-0.35471446 -0.40354876]\n",
            "  [-0.35471446 -0.40354876]\n",
            "  [-0.35471446 -0.40354876]\n",
            "  [-0.35471446 -0.40354876]]]\n"
          ]
        }
      ]
    },
    {
      "cell_type": "code",
      "source": [
        "np.allclose(Yhats, Yhats_torch)"
      ],
      "metadata": {
        "colab": {
          "base_uri": "https://localhost:8080/"
        },
        "id": "oPyOIG_ZXHvB",
        "outputId": "04fea020-22b1-4a5a-ea13-0c8db42ec481"
      },
      "execution_count": 32,
      "outputs": [
        {
          "output_type": "execute_result",
          "data": {
            "text/plain": [
              "False"
            ]
          },
          "metadata": {},
          "execution_count": 32
        }
      ]
    },
    {
      "cell_type": "code",
      "source": [],
      "metadata": {
        "id": "ZRNycc9zXsYz"
      },
      "execution_count": null,
      "outputs": []
    }
  ]
}