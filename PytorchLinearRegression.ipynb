{
  "nbformat": 4,
  "nbformat_minor": 0,
  "metadata": {
    "colab": {
      "provenance": []
    },
    "kernelspec": {
      "name": "python3",
      "display_name": "Python 3"
    },
    "language_info": {
      "name": "python"
    }
  },
  "cells": [
    {
      "cell_type": "code",
      "execution_count": null,
      "metadata": {
        "id": "qNwnYZi2iY6e"
      },
      "outputs": [],
      "source": [
        "import torch\n",
        "import torch.nn as nn\n",
        "import matplotlib.pyplot as plt\n",
        "import numpy as np"
      ]
    },
    {
      "cell_type": "code",
      "source": [
        "N = 20\n",
        "X = np.random.random(N) * 10 - 5\n",
        "Y = 0.5 * X - 1 + np.random.randn(N)"
      ],
      "metadata": {
        "id": "jHHys17bjKEv"
      },
      "execution_count": 5,
      "outputs": []
    },
    {
      "cell_type": "code",
      "source": [
        "plt.scatter(X, Y);"
      ],
      "metadata": {
        "colab": {
          "base_uri": "https://localhost:8080/",
          "height": 265
        },
        "id": "_HnsGFPfnx1-",
        "outputId": "2f9c0085-a365-4122-e7d0-a4c90ce797a8"
      },
      "execution_count": 7,
      "outputs": [
        {
          "output_type": "display_data",
          "data": {
            "text/plain": [
              "<Figure size 432x288 with 1 Axes>"
            ],
            "image/png": "[encoded data removed]"
          },
          "metadata": {
            "needs_background": "light"
          }
        }
      ]
    },
    {
      "cell_type": "code",
      "source": [
        "# Create the linear regression model\n",
        "model = nn.Linear(1, 1)"
      ],
      "metadata": {
        "id": "0d4Uox-3n8Kk"
      },
      "execution_count": 8,
      "outputs": []
    },
    {
      "cell_type": "code",
      "source": [
        "# Loss and optimizer\n",
        "criterion = nn.MSELoss()\n",
        "optimizer = torch.optim.SGD(model.parameters(), lr=0.1)"
      ],
      "metadata": {
        "id": "3XWXl2BvoWFL"
      },
      "execution_count": 9,
      "outputs": []
    },
    {
      "cell_type": "code",
      "source": [
        "# (# samples) x (# features)\n",
        "X = X.reshape(N, 1)\n",
        "Y = Y.reshape(N, 1)\n",
        "\n",
        "# PyTorch uses float32 by default\n",
        "# Numpy uses float64 by default\n",
        "inputs = torch.from_numpy(X.astype(np.float32))\n",
        "targets = torch.from_numpy(Y.astype(np.float32))"
      ],
      "metadata": {
        "id": "GGYNAN07opMn"
      },
      "execution_count": 10,
      "outputs": []
    },
    {
      "cell_type": "code",
      "source": [
        "type(inputs)"
      ],
      "metadata": {
        "colab": {
          "base_uri": "https://localhost:8080/"
        },
        "id": "1s69fWsmpaQA",
        "outputId": "80d03a9f-479f-4ac2-f9e2-e6819ef3fd4a"
      },
      "execution_count": 11,
      "outputs": [
        {
          "output_type": "execute_result",
          "data": {
            "text/plain": [
              "torch.Tensor"
            ]
          },
          "metadata": {},
          "execution_count": 11
        }
      ]
    },
    {
      "cell_type": "code",
      "source": [
        "# Train the model\n",
        "n_epochs = 30\n",
        "losses = []\n",
        "for i in range(n_epochs):\n",
        "  # zero the parameter gradients\n",
        "  optimizer.zero_grad()\n",
        "\n",
        "  # Forward pass\n",
        "  outputs = model(inputs)\n",
        "  loss = criterion(outputs, targets)\n",
        "\n",
        "  # get the data from the tensor using the item function\n",
        "  losses.append(loss.item())\n",
        "\n",
        "  # Backward and optimize\n",
        "  loss.backward()\n",
        "  optimizer.step()\n",
        "\n",
        "  print(f'Epoch {i+1}/{n_epochs}, Loss:{loss.item():.4f}')"
      ],
      "metadata": {
        "colab": {
          "base_uri": "https://localhost:8080/"
        },
        "id": "7EFxQCYEphS8",
        "outputId": "cf7775c9-160d-4fdc-ff78-147f02f50f13"
      },
      "execution_count": 12,
      "outputs": [
        {
          "output_type": "stream",
          "name": "stdout",
          "text": [
            "Epoch 1/30, Loss:3.5402\n",
            "Epoch 2/30, Loss:2.8558\n",
            "Epoch 3/30, Loss:2.3774\n",
            "Epoch 4/30, Loss:2.0384\n",
            "Epoch 5/30, Loss:1.7950\n",
            "Epoch 6/30, Loss:1.6175\n",
            "Epoch 7/30, Loss:1.4862\n",
            "Epoch 8/30, Loss:1.3878\n",
            "Epoch 9/30, Loss:1.3129\n",
            "Epoch 10/30, Loss:1.2552\n",
            "Epoch 11/30, Loss:1.2103\n",
            "Epoch 12/30, Loss:1.1750\n",
            "Epoch 13/30, Loss:1.1470\n",
            "Epoch 14/30, Loss:1.1247\n",
            "Epoch 15/30, Loss:1.1067\n",
            "Epoch 16/30, Loss:1.0922\n",
            "Epoch 17/30, Loss:1.0804\n",
            "Epoch 18/30, Loss:1.0708\n",
            "Epoch 19/30, Loss:1.0630\n",
            "Epoch 20/30, Loss:1.0566\n",
            "Epoch 21/30, Loss:1.0513\n",
            "Epoch 22/30, Loss:1.0470\n",
            "Epoch 23/30, Loss:1.0435\n",
            "Epoch 24/30, Loss:1.0406\n",
            "Epoch 25/30, Loss:1.0382\n",
            "Epoch 26/30, Loss:1.0362\n",
            "Epoch 27/30, Loss:1.0346\n",
            "Epoch 28/30, Loss:1.0333\n",
            "Epoch 29/30, Loss:1.0322\n",
            "Epoch 30/30, Loss:1.0313\n"
          ]
        }
      ]
    },
    {
      "cell_type": "code",
      "source": [
        "plt.plot(losses);"
      ],
      "metadata": {
        "colab": {
          "base_uri": "https://localhost:8080/",
          "height": 265
        },
        "id": "3FD8h_6xtPi5",
        "outputId": "50396d8d-4595-4f3a-c51c-d07c351f2143"
      },
      "execution_count": 14,
      "outputs": [
        {
          "output_type": "display_data",
          "data": {
            "text/plain": [
              "<Figure size 432x288 with 1 Axes>"
            ],
            "image/png": "[encoded data removed]"
          },
          "metadata": {
            "needs_background": "light"
          }
        }
      ]
    },
    {
      "cell_type": "code",
      "source": [
        "# detach() method in PyTorch is used to separate a tensor from the computational graph by returning a new tensor that doesn't require a gradient\n",
        "predicted = model(inputs).detach().numpy()\n",
        "plt.scatter(X, Y, label='Original Data')\n",
        "plt.plot(X, predicted, label='Fitted Line')\n",
        "plt.legend();"
      ],
      "metadata": {
        "colab": {
          "base_uri": "https://localhost:8080/",
          "height": 265
        },
        "id": "b7FLkPz_tWDE",
        "outputId": "838956f5-3808-4f11-c3c1-d408887b19a1"
      },
      "execution_count": 16,
      "outputs": [
        {
          "output_type": "display_data",
          "data": {
            "text/plain": [
              "<Figure size 432x288 with 1 Axes>"
            ],
            "image/png": "[encoded data removed]"
          },
          "metadata": {
            "needs_background": "light"
          }
        }
      ]
    },
    {
      "cell_type": "code",
      "source": [
        "model(inputs).numpy()"
      ],
      "metadata": {
        "colab": {
          "base_uri": "https://localhost:8080/",
          "height": 165
        },
        "id": "3e12fMh5vKh9",
        "outputId": "b420f3bd-944c-4d29-8c0f-ee9fbfa2d45a"
      },
      "execution_count": 17,
      "outputs": [
        {
          "output_type": "error",
          "ename": "RuntimeError",
          "evalue": "ignored",
          "traceback": [
            "\u001b[0;31m---------------------------------------------------------------------------\u001b[0m",
            "\u001b[0;31mRuntimeError\u001b[0m                              Traceback (most recent call last)",
            "\u001b[0;32m<ipython-input-17-4ec109debb8c>\u001b[0m in \u001b[0;36m<module>\u001b[0;34m\u001b[0m\n\u001b[0;32m----> 1\u001b[0;31m \u001b[0mmodel\u001b[0m\u001b[0;34m(\u001b[0m\u001b[0minputs\u001b[0m\u001b[0;34m)\u001b[0m\u001b[0;34m.\u001b[0m\u001b[0mnumpy\u001b[0m\u001b[0;34m(\u001b[0m\u001b[0;34m)\u001b[0m\u001b[0;34m\u001b[0m\u001b[0;34m\u001b[0m\u001b[0m\n\u001b[0m",
            "\u001b[0;31mRuntimeError\u001b[0m: Can't call numpy() on Tensor that requires grad. Use tensor.detach().numpy() instead."
          ]
        }
      ]
    },
    {
      "cell_type": "code",
      "source": [
        "# torch.no_grad() does not compute gradients\n",
        "with torch.no_grad():\n",
        "  out = model(inputs).numpy()\n",
        "out"
      ],
      "metadata": {
        "colab": {
          "base_uri": "https://localhost:8080/"
        },
        "id": "1L6guKLAvm68",
        "outputId": "08d36aed-e640-4eae-e60e-194f65d71bd0"
      },
      "execution_count": 19,
      "outputs": [
        {
          "output_type": "execute_result",
          "data": {
            "text/plain": [
              "array([[-0.6970084 ],\n",
              "       [-2.560835  ],\n",
              "       [-2.5944424 ],\n",
              "       [ 1.282039  ],\n",
              "       [ 0.54423046],\n",
              "       [-0.76240903],\n",
              "       [ 0.67833126],\n",
              "       [-3.3289652 ],\n",
              "       [-1.4438667 ],\n",
              "       [ 0.47134042],\n",
              "       [-2.2477908 ],\n",
              "       [-2.7471275 ],\n",
              "       [-0.03792602],\n",
              "       [-2.30232   ],\n",
              "       [-3.1757474 ],\n",
              "       [-1.2320429 ],\n",
              "       [ 0.96396244],\n",
              "       [-2.374649  ],\n",
              "       [ 1.6821011 ],\n",
              "       [-2.8580542 ]], dtype=float32)"
            ]
          },
          "metadata": {},
          "execution_count": 19
        }
      ]
    },
    {
      "cell_type": "code",
      "source": [
        "# True values of (w, b) is (0.5, -1)\n",
        "w = model.weight.data.numpy()\n",
        "b = model.bias.data.numpy()\n",
        "print(f\"Weight: {w}, bias: {b}\")"
      ],
      "metadata": {
        "colab": {
          "base_uri": "https://localhost:8080/"
        },
        "id": "EqtuQMLOwH9y",
        "outputId": "f569fce1-f7f8-4081-b46f-65c498648dc0"
      },
      "execution_count": 20,
      "outputs": [
        {
          "output_type": "stream",
          "name": "stdout",
          "text": [
            "Weight: [[0.5249474]], bias: [-0.9029757]\n"
          ]
        }
      ]
    },
    {
      "cell_type": "code",
      "source": [],
      "metadata": {
        "id": "hj57T8AaxUJD"
      },
      "execution_count": null,
      "outputs": []
    }
  ]
}