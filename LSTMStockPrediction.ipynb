{
  "nbformat": 4,
  "nbformat_minor": 0,
  "metadata": {
    "colab": {
      "provenance": []
    },
    "kernelspec": {
      "name": "python3",
      "display_name": "Python 3"
    },
    "language_info": {
      "name": "python"
    },
    "gpuClass": "standard"
  },
  "cells": [
    {
      "cell_type": "code",
      "execution_count": 130,
      "metadata": {
        "id": "FocuCpvCYutY"
      },
      "outputs": [],
      "source": [
        "import torch\n",
        "import torch.nn as nn\n",
        "import numpy as np\n",
        "import pandas as pd\n",
        "import matplotlib.pyplot as plt\n",
        "from sklearn.preprocessing import StandardScaler"
      ]
    },
    {
      "cell_type": "code",
      "source": [
        "df = pd.read_csv(\"https://raw.githubusercontent.com/lazyprogrammer/machine_learning_examples/master/tf2.0/sbux.csv\")"
      ],
      "metadata": {
        "id": "3Oaxv-1-ZDIB"
      },
      "execution_count": 131,
      "outputs": []
    },
    {
      "cell_type": "code",
      "source": [
        "df.head()"
      ],
      "metadata": {
        "colab": {
          "base_uri": "https://localhost:8080/",
          "height": 206
        },
        "id": "2KGFQjo9eBu4",
        "outputId": "40b642df-bbcd-43bf-bd73-bfa398e28e55"
      },
      "execution_count": 132,
      "outputs": [
        {
          "output_type": "execute_result",
          "data": {
            "text/plain": [
              "         date    open    high     low   close   volume  Name\n",
              "0  2013-02-08  27.920  28.325  27.920  28.185  7146296  SBUX\n",
              "1  2013-02-11  28.260  28.260  27.930  28.070  5457354  SBUX\n",
              "2  2013-02-12  28.000  28.275  27.975  28.130  8665592  SBUX\n",
              "3  2013-02-13  28.230  28.230  27.750  27.915  7022056  SBUX\n",
              "4  2013-02-14  27.765  27.905  27.675  27.775  8899188  SBUX"
            ],
            "text/html": [
              "\n",
              "  <div id=\"df-d13b6b33-9720-4b67-b81f-d3161af79f60\">\n",
              "    <div class=\"colab-df-container\">\n",
              "      <div>\n",
              "<style scoped>\n",
              "    .dataframe tbody tr th:only-of-type {\n",
              "        vertical-align: middle;\n",
              "    }\n",
              "\n",
              "    .dataframe tbody tr th {\n",
              "        vertical-align: top;\n",
              "    }\n",
              "\n",
              "    .dataframe thead th {\n",
              "        text-align: right;\n",
              "    }\n",
              "</style>\n",
              "<table border=\"1\" class=\"dataframe\">\n",
              "  <thead>\n",
              "    <tr style=\"text-align: right;\">\n",
              "      <th></th>\n",
              "      <th>date</th>\n",
              "      <th>open</th>\n",
              "      <th>high</th>\n",
              "      <th>low</th>\n",
              "      <th>close</th>\n",
              "      <th>volume</th>\n",
              "      <th>Name</th>\n",
              "    </tr>\n",
              "  </thead>\n",
              "  <tbody>\n",
              "    <tr>\n",
              "      <th>0</th>\n",
              "      <td>2013-02-08</td>\n",
              "      <td>27.920</td>\n",
              "      <td>28.325</td>\n",
              "      <td>27.920</td>\n",
              "      <td>28.185</td>\n",
              "      <td>7146296</td>\n",
              "      <td>SBUX</td>\n",
              "    </tr>\n",
              "    <tr>\n",
              "      <th>1</th>\n",
              "      <td>2013-02-11</td>\n",
              "      <td>28.260</td>\n",
              "      <td>28.260</td>\n",
              "      <td>27.930</td>\n",
              "      <td>28.070</td>\n",
              "      <td>5457354</td>\n",
              "      <td>SBUX</td>\n",
              "    </tr>\n",
              "    <tr>\n",
              "      <th>2</th>\n",
              "      <td>2013-02-12</td>\n",
              "      <td>28.000</td>\n",
              "      <td>28.275</td>\n",
              "      <td>27.975</td>\n",
              "      <td>28.130</td>\n",
              "      <td>8665592</td>\n",
              "      <td>SBUX</td>\n",
              "    </tr>\n",
              "    <tr>\n",
              "      <th>3</th>\n",
              "      <td>2013-02-13</td>\n",
              "      <td>28.230</td>\n",
              "      <td>28.230</td>\n",
              "      <td>27.750</td>\n",
              "      <td>27.915</td>\n",
              "      <td>7022056</td>\n",
              "      <td>SBUX</td>\n",
              "    </tr>\n",
              "    <tr>\n",
              "      <th>4</th>\n",
              "      <td>2013-02-14</td>\n",
              "      <td>27.765</td>\n",
              "      <td>27.905</td>\n",
              "      <td>27.675</td>\n",
              "      <td>27.775</td>\n",
              "      <td>8899188</td>\n",
              "      <td>SBUX</td>\n",
              "    </tr>\n",
              "  </tbody>\n",
              "</table>\n",
              "</div>\n",
              "      <button class=\"colab-df-convert\" onclick=\"convertToInteractive('df-d13b6b33-9720-4b67-b81f-d3161af79f60')\"\n",
              "              title=\"Convert this dataframe to an interactive table.\"\n",
              "              style=\"display:none;\">\n",
              "        \n",
              "  <svg xmlns=\"http://www.w3.org/2000/svg\" height=\"24px\"viewBox=\"0 0 24 24\"\n",
              "       width=\"24px\">\n",
              "    <path d=\"M0 0h24v24H0V0z\" fill=\"none\"/>\n",
              "    <path d=\"M18.56 5.44l.94 2.06.94-2.06 2.06-.94-2.06-.94-.94-2.06-.94 2.06-2.06.94zm-11 1L8.5 8.5l.94-2.06 2.06-.94-2.06-.94L8.5 2.5l-.94 2.06-2.06.94zm10 10l.94 2.06.94-2.06 2.06-.94-2.06-.94-.94-2.06-.94 2.06-2.06.94z\"/><path d=\"M17.41 7.96l-1.37-1.37c-.4-.4-.92-.59-1.43-.59-.52 0-1.04.2-1.43.59L10.3 9.45l-7.72 7.72c-.78.78-.78 2.05 0 2.83L4 21.41c.39.39.9.59 1.41.59.51 0 1.02-.2 1.41-.59l7.78-7.78 2.81-2.81c.8-.78.8-2.07 0-2.86zM5.41 20L4 18.59l7.72-7.72 1.47 1.35L5.41 20z\"/>\n",
              "  </svg>\n",
              "      </button>\n",
              "      \n",
              "  <style>\n",
              "    .colab-df-container {\n",
              "      display:flex;\n",
              "      flex-wrap:wrap;\n",
              "      gap: 12px;\n",
              "    }\n",
              "\n",
              "    .colab-df-convert {\n",
              "      background-color: #E8F0FE;\n",
              "      border: none;\n",
              "      border-radius: 50%;\n",
              "      cursor: pointer;\n",
              "      display: none;\n",
              "      fill: #1967D2;\n",
              "      height: 32px;\n",
              "      padding: 0 0 0 0;\n",
              "      width: 32px;\n",
              "    }\n",
              "\n",
              "    .colab-df-convert:hover {\n",
              "      background-color: #E2EBFA;\n",
              "      box-shadow: 0px 1px 2px rgba(60, 64, 67, 0.3), 0px 1px 3px 1px rgba(60, 64, 67, 0.15);\n",
              "      fill: #174EA6;\n",
              "    }\n",
              "\n",
              "    [theme=dark] .colab-df-convert {\n",
              "      background-color: #3B4455;\n",
              "      fill: #D2E3FC;\n",
              "    }\n",
              "\n",
              "    [theme=dark] .colab-df-convert:hover {\n",
              "      background-color: #434B5C;\n",
              "      box-shadow: 0px 1px 3px 1px rgba(0, 0, 0, 0.15);\n",
              "      filter: drop-shadow(0px 1px 2px rgba(0, 0, 0, 0.3));\n",
              "      fill: #FFFFFF;\n",
              "    }\n",
              "  </style>\n",
              "\n",
              "      <script>\n",
              "        const buttonEl =\n",
              "          document.querySelector('#df-d13b6b33-9720-4b67-b81f-d3161af79f60 button.colab-df-convert');\n",
              "        buttonEl.style.display =\n",
              "          google.colab.kernel.accessAllowed ? 'block' : 'none';\n",
              "\n",
              "        async function convertToInteractive(key) {\n",
              "          const element = document.querySelector('#df-d13b6b33-9720-4b67-b81f-d3161af79f60');\n",
              "          const dataTable =\n",
              "            await google.colab.kernel.invokeFunction('convertToInteractive',\n",
              "                                                     [key], {});\n",
              "          if (!dataTable) return;\n",
              "\n",
              "          const docLinkHtml = 'Like what you see? Visit the ' +\n",
              "            '<a target=\"_blank\" href=https://colab.research.google.com/notebooks/data_table.ipynb>data table notebook</a>'\n",
              "            + ' to learn more about interactive tables.';\n",
              "          element.innerHTML = '';\n",
              "          dataTable['output_type'] = 'display_data';\n",
              "          await google.colab.output.renderOutput(dataTable, element);\n",
              "          const docLink = document.createElement('div');\n",
              "          docLink.innerHTML = docLinkHtml;\n",
              "          element.appendChild(docLink);\n",
              "        }\n",
              "      </script>\n",
              "    </div>\n",
              "  </div>\n",
              "  "
            ]
          },
          "metadata": {},
          "execution_count": 132
        }
      ]
    },
    {
      "cell_type": "code",
      "source": [
        "df.tail()"
      ],
      "metadata": {
        "colab": {
          "base_uri": "https://localhost:8080/",
          "height": 206
        },
        "id": "tWW41fkneCwj",
        "outputId": "9955f1d4-9852-4188-d8be-0f269ed3aa9b"
      },
      "execution_count": 133,
      "outputs": [
        {
          "output_type": "execute_result",
          "data": {
            "text/plain": [
              "            date    open   high    low  close    volume  Name\n",
              "1254  2018-02-01  56.280  56.42  55.89  56.00  14690146  SBUX\n",
              "1255  2018-02-02  55.900  56.32  55.70  55.77  15358909  SBUX\n",
              "1256  2018-02-05  55.530  56.26  54.57  54.69  16059955  SBUX\n",
              "1257  2018-02-06  53.685  56.06  53.56  55.61  17415065  SBUX\n",
              "1258  2018-02-07  55.080  55.43  54.44  54.46  13927022  SBUX"
            ],
            "text/html": [
              "\n",
              "  <div id=\"df-703421a6-c7f8-4d96-b8fb-598f95789b7c\">\n",
              "    <div class=\"colab-df-container\">\n",
              "      <div>\n",
              "<style scoped>\n",
              "    .dataframe tbody tr th:only-of-type {\n",
              "        vertical-align: middle;\n",
              "    }\n",
              "\n",
              "    .dataframe tbody tr th {\n",
              "        vertical-align: top;\n",
              "    }\n",
              "\n",
              "    .dataframe thead th {\n",
              "        text-align: right;\n",
              "    }\n",
              "</style>\n",
              "<table border=\"1\" class=\"dataframe\">\n",
              "  <thead>\n",
              "    <tr style=\"text-align: right;\">\n",
              "      <th></th>\n",
              "      <th>date</th>\n",
              "      <th>open</th>\n",
              "      <th>high</th>\n",
              "      <th>low</th>\n",
              "      <th>close</th>\n",
              "      <th>volume</th>\n",
              "      <th>Name</th>\n",
              "    </tr>\n",
              "  </thead>\n",
              "  <tbody>\n",
              "    <tr>\n",
              "      <th>1254</th>\n",
              "      <td>2018-02-01</td>\n",
              "      <td>56.280</td>\n",
              "      <td>56.42</td>\n",
              "      <td>55.89</td>\n",
              "      <td>56.00</td>\n",
              "      <td>14690146</td>\n",
              "      <td>SBUX</td>\n",
              "    </tr>\n",
              "    <tr>\n",
              "      <th>1255</th>\n",
              "      <td>2018-02-02</td>\n",
              "      <td>55.900</td>\n",
              "      <td>56.32</td>\n",
              "      <td>55.70</td>\n",
              "      <td>55.77</td>\n",
              "      <td>15358909</td>\n",
              "      <td>SBUX</td>\n",
              "    </tr>\n",
              "    <tr>\n",
              "      <th>1256</th>\n",
              "      <td>2018-02-05</td>\n",
              "      <td>55.530</td>\n",
              "      <td>56.26</td>\n",
              "      <td>54.57</td>\n",
              "      <td>54.69</td>\n",
              "      <td>16059955</td>\n",
              "      <td>SBUX</td>\n",
              "    </tr>\n",
              "    <tr>\n",
              "      <th>1257</th>\n",
              "      <td>2018-02-06</td>\n",
              "      <td>53.685</td>\n",
              "      <td>56.06</td>\n",
              "      <td>53.56</td>\n",
              "      <td>55.61</td>\n",
              "      <td>17415065</td>\n",
              "      <td>SBUX</td>\n",
              "    </tr>\n",
              "    <tr>\n",
              "      <th>1258</th>\n",
              "      <td>2018-02-07</td>\n",
              "      <td>55.080</td>\n",
              "      <td>55.43</td>\n",
              "      <td>54.44</td>\n",
              "      <td>54.46</td>\n",
              "      <td>13927022</td>\n",
              "      <td>SBUX</td>\n",
              "    </tr>\n",
              "  </tbody>\n",
              "</table>\n",
              "</div>\n",
              "      <button class=\"colab-df-convert\" onclick=\"convertToInteractive('df-703421a6-c7f8-4d96-b8fb-598f95789b7c')\"\n",
              "              title=\"Convert this dataframe to an interactive table.\"\n",
              "              style=\"display:none;\">\n",
              "        \n",
              "  <svg xmlns=\"http://www.w3.org/2000/svg\" height=\"24px\"viewBox=\"0 0 24 24\"\n",
              "       width=\"24px\">\n",
              "    <path d=\"M0 0h24v24H0V0z\" fill=\"none\"/>\n",
              "    <path d=\"M18.56 5.44l.94 2.06.94-2.06 2.06-.94-2.06-.94-.94-2.06-.94 2.06-2.06.94zm-11 1L8.5 8.5l.94-2.06 2.06-.94-2.06-.94L8.5 2.5l-.94 2.06-2.06.94zm10 10l.94 2.06.94-2.06 2.06-.94-2.06-.94-.94-2.06-.94 2.06-2.06.94z\"/><path d=\"M17.41 7.96l-1.37-1.37c-.4-.4-.92-.59-1.43-.59-.52 0-1.04.2-1.43.59L10.3 9.45l-7.72 7.72c-.78.78-.78 2.05 0 2.83L4 21.41c.39.39.9.59 1.41.59.51 0 1.02-.2 1.41-.59l7.78-7.78 2.81-2.81c.8-.78.8-2.07 0-2.86zM5.41 20L4 18.59l7.72-7.72 1.47 1.35L5.41 20z\"/>\n",
              "  </svg>\n",
              "      </button>\n",
              "      \n",
              "  <style>\n",
              "    .colab-df-container {\n",
              "      display:flex;\n",
              "      flex-wrap:wrap;\n",
              "      gap: 12px;\n",
              "    }\n",
              "\n",
              "    .colab-df-convert {\n",
              "      background-color: #E8F0FE;\n",
              "      border: none;\n",
              "      border-radius: 50%;\n",
              "      cursor: pointer;\n",
              "      display: none;\n",
              "      fill: #1967D2;\n",
              "      height: 32px;\n",
              "      padding: 0 0 0 0;\n",
              "      width: 32px;\n",
              "    }\n",
              "\n",
              "    .colab-df-convert:hover {\n",
              "      background-color: #E2EBFA;\n",
              "      box-shadow: 0px 1px 2px rgba(60, 64, 67, 0.3), 0px 1px 3px 1px rgba(60, 64, 67, 0.15);\n",
              "      fill: #174EA6;\n",
              "    }\n",
              "\n",
              "    [theme=dark] .colab-df-convert {\n",
              "      background-color: #3B4455;\n",
              "      fill: #D2E3FC;\n",
              "    }\n",
              "\n",
              "    [theme=dark] .colab-df-convert:hover {\n",
              "      background-color: #434B5C;\n",
              "      box-shadow: 0px 1px 3px 1px rgba(0, 0, 0, 0.15);\n",
              "      filter: drop-shadow(0px 1px 2px rgba(0, 0, 0, 0.3));\n",
              "      fill: #FFFFFF;\n",
              "    }\n",
              "  </style>\n",
              "\n",
              "      <script>\n",
              "        const buttonEl =\n",
              "          document.querySelector('#df-703421a6-c7f8-4d96-b8fb-598f95789b7c button.colab-df-convert');\n",
              "        buttonEl.style.display =\n",
              "          google.colab.kernel.accessAllowed ? 'block' : 'none';\n",
              "\n",
              "        async function convertToInteractive(key) {\n",
              "          const element = document.querySelector('#df-703421a6-c7f8-4d96-b8fb-598f95789b7c');\n",
              "          const dataTable =\n",
              "            await google.colab.kernel.invokeFunction('convertToInteractive',\n",
              "                                                     [key], {});\n",
              "          if (!dataTable) return;\n",
              "\n",
              "          const docLinkHtml = 'Like what you see? Visit the ' +\n",
              "            '<a target=\"_blank\" href=https://colab.research.google.com/notebooks/data_table.ipynb>data table notebook</a>'\n",
              "            + ' to learn more about interactive tables.';\n",
              "          element.innerHTML = '';\n",
              "          dataTable['output_type'] = 'display_data';\n",
              "          await google.colab.output.renderOutput(dataTable, element);\n",
              "          const docLink = document.createElement('div');\n",
              "          docLink.innerHTML = docLinkHtml;\n",
              "          element.appendChild(docLink);\n",
              "        }\n",
              "      </script>\n",
              "    </div>\n",
              "  </div>\n",
              "  "
            ]
          },
          "metadata": {},
          "execution_count": 133
        }
      ]
    },
    {
      "cell_type": "code",
      "source": [
        "# Start by doing the WRONG thing - trying to predict the price itself\n",
        "series = df[\"close\"].values.reshape(-1, 1)"
      ],
      "metadata": {
        "id": "Z-7Lg3iLeEOL"
      },
      "execution_count": 134,
      "outputs": []
    },
    {
      "cell_type": "code",
      "source": [
        "# Normalize the data\n",
        "scaler = StandardScaler()\n",
        "scaler.fit(series[:len(series) // 2])\n",
        "series = scaler.transform(series).flatten()"
      ],
      "metadata": {
        "id": "by0zDjg-fEWM"
      },
      "execution_count": 135,
      "outputs": []
    },
    {
      "cell_type": "code",
      "source": [
        "T = 20\n",
        "D = 1\n",
        "X = []\n",
        "Y = []\n",
        "\n",
        "for t in range(len(series) - T):\n",
        "  x = series[t:t+T]\n",
        "  y = series[t+T]\n",
        "  X.append(x)\n",
        "  Y.append(y)\n",
        "\n",
        "X = np.array(X).reshape(-1, T, 1) # Now the data should be N x T x D, where D = 1\n",
        "Y = np.array(Y).reshape(-1, 1)\n",
        "N = len(X)\n",
        "print(f\"X.shape: {X.shape}, Y.shape: {Y.shape}\")"
      ],
      "metadata": {
        "colab": {
          "base_uri": "https://localhost:8080/"
        },
        "id": "Qn6mw0c7fnNc",
        "outputId": "028f3653-2d79-4ea5-a289-7725823af4e5"
      },
      "execution_count": 136,
      "outputs": [
        {
          "output_type": "stream",
          "name": "stdout",
          "text": [
            "X.shape: (1239, 20, 1), Y.shape: (1239, 1)\n"
          ]
        }
      ]
    },
    {
      "cell_type": "code",
      "source": [
        "# try autoregressive RNN model\n",
        "class StockLSTM(nn.Module):\n",
        "  def __init__(self, n_inputs, n_hidden, n_rnnlayers, n_outputs):\n",
        "    super(StockLSTM, self).__init__()\n",
        "    self.D = n_inputs\n",
        "    self.M = n_hidden\n",
        "    self.K = n_outputs\n",
        "    self.L = n_rnnlayers\n",
        "\n",
        "    self.rnn = nn.LSTM(\n",
        "        input_size=self.D,\n",
        "        hidden_size=self.M,\n",
        "        num_layers=self.L,\n",
        "        batch_first=True\n",
        "    )\n",
        "\n",
        "    self.fc = nn.Linear(self.M, self.K)\n",
        "  \n",
        "  def forward(self, X):\n",
        "    # initial hidden states\n",
        "    h0 = torch.zeros(self.L, X.size(0), self.M).to(device)\n",
        "    c0 = torch.zeros(self.L, X.size(0), self.M).to(device)\n",
        "\n",
        "    # get RNN unit output\n",
        "    out, _ = self.rnn(X, (h0, c0))\n",
        "\n",
        "    # we only want h(T) at the final time step\n",
        "    out = self.fc(out[:, -1, :])\n",
        "    return out"
      ],
      "metadata": {
        "id": "GKSJDKC0gsnW"
      },
      "execution_count": 137,
      "outputs": []
    },
    {
      "cell_type": "code",
      "source": [
        "model = StockLSTM(n_inputs=1, n_hidden=5, n_rnnlayers=1, n_outputs=1)\n",
        "device = torch.device(\"cuda:0\" if torch.cuda.is_available() else \"cpu\")\n",
        "print(device)\n",
        "model.to(device)"
      ],
      "metadata": {
        "colab": {
          "base_uri": "https://localhost:8080/"
        },
        "id": "xjdc1jX9kWdR",
        "outputId": "c2a8384f-38ad-4326-efec-b044851c1669"
      },
      "execution_count": 138,
      "outputs": [
        {
          "output_type": "stream",
          "name": "stdout",
          "text": [
            "cpu\n"
          ]
        },
        {
          "output_type": "execute_result",
          "data": {
            "text/plain": [
              "StockLSTM(\n",
              "  (rnn): LSTM(1, 5, batch_first=True)\n",
              "  (fc): Linear(in_features=5, out_features=1, bias=True)\n",
              ")"
            ]
          },
          "metadata": {},
          "execution_count": 138
        }
      ]
    },
    {
      "cell_type": "code",
      "source": [
        "# Loss and Optimizer\n",
        "criterion = nn.MSELoss()\n",
        "optimizer = torch.optim.Adam(model.parameters(), lr=0.1)"
      ],
      "metadata": {
        "id": "U1fIrUfCkrQg"
      },
      "execution_count": 139,
      "outputs": []
    },
    {
      "cell_type": "code",
      "source": [
        "# Training\n",
        "def full_gd(model, criterion, optimizer, Xtrain, Ytrain, Xtest, Ytest, epochs=200):\n",
        "\n",
        "  train_losses = np.zeros(epochs)\n",
        "  test_losses = np.zeros(epochs)\n",
        "\n",
        "  for i in range(epochs):\n",
        "\n",
        "    # zero the parameter gradients\n",
        "    optimizer.zero_grad()\n",
        "\n",
        "    # Forward Pass\n",
        "    outputs = model(Xtrain)\n",
        "    loss = criterion(outputs, Ytrain)\n",
        "\n",
        "    # Backward and Optimize\n",
        "    loss.backward()\n",
        "    optimizer.step()\n",
        "    train_losses[i] = loss.item()\n",
        "\n",
        "    # Evaluation\n",
        "    test_outputs = model(Xtest)\n",
        "    test_loss = criterion(test_outputs, Ytest)\n",
        "    test_losses[i] = test_loss.item()\n",
        "\n",
        "    if (i+1) % 5 == 0:\n",
        "      print(f\"Epoch: {i+1}/{epochs}, Train Loss:{train_losses[i]:.4f}, Test Loss:{test_losses[i]:.4f}\")\n",
        "  \n",
        "  return train_losses, test_losses"
      ],
      "metadata": {
        "id": "6VF0qdZ_lB-t"
      },
      "execution_count": 140,
      "outputs": []
    },
    {
      "cell_type": "code",
      "source": [
        "from sklearn.model_selection import train_test_split\n",
        "# Shuffling would not make sense because a real forecasting model has to predict\n",
        "# the future, it can't train on the points within the future.\n",
        "Xtrain, Xtest, Ytrain, Ytest = train_test_split(X, Y, test_size=0.5, shuffle=False)\n",
        "# Checking whether train_test_split function works as expected\n",
        "np.allclose(Xtrain, X[:N//2]) # True"
      ],
      "metadata": {
        "colab": {
          "base_uri": "https://localhost:8080/"
        },
        "id": "9j5Q42jKZHh4",
        "outputId": "ac41bc3f-1496-4c4d-fe43-b7804450867e"
      },
      "execution_count": 141,
      "outputs": [
        {
          "output_type": "execute_result",
          "data": {
            "text/plain": [
              "True"
            ]
          },
          "metadata": {},
          "execution_count": 141
        }
      ]
    },
    {
      "cell_type": "code",
      "source": [
        "# Make inputs and targets\n",
        "Xtrain = torch.from_numpy(Xtrain.astype(np.float32)).to(device)\n",
        "Ytrain = torch.from_numpy(Ytrain.astype(np.float32)).to(device)\n",
        "Xtest = torch.from_numpy(Xtest.astype(np.float32)).to(device)\n",
        "Ytest = torch.from_numpy(Ytest.astype(np.float32)).to(device)"
      ],
      "metadata": {
        "id": "bPfuGya6Z65J"
      },
      "execution_count": 142,
      "outputs": []
    },
    {
      "cell_type": "code",
      "source": [
        "train_losses, test_losses = full_gd(model, criterion, optimizer, Xtrain, Ytrain, Xtest, Ytest)"
      ],
      "metadata": {
        "colab": {
          "base_uri": "https://localhost:8080/"
        },
        "id": "-CCGlaZTaBQt",
        "outputId": "9db6d02c-279c-42f0-ea21-2f5476199f70"
      },
      "execution_count": 143,
      "outputs": [
        {
          "output_type": "stream",
          "name": "stdout",
          "text": [
            "Epoch: 5/200, Train Loss:0.2279, Test Loss:0.7215\n",
            "Epoch: 10/200, Train Loss:0.1021, Test Loss:0.8303\n",
            "Epoch: 15/200, Train Loss:0.0293, Test Loss:0.2398\n",
            "Epoch: 20/200, Train Loss:0.0152, Test Loss:0.0710\n",
            "Epoch: 25/200, Train Loss:0.0160, Test Loss:0.0366\n",
            "Epoch: 30/200, Train Loss:0.0075, Test Loss:0.0385\n",
            "Epoch: 35/200, Train Loss:0.0099, Test Loss:0.0672\n",
            "Epoch: 40/200, Train Loss:0.0071, Test Loss:0.0333\n",
            "Epoch: 45/200, Train Loss:0.0074, Test Loss:0.0280\n",
            "Epoch: 50/200, Train Loss:0.0061, Test Loss:0.0208\n",
            "Epoch: 55/200, Train Loss:0.0063, Test Loss:0.0225\n",
            "Epoch: 60/200, Train Loss:0.0059, Test Loss:0.0185\n",
            "Epoch: 65/200, Train Loss:0.0059, Test Loss:0.0199\n",
            "Epoch: 70/200, Train Loss:0.0057, Test Loss:0.0246\n",
            "Epoch: 75/200, Train Loss:0.0057, Test Loss:0.0259\n",
            "Epoch: 80/200, Train Loss:0.0056, Test Loss:0.0220\n",
            "Epoch: 85/200, Train Loss:0.0056, Test Loss:0.0211\n",
            "Epoch: 90/200, Train Loss:0.0055, Test Loss:0.0225\n",
            "Epoch: 95/200, Train Loss:0.0055, Test Loss:0.0222\n",
            "Epoch: 100/200, Train Loss:0.0055, Test Loss:0.0227\n",
            "Epoch: 105/200, Train Loss:0.0055, Test Loss:0.0226\n",
            "Epoch: 110/200, Train Loss:0.0055, Test Loss:0.0221\n",
            "Epoch: 115/200, Train Loss:0.0054, Test Loss:0.0219\n",
            "Epoch: 120/200, Train Loss:0.0054, Test Loss:0.0221\n",
            "Epoch: 125/200, Train Loss:0.0054, Test Loss:0.0221\n",
            "Epoch: 130/200, Train Loss:0.0054, Test Loss:0.0216\n",
            "Epoch: 135/200, Train Loss:0.0054, Test Loss:0.0215\n",
            "Epoch: 140/200, Train Loss:0.0054, Test Loss:0.0214\n",
            "Epoch: 145/200, Train Loss:0.0054, Test Loss:0.0212\n",
            "Epoch: 150/200, Train Loss:0.0054, Test Loss:0.0210\n",
            "Epoch: 155/200, Train Loss:0.0054, Test Loss:0.0209\n",
            "Epoch: 160/200, Train Loss:0.0054, Test Loss:0.0207\n",
            "Epoch: 165/200, Train Loss:0.0054, Test Loss:0.0205\n",
            "Epoch: 170/200, Train Loss:0.0053, Test Loss:0.0203\n",
            "Epoch: 175/200, Train Loss:0.0053, Test Loss:0.0201\n",
            "Epoch: 180/200, Train Loss:0.0053, Test Loss:0.0200\n",
            "Epoch: 185/200, Train Loss:0.0053, Test Loss:0.0198\n",
            "Epoch: 190/200, Train Loss:0.0053, Test Loss:0.0197\n",
            "Epoch: 195/200, Train Loss:0.0053, Test Loss:0.0195\n",
            "Epoch: 200/200, Train Loss:0.0053, Test Loss:0.0194\n"
          ]
        }
      ]
    },
    {
      "cell_type": "code",
      "source": [
        "plt.plot(train_losses, label='Train Loss')\n",
        "plt.plot(test_losses, label='Test Loss')\n",
        "plt.legend();"
      ],
      "metadata": {
        "colab": {
          "base_uri": "https://localhost:8080/",
          "height": 265
        },
        "id": "yGp4Sd-xbSOf",
        "outputId": "d7d68629-e5b7-4660-d2ca-5e2d77900867"
      },
      "execution_count": 144,
      "outputs": [
        {
          "output_type": "display_data",
          "data": {
            "text/plain": [
              "<Figure size 432x288 with 1 Axes>"
            ],
            "image/png": "[encoded data removed]"
          },
          "metadata": {
            "needs_background": "light"
          }
        }
      ]
    },
    {
      "cell_type": "code",
      "source": [
        "# One step forecast using true targets\n",
        "predictions = []\n",
        "# Index of first validation input\n",
        "i = 0\n",
        "\n",
        "X_on_device = torch.from_numpy(X.astype(np.float32)).to(device)\n",
        "\n",
        "while len(predictions) < len(Ytest):\n",
        "  input_ = X_on_device[i].reshape(1, T, 1)\n",
        "  p = model(input_)[0, 0].item()\n",
        "  i += 1\n",
        "\n",
        "  predictions.append(p)"
      ],
      "metadata": {
        "id": "be28podabcbc"
      },
      "execution_count": 145,
      "outputs": []
    },
    {
      "cell_type": "code",
      "source": [
        "plt.plot(Ytest.cpu().numpy(), label='Forecast Target')\n",
        "plt.plot(predictions, label='Forecast Prediction')\n",
        "plt.legend();"
      ],
      "metadata": {
        "colab": {
          "base_uri": "https://localhost:8080/",
          "height": 265
        },
        "id": "iNI0tLYKfFTZ",
        "outputId": "71c882c8-fad3-4ef5-ee42-1a3caea29df4"
      },
      "execution_count": 146,
      "outputs": [
        {
          "output_type": "display_data",
          "data": {
            "text/plain": [
              "<Figure size 432x288 with 1 Axes>"
            ],
            "image/png": "[encoded data removed]"
          },
          "metadata": {
            "needs_background": "light"
          }
        }
      ]
    },
    {
      "cell_type": "code",
      "source": [
        "# Forecast Future Values (use only self-predictions for making future predictions)\n",
        "predictions = []\n",
        "\n",
        "# last train input\n",
        "# last_x = torch.from_numpy(X[-N//2])\n",
        "# last_x = torch.from_numpy(X[-N//2].astype(np.float32))\n",
        "last_x = Xtest[0].view(T)\n",
        "\n",
        "while len(predictions) < len(Ytest):\n",
        "  input_ = last_x.reshape(1, T, 1)\n",
        "  p = model(input_)\n",
        "  # [0, 0] -> 1 x 1 array -> scalar\n",
        "\n",
        "  predictions.append(p[0, 0].item())\n",
        "\n",
        "  # make the new input \n",
        "  last_x = torch.cat((last_x[1:], p[0]))"
      ],
      "metadata": {
        "id": "jSKKNLT5fX9T"
      },
      "execution_count": 147,
      "outputs": []
    },
    {
      "cell_type": "code",
      "source": [
        "plt.plot(Ytest.cpu().numpy(), label='Forecast Target')\n",
        "plt.plot(predictions, label='Forecast Prediction')\n",
        "plt.legend();"
      ],
      "metadata": {
        "colab": {
          "base_uri": "https://localhost:8080/",
          "height": 265
        },
        "id": "hsUWjA1ZiVk0",
        "outputId": "428ced6b-9867-4590-9fc6-46a83ec0522c"
      },
      "execution_count": 148,
      "outputs": [
        {
          "output_type": "display_data",
          "data": {
            "text/plain": [
              "<Figure size 432x288 with 1 Axes>"
            ],
            "image/png": "[encoded data removed]"
          },
          "metadata": {
            "needs_background": "light"
          }
        }
      ]
    },
    {
      "cell_type": "markdown",
      "source": [
        "# Stock Returns"
      ],
      "metadata": {
        "id": "cW2paW6ZmTRQ"
      }
    },
    {
      "cell_type": "code",
      "source": [
        "# Calculate returns by first shifting the data\n",
        "df[\"prev_close\"] = df[\"close\"].shift(1)"
      ],
      "metadata": {
        "id": "3oMChi04ia0x"
      },
      "execution_count": 149,
      "outputs": []
    },
    {
      "cell_type": "code",
      "source": [
        "df.head()"
      ],
      "metadata": {
        "colab": {
          "base_uri": "https://localhost:8080/",
          "height": 206
        },
        "id": "u7pBFCRbmdCX",
        "outputId": "e46333f5-c4f0-4b3e-d38c-d86f225ba981"
      },
      "execution_count": 150,
      "outputs": [
        {
          "output_type": "execute_result",
          "data": {
            "text/plain": [
              "         date    open    high     low   close   volume  Name  prev_close\n",
              "0  2013-02-08  27.920  28.325  27.920  28.185  7146296  SBUX         NaN\n",
              "1  2013-02-11  28.260  28.260  27.930  28.070  5457354  SBUX      28.185\n",
              "2  2013-02-12  28.000  28.275  27.975  28.130  8665592  SBUX      28.070\n",
              "3  2013-02-13  28.230  28.230  27.750  27.915  7022056  SBUX      28.130\n",
              "4  2013-02-14  27.765  27.905  27.675  27.775  8899188  SBUX      27.915"
            ],
            "text/html": [
              "\n",
              "  <div id=\"df-250a7835-9ab4-45c8-a0b0-11ed6a9025bf\">\n",
              "    <div class=\"colab-df-container\">\n",
              "      <div>\n",
              "<style scoped>\n",
              "    .dataframe tbody tr th:only-of-type {\n",
              "        vertical-align: middle;\n",
              "    }\n",
              "\n",
              "    .dataframe tbody tr th {\n",
              "        vertical-align: top;\n",
              "    }\n",
              "\n",
              "    .dataframe thead th {\n",
              "        text-align: right;\n",
              "    }\n",
              "</style>\n",
              "<table border=\"1\" class=\"dataframe\">\n",
              "  <thead>\n",
              "    <tr style=\"text-align: right;\">\n",
              "      <th></th>\n",
              "      <th>date</th>\n",
              "      <th>open</th>\n",
              "      <th>high</th>\n",
              "      <th>low</th>\n",
              "      <th>close</th>\n",
              "      <th>volume</th>\n",
              "      <th>Name</th>\n",
              "      <th>prev_close</th>\n",
              "    </tr>\n",
              "  </thead>\n",
              "  <tbody>\n",
              "    <tr>\n",
              "      <th>0</th>\n",
              "      <td>2013-02-08</td>\n",
              "      <td>27.920</td>\n",
              "      <td>28.325</td>\n",
              "      <td>27.920</td>\n",
              "      <td>28.185</td>\n",
              "      <td>7146296</td>\n",
              "      <td>SBUX</td>\n",
              "      <td>NaN</td>\n",
              "    </tr>\n",
              "    <tr>\n",
              "      <th>1</th>\n",
              "      <td>2013-02-11</td>\n",
              "      <td>28.260</td>\n",
              "      <td>28.260</td>\n",
              "      <td>27.930</td>\n",
              "      <td>28.070</td>\n",
              "      <td>5457354</td>\n",
              "      <td>SBUX</td>\n",
              "      <td>28.185</td>\n",
              "    </tr>\n",
              "    <tr>\n",
              "      <th>2</th>\n",
              "      <td>2013-02-12</td>\n",
              "      <td>28.000</td>\n",
              "      <td>28.275</td>\n",
              "      <td>27.975</td>\n",
              "      <td>28.130</td>\n",
              "      <td>8665592</td>\n",
              "      <td>SBUX</td>\n",
              "      <td>28.070</td>\n",
              "    </tr>\n",
              "    <tr>\n",
              "      <th>3</th>\n",
              "      <td>2013-02-13</td>\n",
              "      <td>28.230</td>\n",
              "      <td>28.230</td>\n",
              "      <td>27.750</td>\n",
              "      <td>27.915</td>\n",
              "      <td>7022056</td>\n",
              "      <td>SBUX</td>\n",
              "      <td>28.130</td>\n",
              "    </tr>\n",
              "    <tr>\n",
              "      <th>4</th>\n",
              "      <td>2013-02-14</td>\n",
              "      <td>27.765</td>\n",
              "      <td>27.905</td>\n",
              "      <td>27.675</td>\n",
              "      <td>27.775</td>\n",
              "      <td>8899188</td>\n",
              "      <td>SBUX</td>\n",
              "      <td>27.915</td>\n",
              "    </tr>\n",
              "  </tbody>\n",
              "</table>\n",
              "</div>\n",
              "      <button class=\"colab-df-convert\" onclick=\"convertToInteractive('df-250a7835-9ab4-45c8-a0b0-11ed6a9025bf')\"\n",
              "              title=\"Convert this dataframe to an interactive table.\"\n",
              "              style=\"display:none;\">\n",
              "        \n",
              "  <svg xmlns=\"http://www.w3.org/2000/svg\" height=\"24px\"viewBox=\"0 0 24 24\"\n",
              "       width=\"24px\">\n",
              "    <path d=\"M0 0h24v24H0V0z\" fill=\"none\"/>\n",
              "    <path d=\"M18.56 5.44l.94 2.06.94-2.06 2.06-.94-2.06-.94-.94-2.06-.94 2.06-2.06.94zm-11 1L8.5 8.5l.94-2.06 2.06-.94-2.06-.94L8.5 2.5l-.94 2.06-2.06.94zm10 10l.94 2.06.94-2.06 2.06-.94-2.06-.94-.94-2.06-.94 2.06-2.06.94z\"/><path d=\"M17.41 7.96l-1.37-1.37c-.4-.4-.92-.59-1.43-.59-.52 0-1.04.2-1.43.59L10.3 9.45l-7.72 7.72c-.78.78-.78 2.05 0 2.83L4 21.41c.39.39.9.59 1.41.59.51 0 1.02-.2 1.41-.59l7.78-7.78 2.81-2.81c.8-.78.8-2.07 0-2.86zM5.41 20L4 18.59l7.72-7.72 1.47 1.35L5.41 20z\"/>\n",
              "  </svg>\n",
              "      </button>\n",
              "      \n",
              "  <style>\n",
              "    .colab-df-container {\n",
              "      display:flex;\n",
              "      flex-wrap:wrap;\n",
              "      gap: 12px;\n",
              "    }\n",
              "\n",
              "    .colab-df-convert {\n",
              "      background-color: #E8F0FE;\n",
              "      border: none;\n",
              "      border-radius: 50%;\n",
              "      cursor: pointer;\n",
              "      display: none;\n",
              "      fill: #1967D2;\n",
              "      height: 32px;\n",
              "      padding: 0 0 0 0;\n",
              "      width: 32px;\n",
              "    }\n",
              "\n",
              "    .colab-df-convert:hover {\n",
              "      background-color: #E2EBFA;\n",
              "      box-shadow: 0px 1px 2px rgba(60, 64, 67, 0.3), 0px 1px 3px 1px rgba(60, 64, 67, 0.15);\n",
              "      fill: #174EA6;\n",
              "    }\n",
              "\n",
              "    [theme=dark] .colab-df-convert {\n",
              "      background-color: #3B4455;\n",
              "      fill: #D2E3FC;\n",
              "    }\n",
              "\n",
              "    [theme=dark] .colab-df-convert:hover {\n",
              "      background-color: #434B5C;\n",
              "      box-shadow: 0px 1px 3px 1px rgba(0, 0, 0, 0.15);\n",
              "      filter: drop-shadow(0px 1px 2px rgba(0, 0, 0, 0.3));\n",
              "      fill: #FFFFFF;\n",
              "    }\n",
              "  </style>\n",
              "\n",
              "      <script>\n",
              "        const buttonEl =\n",
              "          document.querySelector('#df-250a7835-9ab4-45c8-a0b0-11ed6a9025bf button.colab-df-convert');\n",
              "        buttonEl.style.display =\n",
              "          google.colab.kernel.accessAllowed ? 'block' : 'none';\n",
              "\n",
              "        async function convertToInteractive(key) {\n",
              "          const element = document.querySelector('#df-250a7835-9ab4-45c8-a0b0-11ed6a9025bf');\n",
              "          const dataTable =\n",
              "            await google.colab.kernel.invokeFunction('convertToInteractive',\n",
              "                                                     [key], {});\n",
              "          if (!dataTable) return;\n",
              "\n",
              "          const docLinkHtml = 'Like what you see? Visit the ' +\n",
              "            '<a target=\"_blank\" href=https://colab.research.google.com/notebooks/data_table.ipynb>data table notebook</a>'\n",
              "            + ' to learn more about interactive tables.';\n",
              "          element.innerHTML = '';\n",
              "          dataTable['output_type'] = 'display_data';\n",
              "          await google.colab.output.renderOutput(dataTable, element);\n",
              "          const docLink = document.createElement('div');\n",
              "          docLink.innerHTML = docLinkHtml;\n",
              "          element.appendChild(docLink);\n",
              "        }\n",
              "      </script>\n",
              "    </div>\n",
              "  </div>\n",
              "  "
            ]
          },
          "metadata": {},
          "execution_count": 150
        }
      ]
    },
    {
      "cell_type": "code",
      "source": [
        "df[\"return\"] = (df[\"close\"] - df[\"prev_close\"]) / df[\"prev_close\"]"
      ],
      "metadata": {
        "id": "XZ3eOwahmuEM"
      },
      "execution_count": 151,
      "outputs": []
    },
    {
      "cell_type": "code",
      "source": [
        "df.head()"
      ],
      "metadata": {
        "colab": {
          "base_uri": "https://localhost:8080/",
          "height": 206
        },
        "id": "6fHDmVlsnCTo",
        "outputId": "44e8b570-9c0c-47ea-eaa2-40670efa93fd"
      },
      "execution_count": 152,
      "outputs": [
        {
          "output_type": "execute_result",
          "data": {
            "text/plain": [
              "         date    open    high     low   close   volume  Name  prev_close  \\\n",
              "0  2013-02-08  27.920  28.325  27.920  28.185  7146296  SBUX         NaN   \n",
              "1  2013-02-11  28.260  28.260  27.930  28.070  5457354  SBUX      28.185   \n",
              "2  2013-02-12  28.000  28.275  27.975  28.130  8665592  SBUX      28.070   \n",
              "3  2013-02-13  28.230  28.230  27.750  27.915  7022056  SBUX      28.130   \n",
              "4  2013-02-14  27.765  27.905  27.675  27.775  8899188  SBUX      27.915   \n",
              "\n",
              "     return  \n",
              "0       NaN  \n",
              "1 -0.004080  \n",
              "2  0.002138  \n",
              "3 -0.007643  \n",
              "4 -0.005015  "
            ],
            "text/html": [
              "\n",
              "  <div id=\"df-1ea6000c-7ada-463a-83d0-1fb0e5a15a21\">\n",
              "    <div class=\"colab-df-container\">\n",
              "      <div>\n",
              "<style scoped>\n",
              "    .dataframe tbody tr th:only-of-type {\n",
              "        vertical-align: middle;\n",
              "    }\n",
              "\n",
              "    .dataframe tbody tr th {\n",
              "        vertical-align: top;\n",
              "    }\n",
              "\n",
              "    .dataframe thead th {\n",
              "        text-align: right;\n",
              "    }\n",
              "</style>\n",
              "<table border=\"1\" class=\"dataframe\">\n",
              "  <thead>\n",
              "    <tr style=\"text-align: right;\">\n",
              "      <th></th>\n",
              "      <th>date</th>\n",
              "      <th>open</th>\n",
              "      <th>high</th>\n",
              "      <th>low</th>\n",
              "      <th>close</th>\n",
              "      <th>volume</th>\n",
              "      <th>Name</th>\n",
              "      <th>prev_close</th>\n",
              "      <th>return</th>\n",
              "    </tr>\n",
              "  </thead>\n",
              "  <tbody>\n",
              "    <tr>\n",
              "      <th>0</th>\n",
              "      <td>2013-02-08</td>\n",
              "      <td>27.920</td>\n",
              "      <td>28.325</td>\n",
              "      <td>27.920</td>\n",
              "      <td>28.185</td>\n",
              "      <td>7146296</td>\n",
              "      <td>SBUX</td>\n",
              "      <td>NaN</td>\n",
              "      <td>NaN</td>\n",
              "    </tr>\n",
              "    <tr>\n",
              "      <th>1</th>\n",
              "      <td>2013-02-11</td>\n",
              "      <td>28.260</td>\n",
              "      <td>28.260</td>\n",
              "      <td>27.930</td>\n",
              "      <td>28.070</td>\n",
              "      <td>5457354</td>\n",
              "      <td>SBUX</td>\n",
              "      <td>28.185</td>\n",
              "      <td>-0.004080</td>\n",
              "    </tr>\n",
              "    <tr>\n",
              "      <th>2</th>\n",
              "      <td>2013-02-12</td>\n",
              "      <td>28.000</td>\n",
              "      <td>28.275</td>\n",
              "      <td>27.975</td>\n",
              "      <td>28.130</td>\n",
              "      <td>8665592</td>\n",
              "      <td>SBUX</td>\n",
              "      <td>28.070</td>\n",
              "      <td>0.002138</td>\n",
              "    </tr>\n",
              "    <tr>\n",
              "      <th>3</th>\n",
              "      <td>2013-02-13</td>\n",
              "      <td>28.230</td>\n",
              "      <td>28.230</td>\n",
              "      <td>27.750</td>\n",
              "      <td>27.915</td>\n",
              "      <td>7022056</td>\n",
              "      <td>SBUX</td>\n",
              "      <td>28.130</td>\n",
              "      <td>-0.007643</td>\n",
              "    </tr>\n",
              "    <tr>\n",
              "      <th>4</th>\n",
              "      <td>2013-02-14</td>\n",
              "      <td>27.765</td>\n",
              "      <td>27.905</td>\n",
              "      <td>27.675</td>\n",
              "      <td>27.775</td>\n",
              "      <td>8899188</td>\n",
              "      <td>SBUX</td>\n",
              "      <td>27.915</td>\n",
              "      <td>-0.005015</td>\n",
              "    </tr>\n",
              "  </tbody>\n",
              "</table>\n",
              "</div>\n",
              "      <button class=\"colab-df-convert\" onclick=\"convertToInteractive('df-1ea6000c-7ada-463a-83d0-1fb0e5a15a21')\"\n",
              "              title=\"Convert this dataframe to an interactive table.\"\n",
              "              style=\"display:none;\">\n",
              "        \n",
              "  <svg xmlns=\"http://www.w3.org/2000/svg\" height=\"24px\"viewBox=\"0 0 24 24\"\n",
              "       width=\"24px\">\n",
              "    <path d=\"M0 0h24v24H0V0z\" fill=\"none\"/>\n",
              "    <path d=\"M18.56 5.44l.94 2.06.94-2.06 2.06-.94-2.06-.94-.94-2.06-.94 2.06-2.06.94zm-11 1L8.5 8.5l.94-2.06 2.06-.94-2.06-.94L8.5 2.5l-.94 2.06-2.06.94zm10 10l.94 2.06.94-2.06 2.06-.94-2.06-.94-.94-2.06-.94 2.06-2.06.94z\"/><path d=\"M17.41 7.96l-1.37-1.37c-.4-.4-.92-.59-1.43-.59-.52 0-1.04.2-1.43.59L10.3 9.45l-7.72 7.72c-.78.78-.78 2.05 0 2.83L4 21.41c.39.39.9.59 1.41.59.51 0 1.02-.2 1.41-.59l7.78-7.78 2.81-2.81c.8-.78.8-2.07 0-2.86zM5.41 20L4 18.59l7.72-7.72 1.47 1.35L5.41 20z\"/>\n",
              "  </svg>\n",
              "      </button>\n",
              "      \n",
              "  <style>\n",
              "    .colab-df-container {\n",
              "      display:flex;\n",
              "      flex-wrap:wrap;\n",
              "      gap: 12px;\n",
              "    }\n",
              "\n",
              "    .colab-df-convert {\n",
              "      background-color: #E8F0FE;\n",
              "      border: none;\n",
              "      border-radius: 50%;\n",
              "      cursor: pointer;\n",
              "      display: none;\n",
              "      fill: #1967D2;\n",
              "      height: 32px;\n",
              "      padding: 0 0 0 0;\n",
              "      width: 32px;\n",
              "    }\n",
              "\n",
              "    .colab-df-convert:hover {\n",
              "      background-color: #E2EBFA;\n",
              "      box-shadow: 0px 1px 2px rgba(60, 64, 67, 0.3), 0px 1px 3px 1px rgba(60, 64, 67, 0.15);\n",
              "      fill: #174EA6;\n",
              "    }\n",
              "\n",
              "    [theme=dark] .colab-df-convert {\n",
              "      background-color: #3B4455;\n",
              "      fill: #D2E3FC;\n",
              "    }\n",
              "\n",
              "    [theme=dark] .colab-df-convert:hover {\n",
              "      background-color: #434B5C;\n",
              "      box-shadow: 0px 1px 3px 1px rgba(0, 0, 0, 0.15);\n",
              "      filter: drop-shadow(0px 1px 2px rgba(0, 0, 0, 0.3));\n",
              "      fill: #FFFFFF;\n",
              "    }\n",
              "  </style>\n",
              "\n",
              "      <script>\n",
              "        const buttonEl =\n",
              "          document.querySelector('#df-1ea6000c-7ada-463a-83d0-1fb0e5a15a21 button.colab-df-convert');\n",
              "        buttonEl.style.display =\n",
              "          google.colab.kernel.accessAllowed ? 'block' : 'none';\n",
              "\n",
              "        async function convertToInteractive(key) {\n",
              "          const element = document.querySelector('#df-1ea6000c-7ada-463a-83d0-1fb0e5a15a21');\n",
              "          const dataTable =\n",
              "            await google.colab.kernel.invokeFunction('convertToInteractive',\n",
              "                                                     [key], {});\n",
              "          if (!dataTable) return;\n",
              "\n",
              "          const docLinkHtml = 'Like what you see? Visit the ' +\n",
              "            '<a target=\"_blank\" href=https://colab.research.google.com/notebooks/data_table.ipynb>data table notebook</a>'\n",
              "            + ' to learn more about interactive tables.';\n",
              "          element.innerHTML = '';\n",
              "          dataTable['output_type'] = 'display_data';\n",
              "          await google.colab.output.renderOutput(dataTable, element);\n",
              "          const docLink = document.createElement('div');\n",
              "          docLink.innerHTML = docLinkHtml;\n",
              "          element.appendChild(docLink);\n",
              "        }\n",
              "      </script>\n",
              "    </div>\n",
              "  </div>\n",
              "  "
            ]
          },
          "metadata": {},
          "execution_count": 152
        }
      ]
    },
    {
      "cell_type": "code",
      "source": [
        "plt.plot(df[\"return\"]);"
      ],
      "metadata": {
        "colab": {
          "base_uri": "https://localhost:8080/",
          "height": 265
        },
        "id": "TxeYalxxnFPT",
        "outputId": "2ed3df9a-0853-4f88-ee58-11203f2b48c7"
      },
      "execution_count": 153,
      "outputs": [
        {
          "output_type": "display_data",
          "data": {
            "text/plain": [
              "<Figure size 432x288 with 1 Axes>"
            ],
            "image/png": "[encoded data removed]"
          },
          "metadata": {
            "needs_background": "light"
          }
        }
      ]
    },
    {
      "cell_type": "code",
      "source": [
        "df[\"return\"].hist();"
      ],
      "metadata": {
        "colab": {
          "base_uri": "https://localhost:8080/",
          "height": 265
        },
        "id": "VUD3e9BTnOkG",
        "outputId": "4a7acbee-f537-4a3a-b89a-686adaff67bd"
      },
      "execution_count": 155,
      "outputs": [
        {
          "output_type": "display_data",
          "data": {
            "text/plain": [
              "<Figure size 432x288 with 1 Axes>"
            ],
            "image/png": "[encoded data removed]"
          },
          "metadata": {
            "needs_background": "light"
          }
        }
      ]
    },
    {
      "cell_type": "code",
      "source": [
        "df[\"return\"].values[0]"
      ],
      "metadata": {
        "colab": {
          "base_uri": "https://localhost:8080/"
        },
        "id": "n2o9H4Yv-RJ7",
        "outputId": "ec1cedaf-3fd6-4374-c611-2ea39a0842da"
      },
      "execution_count": 156,
      "outputs": [
        {
          "output_type": "execute_result",
          "data": {
            "text/plain": [
              "nan"
            ]
          },
          "metadata": {},
          "execution_count": 156
        }
      ]
    },
    {
      "cell_type": "code",
      "source": [
        "series = df[\"return\"].values[1:].reshape(-1, 1)\n",
        "# Normalize the data\n",
        "scaler = StandardScaler()\n",
        "scaler.fit(series[:len(series)//2])\n",
        "series = scaler.transform(series).flatten()"
      ],
      "metadata": {
        "id": "4cLsM0f-_Lrc"
      },
      "execution_count": 183,
      "outputs": []
    },
    {
      "cell_type": "code",
      "source": [
        "T = 20\n",
        "D = 1\n",
        "X = []\n",
        "Y = []\n",
        "for t in range(len(series) - T):\n",
        "  x = series[t:t+T]\n",
        "  y = series[t+T]\n",
        "  X.append(x)\n",
        "  Y.append(y)\n",
        "\n",
        "X = np.array(X).reshape(-1, T, 1)\n",
        "Y = np.array(Y).reshape(-1, 1)\n",
        "N = len(X)\n",
        "print(f\"X.shape: {X.shape}, Y.shape: {Y.shape}\")"
      ],
      "metadata": {
        "colab": {
          "base_uri": "https://localhost:8080/"
        },
        "id": "TIyx9_d6_k0W",
        "outputId": "23e4e5a4-ad9d-4e84-d1d5-de3e5fe3e71f"
      },
      "execution_count": 184,
      "outputs": [
        {
          "output_type": "stream",
          "name": "stdout",
          "text": [
            "X.shape: (1238, 20, 1), Y.shape: (1238, 1)\n"
          ]
        }
      ]
    },
    {
      "cell_type": "code",
      "source": [
        "model = StockLSTM(n_inputs=1, n_hidden=5, n_rnnlayers=1, n_outputs=1)\n",
        "device = torch.device(\"cuda:0\" if torch.cuda.is_available() else \"cpu\")\n",
        "print(device)\n",
        "model.to(device)"
      ],
      "metadata": {
        "colab": {
          "base_uri": "https://localhost:8080/"
        },
        "id": "-NCfieEMAbT0",
        "outputId": "7fbb2c07-5d6d-4571-c0ea-0462ee54e8fc"
      },
      "execution_count": 185,
      "outputs": [
        {
          "output_type": "stream",
          "name": "stdout",
          "text": [
            "cpu\n"
          ]
        },
        {
          "output_type": "execute_result",
          "data": {
            "text/plain": [
              "StockLSTM(\n",
              "  (rnn): LSTM(1, 5, batch_first=True)\n",
              "  (fc): Linear(in_features=5, out_features=1, bias=True)\n",
              ")"
            ]
          },
          "metadata": {},
          "execution_count": 185
        }
      ]
    },
    {
      "cell_type": "code",
      "source": [
        "# Loss and Optimizer\n",
        "criterion = nn.MSELoss()\n",
        "optimizer = torch.optim.Adam(model.parameters(), lr=0.1)"
      ],
      "metadata": {
        "id": "yCs7KdPCAlZX"
      },
      "execution_count": 186,
      "outputs": []
    },
    {
      "cell_type": "code",
      "source": [
        "from sklearn.model_selection import train_test_split\n",
        "# Shuffling would not make sense because a real forecasting model has to predict\n",
        "# the future, it can't train on the points within the future.\n",
        "Xtrain, Xtest, Ytrain, Ytest = train_test_split(X, Y, test_size=0.5, shuffle=False)\n",
        "# Checking whether train_test_split function works as expected\n",
        "np.allclose(Xtrain, X[:N//2]) # True"
      ],
      "metadata": {
        "colab": {
          "base_uri": "https://localhost:8080/"
        },
        "id": "a1O5vsKbBWuD",
        "outputId": "9066cb58-cda9-422b-af65-9058f61f8bba"
      },
      "execution_count": 187,
      "outputs": [
        {
          "output_type": "execute_result",
          "data": {
            "text/plain": [
              "True"
            ]
          },
          "metadata": {},
          "execution_count": 187
        }
      ]
    },
    {
      "cell_type": "code",
      "source": [
        "# Make inputs and targets\n",
        "Xtrain = torch.from_numpy(Xtrain.astype(np.float32)).to(device)\n",
        "Ytrain = torch.from_numpy(Ytrain.astype(np.float32)).to(device)\n",
        "Xtest = torch.from_numpy(Xtest.astype(np.float32)).to(device)\n",
        "Ytest = torch.from_numpy(Ytest.astype(np.float32)).to(device)"
      ],
      "metadata": {
        "id": "iA2G0x_xBb88"
      },
      "execution_count": 188,
      "outputs": []
    },
    {
      "cell_type": "code",
      "source": [
        "train_losses, test_losses = full_gd(model, criterion, optimizer, Xtrain, Ytrain, Xtest, Ytest, 600)"
      ],
      "metadata": {
        "colab": {
          "base_uri": "https://localhost:8080/"
        },
        "id": "tvumXQP2AoYZ",
        "outputId": "e947b414-607e-4d0f-c2dd-b6b7edf21242"
      },
      "execution_count": 189,
      "outputs": [
        {
          "output_type": "stream",
          "name": "stdout",
          "text": [
            "Epoch: 5/600, Train Loss:1.0561, Test Loss:1.0692\n",
            "Epoch: 10/600, Train Loss:1.0537, Test Loss:1.0804\n",
            "Epoch: 15/600, Train Loss:1.0489, Test Loss:1.0700\n",
            "Epoch: 20/600, Train Loss:1.0416, Test Loss:1.0816\n",
            "Epoch: 25/600, Train Loss:1.0330, Test Loss:1.0971\n",
            "Epoch: 30/600, Train Loss:1.0287, Test Loss:1.0816\n",
            "Epoch: 35/600, Train Loss:1.0188, Test Loss:1.1068\n",
            "Epoch: 40/600, Train Loss:1.0103, Test Loss:1.1245\n",
            "Epoch: 45/600, Train Loss:1.0190, Test Loss:1.1169\n",
            "Epoch: 50/600, Train Loss:0.9977, Test Loss:1.1548\n",
            "Epoch: 55/600, Train Loss:0.9814, Test Loss:1.1947\n",
            "Epoch: 60/600, Train Loss:0.9529, Test Loss:1.1943\n",
            "Epoch: 65/600, Train Loss:0.9409, Test Loss:1.2893\n",
            "Epoch: 70/600, Train Loss:0.9755, Test Loss:1.1883\n",
            "Epoch: 75/600, Train Loss:0.9646, Test Loss:1.2216\n",
            "Epoch: 80/600, Train Loss:0.9576, Test Loss:1.2329\n",
            "Epoch: 85/600, Train Loss:0.9494, Test Loss:1.2346\n",
            "Epoch: 90/600, Train Loss:0.9418, Test Loss:1.2271\n",
            "Epoch: 95/600, Train Loss:0.9305, Test Loss:1.2376\n",
            "Epoch: 100/600, Train Loss:0.9414, Test Loss:1.2060\n",
            "Epoch: 105/600, Train Loss:0.9280, Test Loss:1.2174\n",
            "Epoch: 110/600, Train Loss:0.9103, Test Loss:1.2606\n",
            "Epoch: 115/600, Train Loss:0.8992, Test Loss:1.2804\n",
            "Epoch: 120/600, Train Loss:0.9254, Test Loss:1.2665\n",
            "Epoch: 125/600, Train Loss:0.9068, Test Loss:1.2380\n",
            "Epoch: 130/600, Train Loss:0.8834, Test Loss:1.3079\n",
            "Epoch: 135/600, Train Loss:0.8707, Test Loss:1.2593\n",
            "Epoch: 140/600, Train Loss:0.8729, Test Loss:1.2838\n",
            "Epoch: 145/600, Train Loss:1.0146, Test Loss:1.2640\n",
            "Epoch: 150/600, Train Loss:0.9652, Test Loss:1.1450\n",
            "Epoch: 155/600, Train Loss:0.9692, Test Loss:1.1219\n",
            "Epoch: 160/600, Train Loss:0.9513, Test Loss:1.1828\n",
            "Epoch: 165/600, Train Loss:0.9253, Test Loss:1.2452\n",
            "Epoch: 170/600, Train Loss:0.9038, Test Loss:1.2231\n",
            "Epoch: 175/600, Train Loss:0.8930, Test Loss:1.2527\n",
            "Epoch: 180/600, Train Loss:0.9401, Test Loss:1.2617\n",
            "Epoch: 185/600, Train Loss:0.8890, Test Loss:1.2017\n",
            "Epoch: 190/600, Train Loss:0.8793, Test Loss:1.2457\n",
            "Epoch: 195/600, Train Loss:0.8724, Test Loss:1.2363\n",
            "Epoch: 200/600, Train Loss:0.9437, Test Loss:1.3983\n",
            "Epoch: 205/600, Train Loss:0.8974, Test Loss:1.2430\n",
            "Epoch: 210/600, Train Loss:0.9675, Test Loss:1.2564\n",
            "Epoch: 215/600, Train Loss:0.9877, Test Loss:1.1289\n",
            "Epoch: 220/600, Train Loss:0.9732, Test Loss:1.1690\n",
            "Epoch: 225/600, Train Loss:0.9613, Test Loss:1.2000\n",
            "Epoch: 230/600, Train Loss:0.9414, Test Loss:1.2029\n",
            "Epoch: 235/600, Train Loss:0.9272, Test Loss:1.2286\n",
            "Epoch: 240/600, Train Loss:0.9192, Test Loss:1.2697\n",
            "Epoch: 245/600, Train Loss:0.9080, Test Loss:1.2676\n",
            "Epoch: 250/600, Train Loss:0.9026, Test Loss:1.2697\n",
            "Epoch: 255/600, Train Loss:0.8895, Test Loss:1.3513\n",
            "Epoch: 260/600, Train Loss:0.8912, Test Loss:1.3852\n",
            "Epoch: 265/600, Train Loss:0.9159, Test Loss:1.3658\n",
            "Epoch: 270/600, Train Loss:0.9021, Test Loss:1.3209\n",
            "Epoch: 275/600, Train Loss:0.8792, Test Loss:1.3947\n",
            "Epoch: 280/600, Train Loss:0.8689, Test Loss:1.4347\n",
            "Epoch: 285/600, Train Loss:0.9329, Test Loss:1.4541\n",
            "Epoch: 290/600, Train Loss:0.8984, Test Loss:1.3615\n",
            "Epoch: 295/600, Train Loss:0.9076, Test Loss:1.3794\n",
            "Epoch: 300/600, Train Loss:0.9063, Test Loss:1.3405\n",
            "Epoch: 305/600, Train Loss:0.9653, Test Loss:1.2333\n",
            "Epoch: 310/600, Train Loss:0.9635, Test Loss:1.2911\n",
            "Epoch: 315/600, Train Loss:0.9266, Test Loss:1.3085\n",
            "Epoch: 320/600, Train Loss:0.9161, Test Loss:1.3641\n",
            "Epoch: 325/600, Train Loss:0.8962, Test Loss:1.3506\n",
            "Epoch: 330/600, Train Loss:0.8770, Test Loss:1.3721\n",
            "Epoch: 335/600, Train Loss:0.8990, Test Loss:1.3369\n",
            "Epoch: 340/600, Train Loss:0.8832, Test Loss:1.2951\n",
            "Epoch: 345/600, Train Loss:0.8725, Test Loss:1.2785\n",
            "Epoch: 350/600, Train Loss:0.8484, Test Loss:1.3829\n",
            "Epoch: 355/600, Train Loss:0.8494, Test Loss:1.4200\n",
            "Epoch: 360/600, Train Loss:0.9191, Test Loss:1.3057\n",
            "Epoch: 365/600, Train Loss:1.0020, Test Loss:1.2026\n",
            "Epoch: 370/600, Train Loss:1.0195, Test Loss:1.1513\n",
            "Epoch: 375/600, Train Loss:1.0058, Test Loss:1.1198\n",
            "Epoch: 380/600, Train Loss:0.9821, Test Loss:1.1773\n",
            "Epoch: 385/600, Train Loss:0.9377, Test Loss:1.2709\n",
            "Epoch: 390/600, Train Loss:0.9408, Test Loss:1.3232\n",
            "Epoch: 395/600, Train Loss:0.9352, Test Loss:1.2925\n",
            "Epoch: 400/600, Train Loss:0.8965, Test Loss:1.3139\n",
            "Epoch: 405/600, Train Loss:0.9670, Test Loss:1.2833\n",
            "Epoch: 410/600, Train Loss:0.9578, Test Loss:1.1985\n",
            "Epoch: 415/600, Train Loss:0.9379, Test Loss:1.1811\n",
            "Epoch: 420/600, Train Loss:0.9182, Test Loss:1.2430\n",
            "Epoch: 425/600, Train Loss:0.9114, Test Loss:1.3123\n",
            "Epoch: 430/600, Train Loss:0.9137, Test Loss:1.1916\n",
            "Epoch: 435/600, Train Loss:1.0300, Test Loss:1.1861\n",
            "Epoch: 440/600, Train Loss:1.0286, Test Loss:1.1312\n",
            "Epoch: 445/600, Train Loss:1.0190, Test Loss:1.1230\n",
            "Epoch: 450/600, Train Loss:1.0073, Test Loss:1.1681\n",
            "Epoch: 455/600, Train Loss:0.9961, Test Loss:1.1719\n",
            "Epoch: 460/600, Train Loss:0.9790, Test Loss:1.1566\n",
            "Epoch: 465/600, Train Loss:0.9818, Test Loss:1.1869\n",
            "Epoch: 470/600, Train Loss:0.9862, Test Loss:1.1940\n",
            "Epoch: 475/600, Train Loss:0.9774, Test Loss:1.1641\n",
            "Epoch: 480/600, Train Loss:0.9742, Test Loss:1.1713\n",
            "Epoch: 485/600, Train Loss:0.9736, Test Loss:1.2010\n",
            "Epoch: 490/600, Train Loss:0.9701, Test Loss:1.1978\n",
            "Epoch: 495/600, Train Loss:0.9656, Test Loss:1.1886\n",
            "Epoch: 500/600, Train Loss:0.9609, Test Loss:1.2092\n",
            "Epoch: 505/600, Train Loss:0.9585, Test Loss:1.2075\n",
            "Epoch: 510/600, Train Loss:0.9512, Test Loss:1.2124\n",
            "Epoch: 515/600, Train Loss:0.9425, Test Loss:1.2308\n",
            "Epoch: 520/600, Train Loss:0.9352, Test Loss:1.2503\n",
            "Epoch: 525/600, Train Loss:0.9238, Test Loss:1.2683\n",
            "Epoch: 530/600, Train Loss:0.9150, Test Loss:1.2880\n",
            "Epoch: 535/600, Train Loss:0.9104, Test Loss:1.2920\n",
            "Epoch: 540/600, Train Loss:0.9055, Test Loss:1.3042\n",
            "Epoch: 545/600, Train Loss:0.9194, Test Loss:1.2835\n",
            "Epoch: 550/600, Train Loss:0.9154, Test Loss:1.2226\n",
            "Epoch: 555/600, Train Loss:0.9009, Test Loss:1.2092\n",
            "Epoch: 560/600, Train Loss:0.8890, Test Loss:1.2491\n",
            "Epoch: 565/600, Train Loss:0.8849, Test Loss:1.2954\n",
            "Epoch: 570/600, Train Loss:0.8875, Test Loss:1.3127\n",
            "Epoch: 575/600, Train Loss:0.8824, Test Loss:1.3543\n",
            "Epoch: 580/600, Train Loss:0.8762, Test Loss:1.3391\n",
            "Epoch: 585/600, Train Loss:1.0181, Test Loss:1.3621\n",
            "Epoch: 590/600, Train Loss:1.1018, Test Loss:1.1531\n",
            "Epoch: 595/600, Train Loss:1.1133, Test Loss:1.0848\n",
            "Epoch: 600/600, Train Loss:1.0656, Test Loss:1.0937\n"
          ]
        }
      ]
    },
    {
      "cell_type": "code",
      "source": [
        "plt.plot(train_losses, label='Train Loss')\n",
        "plt.plot(test_losses, label='Test Loss')\n",
        "plt.legend();"
      ],
      "metadata": {
        "colab": {
          "base_uri": "https://localhost:8080/",
          "height": 265
        },
        "id": "VEjcN04GApAu",
        "outputId": "87516745-46ff-402f-d301-331fd473a58e"
      },
      "execution_count": 190,
      "outputs": [
        {
          "output_type": "display_data",
          "data": {
            "text/plain": [
              "<Figure size 432x288 with 1 Axes>"
            ],
            "image/png": "[encoded data removed]"
          },
          "metadata": {
            "needs_background": "light"
          }
        }
      ]
    },
    {
      "cell_type": "code",
      "source": [
        "# One step forecast using true targets\n",
        "predictions = []\n",
        "# Index of first validation input\n",
        "i = 0\n",
        "\n",
        "X_on_device = torch.from_numpy(X.astype(np.float32)).to(device)\n",
        "\n",
        "while len(predictions) < len(Ytest):\n",
        "  input_ = X_on_device[i].reshape(1, T, 1)\n",
        "  p = model(input_)[0, 0].item()\n",
        "  i += 1\n",
        "\n",
        "  predictions.append(p)"
      ],
      "metadata": {
        "id": "3XlA86fjAy3s"
      },
      "execution_count": 191,
      "outputs": []
    },
    {
      "cell_type": "code",
      "source": [
        "plt.plot(Ytest.cpu().numpy(), label='Forecast Target')\n",
        "plt.plot(predictions, label='Forecast Prediction')\n",
        "plt.legend();"
      ],
      "metadata": {
        "colab": {
          "base_uri": "https://localhost:8080/",
          "height": 265
        },
        "outputId": "7331d1ab-34eb-4237-e3e9-6858c2a68b09",
        "id": "OvHJg534A7J2"
      },
      "execution_count": 192,
      "outputs": [
        {
          "output_type": "display_data",
          "data": {
            "text/plain": [
              "<Figure size 432x288 with 1 Axes>"
            ],
            "image/png": "[encoded data removed]"
          },
          "metadata": {
            "needs_background": "light"
          }
        }
      ]
    },
    {
      "cell_type": "code",
      "source": [
        "# Forecast Future Values (use only self-predictions for making future predictions)\n",
        "predictions = []\n",
        "\n",
        "# last train input\n",
        "# last_x = torch.from_numpy(X[-N//2])\n",
        "# last_x = torch.from_numpy(X[-N//2].astype(np.float32))\n",
        "last_x = Xtest[0].view(T)\n",
        "\n",
        "while len(predictions) < len(Ytest):\n",
        "  input_ = last_x.reshape(1, T, 1)\n",
        "  p = model(input_)\n",
        "  # [0, 0] -> 1 x 1 array -> scalar\n",
        "\n",
        "  predictions.append(p[0, 0].item())\n",
        "\n",
        "  # make the new input \n",
        "  last_x = torch.cat((last_x[1:], p[0]))"
      ],
      "metadata": {
        "id": "ZOjZNa40A7KL"
      },
      "execution_count": 193,
      "outputs": []
    },
    {
      "cell_type": "code",
      "source": [
        "plt.plot(Ytest.cpu().numpy(), label='Forecast Target')\n",
        "plt.plot(predictions, label='Forecast Prediction')\n",
        "plt.legend();"
      ],
      "metadata": {
        "colab": {
          "base_uri": "https://localhost:8080/",
          "height": 265
        },
        "outputId": "f8ccebf5-9174-4dee-cfce-dd8e39ba4a85",
        "id": "yXVenlkdA7KL"
      },
      "execution_count": 194,
      "outputs": [
        {
          "output_type": "display_data",
          "data": {
            "text/plain": [
              "<Figure size 432x288 with 1 Axes>"
            ],
            "image/png": "[encoded data removed]"
          },
          "metadata": {
            "needs_background": "light"
          }
        }
      ]
    },
    {
      "cell_type": "markdown",
      "source": [
        "# Binary Classification"
      ],
      "metadata": {
        "id": "piHekHBCDlO7"
      }
    },
    {
      "cell_type": "code",
      "source": [
        "# Turn the full data into numpy arrays\n",
        "# Not yet in the final X format\n",
        "\n",
        "input_data = df[[\"open\", \"high\", \"low\", \"close\", \"volume\"]].values\n",
        "targets = df[\"return\"].values"
      ],
      "metadata": {
        "id": "XrJPZDxXCSrN"
      },
      "execution_count": 195,
      "outputs": []
    },
    {
      "cell_type": "code",
      "source": [
        "# Now make the actual data which will go into NN\n",
        "T = 10 # number of time steps (horizon)\n",
        "D = input_data.shape[1]\n",
        "N = len(input_data) - T"
      ],
      "metadata": {
        "id": "i6uMoBq2ELck"
      },
      "execution_count": 196,
      "outputs": []
    },
    {
      "cell_type": "code",
      "source": [
        "# Normalize the inputs\n",
        "Ntrain = len(input_data) * 2 // 3\n",
        "scaler = StandardScaler()\n",
        "scaler.fit(input_data[:Ntrain + T - 1])\n",
        "input_data = scaler.transform(input_data)"
      ],
      "metadata": {
        "id": "lWTFI_XjEnJi"
      },
      "execution_count": 197,
      "outputs": []
    },
    {
      "cell_type": "code",
      "source": [
        "# Setup Xtrain and Ytrain\n",
        "Xtrain = np.zeros((Ntrain, T, D))\n",
        "Ytrain = np.zeros((Ntrain, 1))\n",
        "\n",
        "for t in range(Ntrain):\n",
        "  Xtrain[t, :, :] = input_data[t:t+T]\n",
        "  Ytrain[t] = (targets[t+T] > 0)"
      ],
      "metadata": {
        "id": "XQhD8OORFHl3"
      },
      "execution_count": 200,
      "outputs": []
    },
    {
      "cell_type": "code",
      "source": [
        "# Setup Xtest and Ytest\n",
        "Xtest = np.zeros((N - Ntrain, T, D))\n",
        "Ytest = np.zeros((N - Ntrain, 1))\n",
        "\n",
        "for u in range(N - Ntrain):\n",
        "  # u counts from 0 to (N - Ntrain)\n",
        "  # t counts from Ntrain to N\n",
        "  t = u + Ntrain\n",
        "  Xtest[u, :, :] = input_data[t:t+T]\n",
        "  Ytest[u] = (targets[t+T] > 0)"
      ],
      "metadata": {
        "id": "ZH-uPoCeGDhh"
      },
      "execution_count": 201,
      "outputs": []
    },
    {
      "cell_type": "code",
      "source": [
        "# Make the RNN\n",
        "model = StockLSTM(5, 50, 2, 1)\n",
        "model.to(device)"
      ],
      "metadata": {
        "colab": {
          "base_uri": "https://localhost:8080/"
        },
        "id": "e5_UGdLRHRyS",
        "outputId": "7c1db01d-436f-45cd-cfdc-c7ab598be9cb"
      },
      "execution_count": 202,
      "outputs": [
        {
          "output_type": "execute_result",
          "data": {
            "text/plain": [
              "StockLSTM(\n",
              "  (rnn): LSTM(5, 50, num_layers=2, batch_first=True)\n",
              "  (fc): Linear(in_features=50, out_features=1, bias=True)\n",
              ")"
            ]
          },
          "metadata": {},
          "execution_count": 202
        }
      ]
    },
    {
      "cell_type": "code",
      "source": [
        "# Loss and Optimizer\n",
        "criterion = nn.BCEWithLogitsLoss()\n",
        "optimizer = torch.optim.Adam(model.parameters(), lr=0.01)"
      ],
      "metadata": {
        "id": "s9P0crNpHiUa"
      },
      "execution_count": 203,
      "outputs": []
    },
    {
      "cell_type": "code",
      "source": [
        "# Make inputs and targets\n",
        "Xtrain = torch.from_numpy(Xtrain.astype(np.float32)).to(device)\n",
        "Ytrain = torch.from_numpy(Ytrain.astype(np.float32)).to(device)\n",
        "Xtest = torch.from_numpy(Xtest.astype(np.float32)).to(device)\n",
        "Ytest = torch.from_numpy(Ytest.astype(np.float32)).to(device)"
      ],
      "metadata": {
        "id": "LNoiqxYjH83d"
      },
      "execution_count": 204,
      "outputs": []
    },
    {
      "cell_type": "code",
      "source": [
        "train_losses, test_losses = full_gd(model, criterion, optimizer, Xtrain, Ytrain, Xtest, Ytest, 600)"
      ],
      "metadata": {
        "colab": {
          "base_uri": "https://localhost:8080/"
        },
        "id": "b8gkzn96IG3p",
        "outputId": "1b9a688f-f179-4ea8-8f59-65697cb08b30"
      },
      "execution_count": 205,
      "outputs": [
        {
          "output_type": "stream",
          "name": "stdout",
          "text": [
            "Epoch: 5/600, Train Loss:0.6916, Test Loss:0.6937\n",
            "Epoch: 10/600, Train Loss:0.6889, Test Loss:0.7025\n",
            "Epoch: 15/600, Train Loss:0.6859, Test Loss:0.6941\n",
            "Epoch: 20/600, Train Loss:0.6829, Test Loss:0.6961\n",
            "Epoch: 25/600, Train Loss:0.6793, Test Loss:0.7035\n",
            "Epoch: 30/600, Train Loss:0.6743, Test Loss:0.7207\n",
            "Epoch: 35/600, Train Loss:0.6629, Test Loss:0.7423\n",
            "Epoch: 40/600, Train Loss:0.6520, Test Loss:0.7703\n",
            "Epoch: 45/600, Train Loss:0.6337, Test Loss:0.8159\n",
            "Epoch: 50/600, Train Loss:0.6104, Test Loss:0.9152\n",
            "Epoch: 55/600, Train Loss:0.5987, Test Loss:0.9142\n",
            "Epoch: 60/600, Train Loss:0.5785, Test Loss:0.9653\n",
            "Epoch: 65/600, Train Loss:0.5499, Test Loss:1.0156\n",
            "Epoch: 70/600, Train Loss:0.5140, Test Loss:1.1337\n",
            "Epoch: 75/600, Train Loss:0.5101, Test Loss:1.0912\n",
            "Epoch: 80/600, Train Loss:0.4780, Test Loss:1.2514\n",
            "Epoch: 85/600, Train Loss:0.4289, Test Loss:1.3237\n",
            "Epoch: 90/600, Train Loss:0.3965, Test Loss:1.4154\n",
            "Epoch: 95/600, Train Loss:0.3573, Test Loss:1.4624\n",
            "Epoch: 100/600, Train Loss:0.3585, Test Loss:1.5692\n",
            "Epoch: 105/600, Train Loss:0.3155, Test Loss:1.6872\n",
            "Epoch: 110/600, Train Loss:0.3107, Test Loss:1.7073\n",
            "Epoch: 115/600, Train Loss:0.2515, Test Loss:1.8980\n",
            "Epoch: 120/600, Train Loss:0.2626, Test Loss:1.9084\n",
            "Epoch: 125/600, Train Loss:0.2348, Test Loss:2.1012\n",
            "Epoch: 130/600, Train Loss:0.1870, Test Loss:2.1589\n",
            "Epoch: 135/600, Train Loss:0.1654, Test Loss:2.3497\n",
            "Epoch: 140/600, Train Loss:0.1380, Test Loss:2.4080\n",
            "Epoch: 145/600, Train Loss:0.0979, Test Loss:2.4958\n",
            "Epoch: 150/600, Train Loss:0.1095, Test Loss:2.7928\n",
            "Epoch: 155/600, Train Loss:0.2472, Test Loss:2.7451\n",
            "Epoch: 160/600, Train Loss:0.2220, Test Loss:2.1836\n",
            "Epoch: 165/600, Train Loss:0.1578, Test Loss:1.9480\n",
            "Epoch: 170/600, Train Loss:0.1189, Test Loss:2.1616\n",
            "Epoch: 175/600, Train Loss:0.0815, Test Loss:2.3115\n",
            "Epoch: 180/600, Train Loss:0.0566, Test Loss:2.4293\n",
            "Epoch: 185/600, Train Loss:0.0393, Test Loss:2.5750\n",
            "Epoch: 190/600, Train Loss:0.0270, Test Loss:2.7641\n",
            "Epoch: 195/600, Train Loss:0.0189, Test Loss:2.9225\n",
            "Epoch: 200/600, Train Loss:0.0135, Test Loss:3.0654\n",
            "Epoch: 205/600, Train Loss:0.0101, Test Loss:3.1623\n",
            "Epoch: 210/600, Train Loss:0.0078, Test Loss:3.2583\n",
            "Epoch: 215/600, Train Loss:0.0063, Test Loss:3.3110\n",
            "Epoch: 220/600, Train Loss:0.0051, Test Loss:3.3590\n",
            "Epoch: 225/600, Train Loss:0.0043, Test Loss:3.4078\n",
            "Epoch: 230/600, Train Loss:0.0037, Test Loss:3.4556\n",
            "Epoch: 235/600, Train Loss:0.0032, Test Loss:3.4912\n",
            "Epoch: 240/600, Train Loss:0.0028, Test Loss:3.5229\n",
            "Epoch: 245/600, Train Loss:0.0025, Test Loss:3.5504\n",
            "Epoch: 250/600, Train Loss:0.0023, Test Loss:3.5807\n",
            "Epoch: 255/600, Train Loss:0.0020, Test Loss:3.6086\n",
            "Epoch: 260/600, Train Loss:0.0019, Test Loss:3.6322\n",
            "Epoch: 265/600, Train Loss:0.0017, Test Loss:3.6544\n",
            "Epoch: 270/600, Train Loss:0.0016, Test Loss:3.6757\n",
            "Epoch: 275/600, Train Loss:0.0015, Test Loss:3.6955\n",
            "Epoch: 280/600, Train Loss:0.0014, Test Loss:3.7145\n",
            "Epoch: 285/600, Train Loss:0.0013, Test Loss:3.7328\n",
            "Epoch: 290/600, Train Loss:0.0012, Test Loss:3.7497\n",
            "Epoch: 295/600, Train Loss:0.0011, Test Loss:3.7656\n",
            "Epoch: 300/600, Train Loss:0.0010, Test Loss:3.7809\n",
            "Epoch: 305/600, Train Loss:0.0010, Test Loss:3.7957\n",
            "Epoch: 310/600, Train Loss:0.0009, Test Loss:3.8100\n",
            "Epoch: 315/600, Train Loss:0.0009, Test Loss:3.8237\n",
            "Epoch: 320/600, Train Loss:0.0008, Test Loss:3.8368\n",
            "Epoch: 325/600, Train Loss:0.0008, Test Loss:3.8495\n",
            "Epoch: 330/600, Train Loss:0.0008, Test Loss:3.8618\n",
            "Epoch: 335/600, Train Loss:0.0007, Test Loss:3.8737\n",
            "Epoch: 340/600, Train Loss:0.0007, Test Loss:3.8853\n",
            "Epoch: 345/600, Train Loss:0.0007, Test Loss:3.8966\n",
            "Epoch: 350/600, Train Loss:0.0006, Test Loss:3.9076\n",
            "Epoch: 355/600, Train Loss:0.0006, Test Loss:3.9183\n",
            "Epoch: 360/600, Train Loss:0.0006, Test Loss:3.9288\n",
            "Epoch: 365/600, Train Loss:0.0006, Test Loss:3.9391\n",
            "Epoch: 370/600, Train Loss:0.0006, Test Loss:3.9491\n",
            "Epoch: 375/600, Train Loss:0.0005, Test Loss:3.9589\n",
            "Epoch: 380/600, Train Loss:0.0005, Test Loss:3.9685\n",
            "Epoch: 385/600, Train Loss:0.0005, Test Loss:3.9779\n",
            "Epoch: 390/600, Train Loss:0.0005, Test Loss:3.9872\n",
            "Epoch: 395/600, Train Loss:0.0005, Test Loss:3.9963\n",
            "Epoch: 400/600, Train Loss:0.0005, Test Loss:4.0052\n",
            "Epoch: 405/600, Train Loss:0.0004, Test Loss:4.0139\n",
            "Epoch: 410/600, Train Loss:0.0004, Test Loss:4.0226\n",
            "Epoch: 415/600, Train Loss:0.0004, Test Loss:4.0311\n",
            "Epoch: 420/600, Train Loss:0.0004, Test Loss:4.0394\n",
            "Epoch: 425/600, Train Loss:0.0004, Test Loss:4.0476\n",
            "Epoch: 430/600, Train Loss:0.0004, Test Loss:4.0557\n",
            "Epoch: 435/600, Train Loss:0.0004, Test Loss:4.0637\n",
            "Epoch: 440/600, Train Loss:0.0004, Test Loss:4.0715\n",
            "Epoch: 445/600, Train Loss:0.0003, Test Loss:4.0793\n",
            "Epoch: 450/600, Train Loss:0.0003, Test Loss:4.0869\n",
            "Epoch: 455/600, Train Loss:0.0003, Test Loss:4.0944\n",
            "Epoch: 460/600, Train Loss:0.0003, Test Loss:4.1019\n",
            "Epoch: 465/600, Train Loss:0.0003, Test Loss:4.1092\n",
            "Epoch: 470/600, Train Loss:0.0003, Test Loss:4.1164\n",
            "Epoch: 475/600, Train Loss:0.0003, Test Loss:4.1235\n",
            "Epoch: 480/600, Train Loss:0.0003, Test Loss:4.1306\n",
            "Epoch: 485/600, Train Loss:0.0003, Test Loss:4.1375\n",
            "Epoch: 490/600, Train Loss:0.0003, Test Loss:4.1444\n",
            "Epoch: 495/600, Train Loss:0.0003, Test Loss:4.1512\n",
            "Epoch: 500/600, Train Loss:0.0003, Test Loss:4.1579\n",
            "Epoch: 505/600, Train Loss:0.0003, Test Loss:4.1645\n",
            "Epoch: 510/600, Train Loss:0.0003, Test Loss:4.1710\n",
            "Epoch: 515/600, Train Loss:0.0002, Test Loss:4.1775\n",
            "Epoch: 520/600, Train Loss:0.0002, Test Loss:4.1839\n",
            "Epoch: 525/600, Train Loss:0.0002, Test Loss:4.1902\n",
            "Epoch: 530/600, Train Loss:0.0002, Test Loss:4.1965\n",
            "Epoch: 535/600, Train Loss:0.0002, Test Loss:4.2026\n",
            "Epoch: 540/600, Train Loss:0.0002, Test Loss:4.2088\n",
            "Epoch: 545/600, Train Loss:0.0002, Test Loss:4.2148\n",
            "Epoch: 550/600, Train Loss:0.0002, Test Loss:4.2208\n",
            "Epoch: 555/600, Train Loss:0.0002, Test Loss:4.2267\n",
            "Epoch: 560/600, Train Loss:0.0002, Test Loss:4.2326\n",
            "Epoch: 565/600, Train Loss:0.0002, Test Loss:4.2384\n",
            "Epoch: 570/600, Train Loss:0.0002, Test Loss:4.2441\n",
            "Epoch: 575/600, Train Loss:0.0002, Test Loss:4.2498\n",
            "Epoch: 580/600, Train Loss:0.0002, Test Loss:4.2555\n",
            "Epoch: 585/600, Train Loss:0.0002, Test Loss:4.2610\n",
            "Epoch: 590/600, Train Loss:0.0002, Test Loss:4.2666\n",
            "Epoch: 595/600, Train Loss:0.0002, Test Loss:4.2720\n",
            "Epoch: 600/600, Train Loss:0.0002, Test Loss:4.2775\n"
          ]
        }
      ]
    },
    {
      "cell_type": "code",
      "source": [
        "plt.plot(train_losses, label='Train Loss')\n",
        "plt.plot(test_losses, label='Test Loss')\n",
        "plt.legend();"
      ],
      "metadata": {
        "colab": {
          "base_uri": "https://localhost:8080/",
          "height": 265
        },
        "id": "Ojc-vtF8IOkG",
        "outputId": "a3fc3f84-8945-47f9-eec7-2f46e18d4e71"
      },
      "execution_count": 207,
      "outputs": [
        {
          "output_type": "display_data",
          "data": {
            "text/plain": [
              "<Figure size 432x288 with 1 Axes>"
            ],
            "image/png": "[encoded data removed]"
          },
          "metadata": {
            "needs_background": "light"
          }
        }
      ]
    },
    {
      "cell_type": "code",
      "source": [
        "# Get accuracy\n",
        "with torch.no_grad():\n",
        "  # Train accuracy\n",
        "  Ptrain = model(Xtrain)\n",
        "  Ptrain = (Ptrain.cpu().numpy() > 0)\n",
        "  train_acc = np.mean(Ytrain.cpu().numpy() == Ptrain)\n",
        "\n",
        "  # Test accuracy\n",
        "  Ptest = model(Xtest)\n",
        "  Ptest = (Ptest.cpu().numpy() > 0)\n",
        "  test_acc = np.mean(Ytest.cpu().numpy() == Ptest)\n",
        "\n",
        "# Test prediction is approximately 0.5, bad model. \n",
        "# Train accuracy is 1. It is clearly overfitting.\n",
        "print(f\"Train Accuracy:{train_acc:.4f}, Test Accuracy:{test_acc:.4f}\")"
      ],
      "metadata": {
        "colab": {
          "base_uri": "https://localhost:8080/"
        },
        "id": "o7PS6pYkInJh",
        "outputId": "b80b3e18-e24a-4e68-f8d9-3f4a8e95256e"
      },
      "execution_count": 210,
      "outputs": [
        {
          "output_type": "stream",
          "name": "stdout",
          "text": [
            "Train Accuracy:1.0000, Test Accuracy:0.5146\n"
          ]
        }
      ]
    },
    {
      "cell_type": "code",
      "source": [],
      "metadata": {
        "id": "shVJYky0J1_r"
      },
      "execution_count": null,
      "outputs": []
    }
  ]
}