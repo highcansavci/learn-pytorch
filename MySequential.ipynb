{
  "nbformat": 4,
  "nbformat_minor": 0,
  "metadata": {
    "colab": {
      "provenance": []
    },
    "kernelspec": {
      "name": "python3",
      "display_name": "Python 3"
    },
    "language_info": {
      "name": "python"
    }
  },
  "cells": [
    {
      "cell_type": "code",
      "execution_count": 13,
      "metadata": {
        "id": "vioG58ERj_wM"
      },
      "outputs": [],
      "source": [
        "import torch\n",
        "import torch.nn as nn\n",
        "from torch.nn import Module\n",
        "from typing import Dict, overload, TypeVar, Union, Iterator\n",
        "from collections import OrderedDict\n",
        "import operator\n",
        "from itertools import islice\n",
        "from torch._jit_internal import _copy_to_script_wrapper\n",
        "from torch.nn.modules.container import Sequential\n",
        "import numpy as np\n",
        "import matplotlib.pyplot as plt"
      ]
    },
    {
      "cell_type": "code",
      "source": [
        "# Synthetic Dataset\n",
        "N = 1000\n",
        "X = np.random.random((N, 2)) * 6 - 3 # Uniformly distributed between -3 and 3\n",
        "Y = np.cos(2*X[:, 0]) + np.cos(3*X[:, 1])"
      ],
      "metadata": {
        "id": "ncN4EbnVKNVs"
      },
      "execution_count": 8,
      "outputs": []
    },
    {
      "cell_type": "code",
      "source": [
        "# Custom nn.Sequential class\n",
        "\n",
        "class MySequential(Module):\n",
        "  \n",
        "  _module = Dict[str, Module]\n",
        "  T = TypeVar('T', bound=Module)\n",
        "\n",
        "  @overload\n",
        "  def __init__(self, *args:Module) -> None:\n",
        "    ...\n",
        "  \n",
        "  @overload\n",
        "  def __init__(self, arg:'OrderedDict[str, Module]') -> None:\n",
        "    ...\n",
        "  \n",
        "  def __init__(self, *args):\n",
        "    super(MySequential, self).__init__()\n",
        "    if len(args) == 1 and isinstance(args[0], OrderedDict):\n",
        "      for key, module in args[0].items():\n",
        "        self.add_module(key, module)\n",
        "    else:\n",
        "      for idx, module in enumerate(args):\n",
        "        self.add_module(str(idx), module)\n",
        "  \n",
        "  def _get_item_by_idx(self, iterator, idx) -> T:\n",
        "    size = len(self)\n",
        "    idx = operator.index(idx)\n",
        "    if not -size <= idx < size:\n",
        "      raise IndexError(f\"index {idx} is out of range\")\n",
        "    idx %= size\n",
        "    return next(islice(iterator, idx, None))\n",
        "  \n",
        "  @_copy_to_script_wrapper\n",
        "  def __getitem__(self, idx:Union[slice, int]) -> Union[\"MySequential\", T]:\n",
        "    if isinstance(idx, slice):\n",
        "      return self.__class__(OrderedDict(list(self._modules.items())[idx]))\n",
        "    else:\n",
        "      return self._get_item_by_idx(self._modules.values(), idx)\n",
        "\n",
        "  def __setitem__(self, idx:int, module:Module) -> None:\n",
        "    key: str = self._get_item_by_idx(self._modules.values(), idx)\n",
        "    return setattr(self, key, module)\n",
        "  \n",
        "  def __delitem__(self, idx:Union[slice, int]) -> None:\n",
        "    if isinstance(idx, slice):\n",
        "      for key in list(self._modules.keys())[idx]:\n",
        "        delattr(self, key)\n",
        "    else:\n",
        "      key = self._get_item_by_idx(self._modules.keys(), idx)\n",
        "      delattr(self, key)\n",
        "  \n",
        "    str_indices = [str(i) for i in range(len(self._modules))]\n",
        "    self._modules = OrderedDict(list(zip(str_indices, self._modules.values())))\n",
        "  \n",
        "  @_copy_to_script_wrapper\n",
        "  def __len__(self) -> int:\n",
        "    return len(self._modules)\n",
        "  \n",
        "  def __add__(self, other) -> 'MySequential':\n",
        "    if isinstance(other, MySequential):\n",
        "      ret = MySequential()\n",
        "      for layer in self:\n",
        "        ret.append(layer)\n",
        "      for layer in other:\n",
        "        ret.append(layer)\n",
        "      return ret\n",
        "    else:\n",
        "      raise ValueError(f'add operator supports only objects of MySequential class, but {type(other)} is given.') \n",
        "  \n",
        "  def pop(self, key:Union[int, slice]) -> Module:\n",
        "    v = self[key]\n",
        "    del self[key]\n",
        "    return v\n",
        "\n",
        "  def __iadd__(self, other) -> 'MySequential':\n",
        "    if isinstance(other, MySequential):\n",
        "      offset = len(self)\n",
        "      for i, module in enumerate(other):\n",
        "        self.add_module(str(i + offset), module)\n",
        "      return self\n",
        "    else:\n",
        "      raise ValueError(f'add operator supports only objects of MySequential class, but {type(other)} is given.')\n",
        "  \n",
        "  def __mul__(self, other:int) -> 'MySequential':\n",
        "    if not isinstance(other, int):\n",
        "      raise TypeError(f\"unsupported operand type(s) for *: {type(self)} and {type(other)}\")\n",
        "    elif other <= 0:\n",
        "      raise ValueError(f\"Non-positive multiplication factor {other} for {type(self)}\")\n",
        "    else:\n",
        "      combined = MySequential()\n",
        "      offset = 0\n",
        "      for _ in range(other):\n",
        "        for module in self:\n",
        "          combined.add_module(str(offset), module)\n",
        "          offset += 1\n",
        "      return combined\n",
        "\n",
        "  def __rmul__(self, other:int) -> 'MySequential':\n",
        "    return self.__mul__(other)\n",
        "  \n",
        "  def __imul__(self, other:int) -> 'MySequential':\n",
        "    if not isinstance(other, int):\n",
        "      raise TypeError(f\"unsupported operand type(s) for *: {type(self)} and {type(other)}\")\n",
        "    elif other <= 0:\n",
        "      raise ValueError(f\"Non-positive multiplication factor {other} for {type(self)}\")\n",
        "    else:\n",
        "      len_original = len(self)\n",
        "      offset = len(self)\n",
        "      for _ in range(other - 1):\n",
        "        for i in range(len_original):\n",
        "          self.add_module(str(i + offset), self._modules[str(i)])\n",
        "        offset += len_original\n",
        "      return self\n",
        "  \n",
        "  @_copy_to_script_wrapper\n",
        "  def __dir__(self):\n",
        "    keys = super(MySequential, self).__dir__()\n",
        "    keys = [key for key in keys if not key.isdigit()]\n",
        "    return keys\n",
        "\n",
        "  @_copy_to_script_wrapper\n",
        "  def __iter__(self) -> Iterator[Module]:\n",
        "    return iter(self._modules.values())\n",
        "  \n",
        "  def forward(self, input):\n",
        "    for module in self:\n",
        "      input = module(input)\n",
        "    return input\n",
        "\n",
        "  def append(self, module:Module) -> 'MySequential':\n",
        "    self.add_module(str(len(self)), module)\n",
        "    return self\n",
        "  \n",
        "  def insert(self, index:int, module:Module) -> 'MySequential':\n",
        "    if not isinstance(module, Module):\n",
        "      raise AssertionError(f\"module should be of type: {Module}\")\n",
        "    n = len(self._modules)\n",
        "    if not -n <= index < n:\n",
        "      raise IndexError(f\"Index out of range {index}\")\n",
        "    if index < 0:\n",
        "      index += n\n",
        "    for i in range(n, index, -1):\n",
        "      self._modules[str(i)] = self._modules[str(i - 1)]\n",
        "    self._modules[str(index)] = module\n",
        "    return self\n",
        "\n",
        "  def extend(self, my_sequential) -> 'MySequential':\n",
        "    for layer in my_sequential:\n",
        "      self.append(layer)\n",
        "    return self"
      ],
      "metadata": {
        "id": "BUFIuvRekJiQ"
      },
      "execution_count": 9,
      "outputs": []
    },
    {
      "cell_type": "code",
      "source": [
        "# Build the model\n",
        "model = MySequential(\n",
        "    nn.Linear(2, 128),\n",
        "    nn.ReLU(),\n",
        "    nn.Linear(128, 1)\n",
        ")"
      ],
      "metadata": {
        "id": "fd7rLeOQJjsS"
      },
      "execution_count": 10,
      "outputs": []
    },
    {
      "cell_type": "code",
      "source": [
        "# Loss and Optimizer\n",
        "criterion = nn.MSELoss()\n",
        "optimizer = torch.optim.Adam(model.parameters(), lr=0.01)"
      ],
      "metadata": {
        "id": "_5fnkwjuKn4k"
      },
      "execution_count": 11,
      "outputs": []
    },
    {
      "cell_type": "code",
      "source": [
        "# Train the model\n",
        "def full_gd(model, criterion, optimizer, X_train, Y_train, epochs=1000):\n",
        "  train_losses = np.zeros(epochs)\n",
        "\n",
        "  for i in range(epochs):\n",
        "    # zero the parameter gradients\n",
        "    optimizer.zero_grad()\n",
        "\n",
        "    # Forward Pass\n",
        "    outputs = model(X_train)\n",
        "    loss = criterion(outputs, Y_train)\n",
        "\n",
        "    # Backward and Optimize\n",
        "    loss.backward()\n",
        "    optimizer.step()\n",
        "\n",
        "    train_losses[i] = loss.item()\n",
        "\n",
        "    if (i + 1) % 50 == 0:\n",
        "      print(f\"Epoch {i+1} / {epochs}, Train Loss: {loss.item():.4f}\")\n",
        "\n",
        "  return train_losses\n",
        "\n",
        "X_train = torch.from_numpy(X.astype(np.float32))\n",
        "Y_train = torch.from_numpy(Y.astype(np.float32).reshape(-1, 1))\n",
        "train_losses = full_gd(model, criterion, optimizer, X_train, Y_train)"
      ],
      "metadata": {
        "colab": {
          "base_uri": "https://localhost:8080/"
        },
        "id": "XgidfddxKwPM",
        "outputId": "539a2707-041c-4e70-d3be-302988644cf3"
      },
      "execution_count": 12,
      "outputs": [
        {
          "output_type": "stream",
          "name": "stdout",
          "text": [
            "Epoch 50 / 1000, Train Loss: 0.5948\n",
            "Epoch 100 / 1000, Train Loss: 0.3203\n",
            "Epoch 150 / 1000, Train Loss: 0.2004\n",
            "Epoch 200 / 1000, Train Loss: 0.0949\n",
            "Epoch 250 / 1000, Train Loss: 0.0325\n",
            "Epoch 300 / 1000, Train Loss: 0.0127\n",
            "Epoch 350 / 1000, Train Loss: 0.0070\n",
            "Epoch 400 / 1000, Train Loss: 0.0052\n",
            "Epoch 450 / 1000, Train Loss: 0.0060\n",
            "Epoch 500 / 1000, Train Loss: 0.0037\n",
            "Epoch 550 / 1000, Train Loss: 0.0036\n",
            "Epoch 600 / 1000, Train Loss: 0.0033\n",
            "Epoch 650 / 1000, Train Loss: 0.0027\n",
            "Epoch 700 / 1000, Train Loss: 0.0029\n",
            "Epoch 750 / 1000, Train Loss: 0.0024\n",
            "Epoch 800 / 1000, Train Loss: 0.0117\n",
            "Epoch 850 / 1000, Train Loss: 0.0022\n",
            "Epoch 900 / 1000, Train Loss: 0.0041\n",
            "Epoch 950 / 1000, Train Loss: 0.0021\n",
            "Epoch 1000 / 1000, Train Loss: 0.0029\n"
          ]
        }
      ]
    },
    {
      "cell_type": "code",
      "source": [
        "plt.plot(train_losses);"
      ],
      "metadata": {
        "colab": {
          "base_uri": "https://localhost:8080/",
          "height": 265
        },
        "id": "8GfoV6XqKzU8",
        "outputId": "e7d55f61-f885-492f-9acf-b1049008b07b"
      },
      "execution_count": 14,
      "outputs": [
        {
          "output_type": "display_data",
          "data": {
            "text/plain": [
              "<Figure size 432x288 with 1 Axes>"
            ],
            "image/png": "[encoded data removed]"
          },
          "metadata": {
            "needs_background": "light"
          }
        }
      ]
    }
  ]
}