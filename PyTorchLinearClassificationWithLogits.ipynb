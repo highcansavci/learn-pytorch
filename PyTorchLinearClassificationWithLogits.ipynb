{
  "nbformat": 4,
  "nbformat_minor": 0,
  "metadata": {
    "colab": {
      "provenance": []
    },
    "kernelspec": {
      "name": "python3",
      "display_name": "Python 3"
    },
    "language_info": {
      "name": "python"
    }
  },
  "cells": [
    {
      "cell_type": "code",
      "execution_count": 1,
      "metadata": {
        "id": "4gtG1uh0E954"
      },
      "outputs": [],
      "source": [
        "import torch\n",
        "import torch.nn as nn\n",
        "import numpy as np\n",
        "import matplotlib.pyplot as plt\n",
        "from sklearn.datasets import load_breast_cancer"
      ]
    },
    {
      "cell_type": "code",
      "source": [
        "data = load_breast_cancer()"
      ],
      "metadata": {
        "id": "4utoeth6Fodr"
      },
      "execution_count": 30,
      "outputs": []
    },
    {
      "cell_type": "code",
      "source": [
        "from sklearn.model_selection import train_test_split\n",
        "Xtrain, Xtest, Ytrain, Ytest = train_test_split(data.data, data.target, test_size=0.33)\n",
        "N, D = Xtrain.shape"
      ],
      "metadata": {
        "id": "EOiW_F_jFqez"
      },
      "execution_count": 40,
      "outputs": []
    },
    {
      "cell_type": "code",
      "source": [
        "# Scale the data \n",
        "from sklearn.preprocessing import StandardScaler\n",
        "\n",
        "scaler = StandardScaler()\n",
        "Xtrain = scaler.fit_transform(Xtrain)\n",
        "Xtest = scaler.transform(Xtest)"
      ],
      "metadata": {
        "id": "QTfmEyy6GgNt"
      },
      "execution_count": 41,
      "outputs": []
    },
    {
      "cell_type": "code",
      "source": [
        "# Build the model\n",
        "model = nn.Linear(D, 1)"
      ],
      "metadata": {
        "id": "xfLNFPY7H0Se"
      },
      "execution_count": 42,
      "outputs": []
    },
    {
      "cell_type": "code",
      "source": [
        "# Loss and optimizer\n",
        "criterion = nn.BCEWithLogitsLoss()\n",
        "optimizer = torch.optim.Adam(model.parameters())"
      ],
      "metadata": {
        "id": "oV5VlTc5IGKD"
      },
      "execution_count": 43,
      "outputs": []
    },
    {
      "cell_type": "code",
      "source": [
        "# Converting data to torch tensors\n",
        "Xtrain = torch.from_numpy(Xtrain.astype(np.float32))\n",
        "Xtest = torch.from_numpy(Xtest.astype(np.float32))\n",
        "Ytrain = torch.from_numpy(Ytrain.astype(np.float32).reshape(-1, 1))\n",
        "Ytest = torch.from_numpy(Ytest.astype(np.float32).reshape(-1, 1))"
      ],
      "metadata": {
        "id": "HOsRrQxbqK82"
      },
      "execution_count": 44,
      "outputs": []
    },
    {
      "cell_type": "code",
      "source": [
        "n_epochs = 1000\n",
        "train_losses = np.zeros(n_epochs)\n",
        "test_losses = np.zeros(n_epochs)\n",
        "train_acc = np.zeros(n_epochs)\n",
        "test_acc = np.zeros(n_epochs)\n",
        "\n",
        "for i in range(n_epochs):\n",
        "  # zero the gradients\n",
        "  optimizer.zero_grad()\n",
        "\n",
        "  # Forward pass\n",
        "  outputs = model(Xtrain)\n",
        "  loss = criterion(outputs, Ytrain)\n",
        "\n",
        "  # Backward and optimize\n",
        "  loss.backward()\n",
        "  optimizer.step()\n",
        "\n",
        "  # Get test loss\n",
        "  # This will tell us whether or not our model is overfitting\n",
        "  # If we see the test loss increasing during training then we know that we are overfitting\n",
        "  outputs_test = model(Xtest)\n",
        "  loss_test = criterion(outputs_test, Ytest)\n",
        "\n",
        "  def round_line(outputs):\n",
        "    return outputs.numpy() > 0\n",
        "\n",
        "  with torch.no_grad():\n",
        "    train_acc[i] = np.mean(round_line(outputs) == Ytrain.numpy())\n",
        "    test_acc[i] = np.mean(round_line(outputs_test) == Ytest.numpy())\n",
        "\n",
        "  # Save losses\n",
        "  train_losses[i] = loss.item()\n",
        "  test_losses[i] = loss_test.item()\n",
        "\n",
        "  if (i + 1) % 50 == 0:\n",
        "    print(f\"Epoch: {i+1}/{n_epochs}, Train Loss: {train_losses[i]:.4f}, Test Loss: {test_losses[i]:.4f}\")"
      ],
      "metadata": {
        "colab": {
          "base_uri": "https://localhost:8080/"
        },
        "id": "aM2TjaWRIhss",
        "outputId": "a09deaba-1c87-44c3-8548-77a75c0d6a39"
      },
      "execution_count": 45,
      "outputs": [
        {
          "output_type": "stream",
          "name": "stdout",
          "text": [
            "Epoch: 50/1000, Train Loss: 0.4526, Test Loss: 0.4385\n",
            "Epoch: 100/1000, Train Loss: 0.3315, Test Loss: 0.3218\n",
            "Epoch: 150/1000, Train Loss: 0.2696, Test Loss: 0.2636\n",
            "Epoch: 200/1000, Train Loss: 0.2314, Test Loss: 0.2277\n",
            "Epoch: 250/1000, Train Loss: 0.2052, Test Loss: 0.2025\n",
            "Epoch: 300/1000, Train Loss: 0.1859, Test Loss: 0.1835\n",
            "Epoch: 350/1000, Train Loss: 0.1711, Test Loss: 0.1685\n",
            "Epoch: 400/1000, Train Loss: 0.1593, Test Loss: 0.1563\n",
            "Epoch: 450/1000, Train Loss: 0.1498, Test Loss: 0.1461\n",
            "Epoch: 500/1000, Train Loss: 0.1418, Test Loss: 0.1374\n",
            "Epoch: 550/1000, Train Loss: 0.1351, Test Loss: 0.1300\n",
            "Epoch: 600/1000, Train Loss: 0.1294, Test Loss: 0.1235\n",
            "Epoch: 650/1000, Train Loss: 0.1244, Test Loss: 0.1179\n",
            "Epoch: 700/1000, Train Loss: 0.1201, Test Loss: 0.1129\n",
            "Epoch: 750/1000, Train Loss: 0.1162, Test Loss: 0.1085\n",
            "Epoch: 800/1000, Train Loss: 0.1128, Test Loss: 0.1045\n",
            "Epoch: 850/1000, Train Loss: 0.1098, Test Loss: 0.1010\n",
            "Epoch: 900/1000, Train Loss: 0.1070, Test Loss: 0.0978\n",
            "Epoch: 950/1000, Train Loss: 0.1045, Test Loss: 0.0949\n",
            "Epoch: 1000/1000, Train Loss: 0.1023, Test Loss: 0.0922\n"
          ]
        }
      ]
    },
    {
      "cell_type": "code",
      "source": [
        "plt.plot(train_losses, label='Train Loss')\n",
        "plt.plot(test_losses, label='Test Loss')\n",
        "plt.legend();"
      ],
      "metadata": {
        "colab": {
          "base_uri": "https://localhost:8080/",
          "height": 265
        },
        "id": "JzSnQ6X2wHC7",
        "outputId": "1a675d49-4b32-46e4-a1cf-7d956c17c3d2"
      },
      "execution_count": 46,
      "outputs": [
        {
          "output_type": "display_data",
          "data": {
            "text/plain": [
              "<Figure size 432x288 with 1 Axes>"
            ],
            "image/png": "[encoded data removed]"
          },
          "metadata": {
            "needs_background": "light"
          }
        }
      ]
    },
    {
      "cell_type": "code",
      "source": [
        "plt.plot(train_acc, label='Train Accuracy')\n",
        "plt.plot(test_acc, label='Test Accuracy')\n",
        "plt.legend();"
      ],
      "metadata": {
        "colab": {
          "base_uri": "https://localhost:8080/",
          "height": 266
        },
        "id": "5E6Mq9aU1BkC",
        "outputId": "3b8c939a-12bc-4eee-f2a1-dd5705ab3664"
      },
      "execution_count": 47,
      "outputs": [
        {
          "output_type": "display_data",
          "data": {
            "text/plain": [
              "<Figure size 432x288 with 1 Axes>"
            ],
            "image/png": "[encoded data removed]"
          },
          "metadata": {
            "needs_background": "light"
          }
        }
      ]
    },
    {
      "cell_type": "code",
      "source": [
        "with torch.no_grad():\n",
        "  ptrain = round_line(model(Xtrain))\n",
        "  train_acc = np.mean(ptrain == Ytrain.numpy())\n",
        "\n",
        "  ptest = round_line(model(Xtest))\n",
        "  test_acc = np.mean(ptest == Ytest.numpy())\n",
        "\n",
        "  print(f\"Train Accuracy: {train_acc:.2f}, Test Accuracy: {test_acc:.2f}\")"
      ],
      "metadata": {
        "colab": {
          "base_uri": "https://localhost:8080/"
        },
        "id": "lrXLVZkjw57f",
        "outputId": "2b8fb75c-2c5d-48e2-aae9-951c73c0e8d4"
      },
      "execution_count": 48,
      "outputs": [
        {
          "output_type": "stream",
          "name": "stdout",
          "text": [
            "Train Accuracy: 0.98, Test Accuracy: 0.97\n"
          ]
        }
      ]
    },
    {
      "cell_type": "code",
      "source": [],
      "metadata": {
        "id": "ej9Q71kzLrwL"
      },
      "execution_count": 48,
      "outputs": []
    }
  ]
}