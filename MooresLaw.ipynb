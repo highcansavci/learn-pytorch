{
  "nbformat": 4,
  "nbformat_minor": 0,
  "metadata": {
    "colab": {
      "provenance": []
    },
    "kernelspec": {
      "name": "python3",
      "display_name": "Python 3"
    },
    "language_info": {
      "name": "python"
    }
  },
  "cells": [
    {
      "cell_type": "code",
      "execution_count": 2,
      "metadata": {
        "id": "Bab_HBam1j5_"
      },
      "outputs": [],
      "source": [
        "import torch\n",
        "import torch.nn as nn\n",
        "import matplotlib.pyplot as plt\n",
        "import numpy as np\n",
        "import pandas as pd"
      ]
    },
    {
      "cell_type": "code",
      "source": [
        "!wget -nc https://raw.githubusercontent.com/lazyprogrammer/machine_learning_examples/master/tf2.0/moore.csv"
      ],
      "metadata": {
        "colab": {
          "base_uri": "https://localhost:8080/"
        },
        "id": "g2XBVnUP115w",
        "outputId": "92e42613-5d1b-4c6d-d752-6af890f06e83"
      },
      "execution_count": 8,
      "outputs": [
        {
          "output_type": "stream",
          "name": "stdout",
          "text": [
            "--2023-02-01 07:40:58--  https://raw.githubusercontent.com/lazyprogrammer/machine_learning_examples/master/tf2.0/moore.csv\n",
            "Resolving raw.githubusercontent.com (raw.githubusercontent.com)... 185.199.108.133, 185.199.109.133, 185.199.110.133, ...\n",
            "Connecting to raw.githubusercontent.com (raw.githubusercontent.com)|185.199.108.133|:443... connected.\n",
            "HTTP request sent, awaiting response... 200 OK\n",
            "Length: 2302 (2.2K) [text/plain]\n",
            "Saving to: ‘moore.csv’\n",
            "\n",
            "\rmoore.csv             0%[                    ]       0  --.-KB/s               \rmoore.csv           100%[===================>]   2.25K  --.-KB/s    in 0s      \n",
            "\n",
            "2023-02-01 07:40:58 (13.0 MB/s) - ‘moore.csv’ saved [2302/2302]\n",
            "\n"
          ]
        }
      ]
    },
    {
      "cell_type": "code",
      "source": [
        "data = pd.read_csv('moore.csv', header=None)\n",
        "data.head()"
      ],
      "metadata": {
        "colab": {
          "base_uri": "https://localhost:8080/",
          "height": 206
        },
        "id": "cwRM3pYu3rW0",
        "outputId": "747dd3ba-2f4a-4410-9a3b-b01f01f42df4"
      },
      "execution_count": 43,
      "outputs": [
        {
          "output_type": "execute_result",
          "data": {
            "text/plain": [
              "      0     1\n",
              "0  1971  2300\n",
              "1  1972  3500\n",
              "2  1973  2500\n",
              "3  1973  2500\n",
              "4  1974  4100"
            ],
            "text/html": [
              "\n",
              "  <div id=\"df-1695b435-8946-4d95-8657-40ec630a4a38\">\n",
              "    <div class=\"colab-df-container\">\n",
              "      <div>\n",
              "<style scoped>\n",
              "    .dataframe tbody tr th:only-of-type {\n",
              "        vertical-align: middle;\n",
              "    }\n",
              "\n",
              "    .dataframe tbody tr th {\n",
              "        vertical-align: top;\n",
              "    }\n",
              "\n",
              "    .dataframe thead th {\n",
              "        text-align: right;\n",
              "    }\n",
              "</style>\n",
              "<table border=\"1\" class=\"dataframe\">\n",
              "  <thead>\n",
              "    <tr style=\"text-align: right;\">\n",
              "      <th></th>\n",
              "      <th>0</th>\n",
              "      <th>1</th>\n",
              "    </tr>\n",
              "  </thead>\n",
              "  <tbody>\n",
              "    <tr>\n",
              "      <th>0</th>\n",
              "      <td>1971</td>\n",
              "      <td>2300</td>\n",
              "    </tr>\n",
              "    <tr>\n",
              "      <th>1</th>\n",
              "      <td>1972</td>\n",
              "      <td>3500</td>\n",
              "    </tr>\n",
              "    <tr>\n",
              "      <th>2</th>\n",
              "      <td>1973</td>\n",
              "      <td>2500</td>\n",
              "    </tr>\n",
              "    <tr>\n",
              "      <th>3</th>\n",
              "      <td>1973</td>\n",
              "      <td>2500</td>\n",
              "    </tr>\n",
              "    <tr>\n",
              "      <th>4</th>\n",
              "      <td>1974</td>\n",
              "      <td>4100</td>\n",
              "    </tr>\n",
              "  </tbody>\n",
              "</table>\n",
              "</div>\n",
              "      <button class=\"colab-df-convert\" onclick=\"convertToInteractive('df-1695b435-8946-4d95-8657-40ec630a4a38')\"\n",
              "              title=\"Convert this dataframe to an interactive table.\"\n",
              "              style=\"display:none;\">\n",
              "        \n",
              "  <svg xmlns=\"http://www.w3.org/2000/svg\" height=\"24px\"viewBox=\"0 0 24 24\"\n",
              "       width=\"24px\">\n",
              "    <path d=\"M0 0h24v24H0V0z\" fill=\"none\"/>\n",
              "    <path d=\"M18.56 5.44l.94 2.06.94-2.06 2.06-.94-2.06-.94-.94-2.06-.94 2.06-2.06.94zm-11 1L8.5 8.5l.94-2.06 2.06-.94-2.06-.94L8.5 2.5l-.94 2.06-2.06.94zm10 10l.94 2.06.94-2.06 2.06-.94-2.06-.94-.94-2.06-.94 2.06-2.06.94z\"/><path d=\"M17.41 7.96l-1.37-1.37c-.4-.4-.92-.59-1.43-.59-.52 0-1.04.2-1.43.59L10.3 9.45l-7.72 7.72c-.78.78-.78 2.05 0 2.83L4 21.41c.39.39.9.59 1.41.59.51 0 1.02-.2 1.41-.59l7.78-7.78 2.81-2.81c.8-.78.8-2.07 0-2.86zM5.41 20L4 18.59l7.72-7.72 1.47 1.35L5.41 20z\"/>\n",
              "  </svg>\n",
              "      </button>\n",
              "      \n",
              "  <style>\n",
              "    .colab-df-container {\n",
              "      display:flex;\n",
              "      flex-wrap:wrap;\n",
              "      gap: 12px;\n",
              "    }\n",
              "\n",
              "    .colab-df-convert {\n",
              "      background-color: #E8F0FE;\n",
              "      border: none;\n",
              "      border-radius: 50%;\n",
              "      cursor: pointer;\n",
              "      display: none;\n",
              "      fill: #1967D2;\n",
              "      height: 32px;\n",
              "      padding: 0 0 0 0;\n",
              "      width: 32px;\n",
              "    }\n",
              "\n",
              "    .colab-df-convert:hover {\n",
              "      background-color: #E2EBFA;\n",
              "      box-shadow: 0px 1px 2px rgba(60, 64, 67, 0.3), 0px 1px 3px 1px rgba(60, 64, 67, 0.15);\n",
              "      fill: #174EA6;\n",
              "    }\n",
              "\n",
              "    [theme=dark] .colab-df-convert {\n",
              "      background-color: #3B4455;\n",
              "      fill: #D2E3FC;\n",
              "    }\n",
              "\n",
              "    [theme=dark] .colab-df-convert:hover {\n",
              "      background-color: #434B5C;\n",
              "      box-shadow: 0px 1px 3px 1px rgba(0, 0, 0, 0.15);\n",
              "      filter: drop-shadow(0px 1px 2px rgba(0, 0, 0, 0.3));\n",
              "      fill: #FFFFFF;\n",
              "    }\n",
              "  </style>\n",
              "\n",
              "      <script>\n",
              "        const buttonEl =\n",
              "          document.querySelector('#df-1695b435-8946-4d95-8657-40ec630a4a38 button.colab-df-convert');\n",
              "        buttonEl.style.display =\n",
              "          google.colab.kernel.accessAllowed ? 'block' : 'none';\n",
              "\n",
              "        async function convertToInteractive(key) {\n",
              "          const element = document.querySelector('#df-1695b435-8946-4d95-8657-40ec630a4a38');\n",
              "          const dataTable =\n",
              "            await google.colab.kernel.invokeFunction('convertToInteractive',\n",
              "                                                     [key], {});\n",
              "          if (!dataTable) return;\n",
              "\n",
              "          const docLinkHtml = 'Like what you see? Visit the ' +\n",
              "            '<a target=\"_blank\" href=https://colab.research.google.com/notebooks/data_table.ipynb>data table notebook</a>'\n",
              "            + ' to learn more about interactive tables.';\n",
              "          element.innerHTML = '';\n",
              "          dataTable['output_type'] = 'display_data';\n",
              "          await google.colab.output.renderOutput(dataTable, element);\n",
              "          const docLink = document.createElement('div');\n",
              "          docLink.innerHTML = docLinkHtml;\n",
              "          element.appendChild(docLink);\n",
              "        }\n",
              "      </script>\n",
              "    </div>\n",
              "  </div>\n",
              "  "
            ]
          },
          "metadata": {},
          "execution_count": 43
        }
      ]
    },
    {
      "cell_type": "code",
      "source": [
        "data = data.values\n",
        "X = data[:, 0].reshape(-1, 1)\n",
        "Y = data[:, 1].reshape(-1, 1)"
      ],
      "metadata": {
        "id": "fV883xL14DWi"
      },
      "execution_count": 44,
      "outputs": []
    },
    {
      "cell_type": "code",
      "source": [
        "plt.scatter(X, Y);"
      ],
      "metadata": {
        "colab": {
          "base_uri": "https://localhost:8080/",
          "height": 276
        },
        "id": "3tQGUzgk7W2m",
        "outputId": "b26db937-fb93-4816-df8e-8002486390ab"
      },
      "execution_count": 45,
      "outputs": [
        {
          "output_type": "display_data",
          "data": {
            "text/plain": [
              "<Figure size 432x288 with 1 Axes>"
            ],
            "image/png": "[encoded data removed]"
          },
          "metadata": {
            "needs_background": "light"
          }
        }
      ]
    },
    {
      "cell_type": "code",
      "source": [
        "Y = np.log(Y)\n",
        "plt.scatter(X, Y);"
      ],
      "metadata": {
        "colab": {
          "base_uri": "https://localhost:8080/",
          "height": 265
        },
        "id": "1-F23wJ37Z5b",
        "outputId": "d08cf30f-9836-48c5-c04c-41970b474937"
      },
      "execution_count": 46,
      "outputs": [
        {
          "output_type": "display_data",
          "data": {
            "text/plain": [
              "<Figure size 432x288 with 1 Axes>"
            ],
            "image/png": "[encoded data removed]"
          },
          "metadata": {
            "needs_background": "light"
          }
        }
      ]
    },
    {
      "cell_type": "code",
      "source": [
        "mean_x, std_x = X.mean(), X.std()\n",
        "mean_y, std_y = Y.mean(), Y.std()\n",
        "X = (X - mean_x) / std_x\n",
        "Y = (Y - mean_y) / std_y\n",
        "plt.scatter(X, Y);"
      ],
      "metadata": {
        "colab": {
          "base_uri": "https://localhost:8080/",
          "height": 265
        },
        "id": "TXwqpeCy7lz9",
        "outputId": "eb4e3512-fa23-4726-9c39-5774222bab26"
      },
      "execution_count": 47,
      "outputs": [
        {
          "output_type": "display_data",
          "data": {
            "text/plain": [
              "<Figure size 432x288 with 1 Axes>"
            ],
            "image/png": "[encoded data removed]"
          },
          "metadata": {
            "needs_background": "light"
          }
        }
      ]
    },
    {
      "cell_type": "code",
      "source": [
        "# Cast to float32 for PyTorch\n",
        "X = X.astype(np.float32)\n",
        "Y = Y.astype(np.float32)"
      ],
      "metadata": {
        "id": "XiYHIDjl8Br6"
      },
      "execution_count": 48,
      "outputs": []
    },
    {
      "cell_type": "code",
      "source": [
        "# Create the linear regression model\n",
        "model = nn.Linear(1, 1)"
      ],
      "metadata": {
        "id": "RIavNvFr9rAj"
      },
      "execution_count": 49,
      "outputs": []
    },
    {
      "cell_type": "code",
      "source": [
        "# Setup loss and optimizer\n",
        "criterion = nn.MSELoss()\n",
        "optimizer = torch.optim.SGD(model.parameters(), lr=0.1, momentum=0.7)"
      ],
      "metadata": {
        "id": "kNv2LtIR92RR"
      },
      "execution_count": 50,
      "outputs": []
    },
    {
      "cell_type": "code",
      "source": [
        "inputs = torch.from_numpy(X)\n",
        "targets = torch.from_numpy(Y)"
      ],
      "metadata": {
        "id": "kOJg-Hjy-POQ"
      },
      "execution_count": 51,
      "outputs": []
    },
    {
      "cell_type": "code",
      "source": [
        "type(inputs)"
      ],
      "metadata": {
        "colab": {
          "base_uri": "https://localhost:8080/"
        },
        "id": "Nkfzepf3-kq_",
        "outputId": "3979cd59-352e-4f93-92e4-5bcb2cf9a668"
      },
      "execution_count": 52,
      "outputs": [
        {
          "output_type": "execute_result",
          "data": {
            "text/plain": [
              "torch.Tensor"
            ]
          },
          "metadata": {},
          "execution_count": 52
        }
      ]
    },
    {
      "cell_type": "code",
      "source": [
        "num_epochs = 100\n",
        "losses = []\n",
        "for i in range(num_epochs):\n",
        "  # zero the parameter gradients\n",
        "  optimizer.zero_grad()\n",
        "\n",
        "  # Forward pass\n",
        "  outputs = model(inputs)\n",
        "  loss = criterion(outputs, targets)\n",
        "\n",
        "  losses.append(loss.item())\n",
        "\n",
        "  # Backward and optimize\n",
        "  loss.backward()\n",
        "  optimizer.step()\n",
        "\n",
        "  print(f\"Epoch {i+1} / {num_epochs}, Loss: {loss.item():.4f}\")"
      ],
      "metadata": {
        "colab": {
          "base_uri": "https://localhost:8080/"
        },
        "id": "xugpeJaE-ul-",
        "outputId": "9c72a3a5-da60-4553-d818-a4d9cdd33165"
      },
      "execution_count": 53,
      "outputs": [
        {
          "output_type": "stream",
          "name": "stdout",
          "text": [
            "Epoch 1 / 100, Loss: 0.6113\n",
            "Epoch 2 / 100, Loss: 0.4051\n",
            "Epoch 3 / 100, Loss: 0.1817\n",
            "Epoch 4 / 100, Loss: 0.0592\n",
            "Epoch 5 / 100, Loss: 0.0409\n",
            "Epoch 6 / 100, Loss: 0.0689\n",
            "Epoch 7 / 100, Loss: 0.0901\n",
            "Epoch 8 / 100, Loss: 0.0863\n",
            "Epoch 9 / 100, Loss: 0.0671\n",
            "Epoch 10 / 100, Loss: 0.0486\n",
            "Epoch 11 / 100, Loss: 0.0395\n",
            "Epoch 12 / 100, Loss: 0.0390\n",
            "Epoch 13 / 100, Loss: 0.0415\n",
            "Epoch 14 / 100, Loss: 0.0431\n",
            "Epoch 15 / 100, Loss: 0.0424\n",
            "Epoch 16 / 100, Loss: 0.0407\n",
            "Epoch 17 / 100, Loss: 0.0392\n",
            "Epoch 18 / 100, Loss: 0.0385\n",
            "Epoch 19 / 100, Loss: 0.0386\n",
            "Epoch 20 / 100, Loss: 0.0388\n",
            "Epoch 21 / 100, Loss: 0.0389\n",
            "Epoch 22 / 100, Loss: 0.0388\n",
            "Epoch 23 / 100, Loss: 0.0386\n",
            "Epoch 24 / 100, Loss: 0.0385\n",
            "Epoch 25 / 100, Loss: 0.0385\n",
            "Epoch 26 / 100, Loss: 0.0385\n",
            "Epoch 27 / 100, Loss: 0.0385\n",
            "Epoch 28 / 100, Loss: 0.0385\n",
            "Epoch 29 / 100, Loss: 0.0385\n",
            "Epoch 30 / 100, Loss: 0.0385\n",
            "Epoch 31 / 100, Loss: 0.0385\n",
            "Epoch 32 / 100, Loss: 0.0385\n",
            "Epoch 33 / 100, Loss: 0.0385\n",
            "Epoch 34 / 100, Loss: 0.0385\n",
            "Epoch 35 / 100, Loss: 0.0385\n",
            "Epoch 36 / 100, Loss: 0.0385\n",
            "Epoch 37 / 100, Loss: 0.0385\n",
            "Epoch 38 / 100, Loss: 0.0385\n",
            "Epoch 39 / 100, Loss: 0.0385\n",
            "Epoch 40 / 100, Loss: 0.0385\n",
            "Epoch 41 / 100, Loss: 0.0385\n",
            "Epoch 42 / 100, Loss: 0.0385\n",
            "Epoch 43 / 100, Loss: 0.0385\n",
            "Epoch 44 / 100, Loss: 0.0385\n",
            "Epoch 45 / 100, Loss: 0.0385\n",
            "Epoch 46 / 100, Loss: 0.0385\n",
            "Epoch 47 / 100, Loss: 0.0385\n",
            "Epoch 48 / 100, Loss: 0.0385\n",
            "Epoch 49 / 100, Loss: 0.0385\n",
            "Epoch 50 / 100, Loss: 0.0385\n",
            "Epoch 51 / 100, Loss: 0.0385\n",
            "Epoch 52 / 100, Loss: 0.0385\n",
            "Epoch 53 / 100, Loss: 0.0385\n",
            "Epoch 54 / 100, Loss: 0.0385\n",
            "Epoch 55 / 100, Loss: 0.0385\n",
            "Epoch 56 / 100, Loss: 0.0385\n",
            "Epoch 57 / 100, Loss: 0.0385\n",
            "Epoch 58 / 100, Loss: 0.0385\n",
            "Epoch 59 / 100, Loss: 0.0385\n",
            "Epoch 60 / 100, Loss: 0.0385\n",
            "Epoch 61 / 100, Loss: 0.0385\n",
            "Epoch 62 / 100, Loss: 0.0385\n",
            "Epoch 63 / 100, Loss: 0.0385\n",
            "Epoch 64 / 100, Loss: 0.0385\n",
            "Epoch 65 / 100, Loss: 0.0385\n",
            "Epoch 66 / 100, Loss: 0.0385\n",
            "Epoch 67 / 100, Loss: 0.0385\n",
            "Epoch 68 / 100, Loss: 0.0385\n",
            "Epoch 69 / 100, Loss: 0.0385\n",
            "Epoch 70 / 100, Loss: 0.0385\n",
            "Epoch 71 / 100, Loss: 0.0385\n",
            "Epoch 72 / 100, Loss: 0.0385\n",
            "Epoch 73 / 100, Loss: 0.0385\n",
            "Epoch 74 / 100, Loss: 0.0385\n",
            "Epoch 75 / 100, Loss: 0.0385\n",
            "Epoch 76 / 100, Loss: 0.0385\n",
            "Epoch 77 / 100, Loss: 0.0385\n",
            "Epoch 78 / 100, Loss: 0.0385\n",
            "Epoch 79 / 100, Loss: 0.0385\n",
            "Epoch 80 / 100, Loss: 0.0385\n",
            "Epoch 81 / 100, Loss: 0.0385\n",
            "Epoch 82 / 100, Loss: 0.0385\n",
            "Epoch 83 / 100, Loss: 0.0385\n",
            "Epoch 84 / 100, Loss: 0.0385\n",
            "Epoch 85 / 100, Loss: 0.0385\n",
            "Epoch 86 / 100, Loss: 0.0385\n",
            "Epoch 87 / 100, Loss: 0.0385\n",
            "Epoch 88 / 100, Loss: 0.0385\n",
            "Epoch 89 / 100, Loss: 0.0385\n",
            "Epoch 90 / 100, Loss: 0.0385\n",
            "Epoch 91 / 100, Loss: 0.0385\n",
            "Epoch 92 / 100, Loss: 0.0385\n",
            "Epoch 93 / 100, Loss: 0.0385\n",
            "Epoch 94 / 100, Loss: 0.0385\n",
            "Epoch 95 / 100, Loss: 0.0385\n",
            "Epoch 96 / 100, Loss: 0.0385\n",
            "Epoch 97 / 100, Loss: 0.0385\n",
            "Epoch 98 / 100, Loss: 0.0385\n",
            "Epoch 99 / 100, Loss: 0.0385\n",
            "Epoch 100 / 100, Loss: 0.0385\n"
          ]
        }
      ]
    },
    {
      "cell_type": "code",
      "source": [
        "plt.plot(losses);"
      ],
      "metadata": {
        "colab": {
          "base_uri": "https://localhost:8080/",
          "height": 265
        },
        "id": "9heuWALHAYci",
        "outputId": "ca1fce7a-f3cc-4ef5-eaa7-4aeca49f9f3b"
      },
      "execution_count": 54,
      "outputs": [
        {
          "output_type": "display_data",
          "data": {
            "text/plain": [
              "<Figure size 432x288 with 1 Axes>"
            ],
            "image/png": "[encoded data removed]"
          },
          "metadata": {
            "needs_background": "light"
          }
        }
      ]
    },
    {
      "cell_type": "code",
      "source": [
        "predicted = model(torch.from_numpy(X)).detach().numpy()\n",
        "plt.plot(X, Y, 'ro', label=\"Original Data\")\n",
        "plt.plot(X, predicted, label=\"Fitted Line\")\n",
        "plt.legend();"
      ],
      "metadata": {
        "colab": {
          "base_uri": "https://localhost:8080/",
          "height": 265
        },
        "id": "_oW6csd1AjOh",
        "outputId": "8cc1e9b6-62c9-43f9-9606-ee5d28208fed"
      },
      "execution_count": 55,
      "outputs": [
        {
          "output_type": "display_data",
          "data": {
            "text/plain": [
              "<Figure size 432x288 with 1 Axes>"
            ],
            "image/png": "[encoded data removed]"
          },
          "metadata": {
            "needs_background": "light"
          }
        }
      ]
    },
    {
      "cell_type": "code",
      "source": [
        "w = model.weight.data.numpy()\n",
        "w"
      ],
      "metadata": {
        "colab": {
          "base_uri": "https://localhost:8080/"
        },
        "id": "LdljsagSBMVE",
        "outputId": "31bcb15d-9f91-41a8-ad72-c2489456562a"
      },
      "execution_count": 56,
      "outputs": [
        {
          "output_type": "execute_result",
          "data": {
            "text/plain": [
              "array([[0.9805711]], dtype=float32)"
            ]
          },
          "metadata": {},
          "execution_count": 56
        }
      ]
    }
  ]
}