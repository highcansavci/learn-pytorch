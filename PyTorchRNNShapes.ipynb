{
  "nbformat": 4,
  "nbformat_minor": 0,
  "metadata": {
    "colab": {
      "provenance": []
    },
    "kernelspec": {
      "name": "python3",
      "display_name": "Python 3"
    },
    "language_info": {
      "name": "python"
    }
  },
  "cells": [
    {
      "cell_type": "code",
      "execution_count": 67,
      "metadata": {
        "id": "RvuHo84Ta_iE"
      },
      "outputs": [],
      "source": [
        "import torch\n",
        "import torch.nn as nn\n",
        "import numpy as np\n",
        "import matplotlib.pyplot as plt"
      ]
    },
    {
      "cell_type": "code",
      "source": [
        "# N = number of samples\n",
        "# T = sequence length\n",
        "# D = number of input features\n",
        "# M = number of hidden units\n",
        "# K = number of output units"
      ],
      "metadata": {
        "id": "1C_TDXyabN08"
      },
      "execution_count": 68,
      "outputs": []
    },
    {
      "cell_type": "code",
      "source": [
        "# Synthetic Data\n",
        "N = 1\n",
        "T = 10\n",
        "D = 3\n",
        "M = 5\n",
        "K = 2\n",
        "X = np.random.randn(N, T, D)"
      ],
      "metadata": {
        "id": "8HFc8WZ4bdOn"
      },
      "execution_count": 69,
      "outputs": []
    },
    {
      "cell_type": "code",
      "source": [
        "# Make an RNN\n",
        "class SimpleRNN(nn.Module):\n",
        "  def __init__(self, n_inputs, n_hidden, n_outputs):\n",
        "    super(SimpleRNN, self).__init__()\n",
        "    self.D = n_inputs\n",
        "    self.M = n_hidden\n",
        "    self.K = n_outputs\n",
        "    self.rnn = nn.RNN(\n",
        "        input_size=self.D,\n",
        "        hidden_size=self.M,\n",
        "        nonlinearity=\"tanh\",\n",
        "        batch_first=True\n",
        "    )\n",
        "    self.fc = nn.Linear(self.M, self.K)\n",
        "\n",
        "  def forward(self, X):\n",
        "    # initial hidden states (1 x N x M)\n",
        "    h0 = torch.zeros(1, X.size(0), self.M)\n",
        "\n",
        "    # get RNN unit output\n",
        "    out, _ = self.rnn(X, h0)\n",
        "\n",
        "    # Take all the hidden states and pass it to the final dense layer\n",
        "    out = self.fc(out)\n",
        "    return out"
      ],
      "metadata": {
        "id": "pP8ld1mWdXoX"
      },
      "execution_count": 70,
      "outputs": []
    },
    {
      "cell_type": "code",
      "source": [
        "# Instantiate the model\n",
        "model = SimpleRNN(n_inputs=D, n_hidden=M, n_outputs=K)"
      ],
      "metadata": {
        "id": "-Qcm2T0YhY47"
      },
      "execution_count": 71,
      "outputs": []
    },
    {
      "cell_type": "code",
      "source": [
        "# Get the output\n",
        "inputs = torch.from_numpy(X.astype(np.float32))\n",
        "out = model(inputs)\n",
        "out"
      ],
      "metadata": {
        "colab": {
          "base_uri": "https://localhost:8080/"
        },
        "id": "tj2Uxhychupx",
        "outputId": "cb658aa7-362a-4819-e4af-ec6035fcca82"
      },
      "execution_count": 72,
      "outputs": [
        {
          "output_type": "execute_result",
          "data": {
            "text/plain": [
              "tensor([[[ 0.2815,  0.2051],\n",
              "         [ 1.0332,  0.3559],\n",
              "         [ 0.2034, -0.3969],\n",
              "         [ 0.4116,  0.3697],\n",
              "         [ 0.9502, -0.0609],\n",
              "         [ 0.5670,  0.2924],\n",
              "         [ 0.3360, -0.4081],\n",
              "         [ 0.4898,  0.4840],\n",
              "         [ 0.6353,  0.1821],\n",
              "         [ 0.7645, -0.1035]]], grad_fn=<ViewBackward0>)"
            ]
          },
          "metadata": {},
          "execution_count": 72
        }
      ]
    },
    {
      "cell_type": "code",
      "source": [
        "# out is of size (N x T x K)\n",
        "out.shape"
      ],
      "metadata": {
        "colab": {
          "base_uri": "https://localhost:8080/"
        },
        "id": "ifCWTdphiIiI",
        "outputId": "8db8d167-ca0a-4b27-911d-25780da51066"
      },
      "execution_count": 73,
      "outputs": [
        {
          "output_type": "execute_result",
          "data": {
            "text/plain": [
              "torch.Size([1, 10, 2])"
            ]
          },
          "metadata": {},
          "execution_count": 73
        }
      ]
    },
    {
      "cell_type": "code",
      "source": [
        "Yhats_torch = out.detach().numpy()"
      ],
      "metadata": {
        "id": "4HFd15rwiLS6"
      },
      "execution_count": 74,
      "outputs": []
    },
    {
      "cell_type": "code",
      "source": [
        "Wxh, Whh, bxh, bhh = model.rnn.parameters()"
      ],
      "metadata": {
        "id": "09aI8-RkjKDK"
      },
      "execution_count": 75,
      "outputs": []
    },
    {
      "cell_type": "code",
      "source": [
        "Wxh.shape"
      ],
      "metadata": {
        "colab": {
          "base_uri": "https://localhost:8080/"
        },
        "id": "NWhTn5VHjW7j",
        "outputId": "b64b86ca-334f-47ee-d352-f16f7ab8318f"
      },
      "execution_count": 76,
      "outputs": [
        {
          "output_type": "execute_result",
          "data": {
            "text/plain": [
              "torch.Size([5, 3])"
            ]
          },
          "metadata": {},
          "execution_count": 76
        }
      ]
    },
    {
      "cell_type": "code",
      "source": [
        "Wxh"
      ],
      "metadata": {
        "colab": {
          "base_uri": "https://localhost:8080/"
        },
        "id": "A8zCpjk5jYzr",
        "outputId": "a82084bc-8b95-43a1-bc4a-48b8cfb9ac8e"
      },
      "execution_count": 77,
      "outputs": [
        {
          "output_type": "execute_result",
          "data": {
            "text/plain": [
              "Parameter containing:\n",
              "tensor([[ 0.1883,  0.3353, -0.2365],\n",
              "        [-0.0915,  0.3221,  0.4183],\n",
              "        [-0.3326,  0.0902, -0.2205],\n",
              "        [ 0.3723, -0.0542, -0.1157],\n",
              "        [-0.3244, -0.1606, -0.4423]], requires_grad=True)"
            ]
          },
          "metadata": {},
          "execution_count": 77
        }
      ]
    },
    {
      "cell_type": "code",
      "source": [
        "Wxh = Wxh.data.numpy()\n",
        "Wxh"
      ],
      "metadata": {
        "colab": {
          "base_uri": "https://localhost:8080/"
        },
        "id": "MEhe3wYwjccZ",
        "outputId": "fb2e010b-3889-4dd8-e8f5-fe87b27ac31b"
      },
      "execution_count": 78,
      "outputs": [
        {
          "output_type": "execute_result",
          "data": {
            "text/plain": [
              "array([[ 0.1883184 ,  0.33534142, -0.23647648],\n",
              "       [-0.09146273,  0.3221107 ,  0.4182537 ],\n",
              "       [-0.3325894 ,  0.09023554, -0.22051273],\n",
              "       [ 0.372298  , -0.05421357, -0.11572257],\n",
              "       [-0.32436353, -0.16062526, -0.4423163 ]], dtype=float32)"
            ]
          },
          "metadata": {},
          "execution_count": 78
        }
      ]
    },
    {
      "cell_type": "code",
      "source": [
        "bxh = bxh.data.numpy()\n",
        "bhh = bhh.data.numpy()\n",
        "Whh = Whh.data.numpy()"
      ],
      "metadata": {
        "id": "5i-MeVw6kDPL"
      },
      "execution_count": 79,
      "outputs": []
    },
    {
      "cell_type": "code",
      "source": [
        "Wxh.shape, Whh.shape, bxh.shape, bhh.shape"
      ],
      "metadata": {
        "colab": {
          "base_uri": "https://localhost:8080/"
        },
        "id": "FbTN767OkcQd",
        "outputId": "0d8d4da9-a868-4d7d-bb2f-47b1f8bb9243"
      },
      "execution_count": 80,
      "outputs": [
        {
          "output_type": "execute_result",
          "data": {
            "text/plain": [
              "((5, 3), (5, 5), (5,), (5,))"
            ]
          },
          "metadata": {},
          "execution_count": 80
        }
      ]
    },
    {
      "cell_type": "code",
      "source": [
        "# FC parameter weights\n",
        "Wo, bo = model.fc.parameters()"
      ],
      "metadata": {
        "id": "eDat-0cIkmT1"
      },
      "execution_count": 81,
      "outputs": []
    },
    {
      "cell_type": "code",
      "source": [
        "Wo = Wo.data.numpy()\n",
        "bo = bo.data.numpy()\n",
        "Wo.shape, bo.shape"
      ],
      "metadata": {
        "colab": {
          "base_uri": "https://localhost:8080/"
        },
        "id": "k2jlkmmEvE6l",
        "outputId": "af318f6e-32a0-408d-8f25-1a35ad4dff8d"
      },
      "execution_count": 82,
      "outputs": [
        {
          "output_type": "execute_result",
          "data": {
            "text/plain": [
              "((2, 5), (2,))"
            ]
          },
          "metadata": {},
          "execution_count": 82
        }
      ]
    },
    {
      "cell_type": "code",
      "source": [
        "# See if we can replicate the output\n",
        "h_last = np.zeros(M) # initial hidden state\n",
        "x = X[0] # the one and only sample\n",
        "Yhats = np.zeros((T, K)) # the outputs\n",
        "\n",
        "for t in range(T):\n",
        "  h = np.tanh(x[t].dot(Wxh.T) + bxh + h_last.dot(Whh.T) + bhh)\n",
        "  y = h.dot(Wo.T) + bo # we only care about this value in the last iteration\n",
        "  Yhats[t] = y\n",
        "\n",
        "  h_last = h\n",
        "\n",
        "print(Yhats)"
      ],
      "metadata": {
        "colab": {
          "base_uri": "https://localhost:8080/"
        },
        "id": "zhtTzi4avKiN",
        "outputId": "1ea2ec4f-6d99-435a-afb0-9d3ab35a3c94"
      },
      "execution_count": 83,
      "outputs": [
        {
          "output_type": "stream",
          "name": "stdout",
          "text": [
            "[[ 0.2814659   0.20505499]\n",
            " [ 1.03323575  0.35593529]\n",
            " [ 0.20338952 -0.39690347]\n",
            " [ 0.411601    0.36973532]\n",
            " [ 0.95017998 -0.06087913]\n",
            " [ 0.566959    0.29240908]\n",
            " [ 0.3360443  -0.40814406]\n",
            " [ 0.48977529  0.48398769]\n",
            " [ 0.63526584  0.18214776]\n",
            " [ 0.76447335 -0.10353298]]\n"
          ]
        }
      ]
    },
    {
      "cell_type": "code",
      "source": [
        "np.allclose(Yhats, Yhats_torch)"
      ],
      "metadata": {
        "colab": {
          "base_uri": "https://localhost:8080/"
        },
        "id": "K-oO9IcfyXTg",
        "outputId": "6221bfb7-fc47-4ebf-8541-0a1c8633ad14"
      },
      "execution_count": 84,
      "outputs": [
        {
          "output_type": "execute_result",
          "data": {
            "text/plain": [
              "True"
            ]
          },
          "metadata": {},
          "execution_count": 84
        }
      ]
    },
    {
      "cell_type": "code",
      "source": [],
      "metadata": {
        "id": "oUKhH38Lyr8i"
      },
      "execution_count": null,
      "outputs": []
    }
  ]
}