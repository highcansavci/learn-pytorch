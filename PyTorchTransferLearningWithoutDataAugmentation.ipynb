{
  "nbformat": 4,
  "nbformat_minor": 0,
  "metadata": {
    "colab": {
      "provenance": []
    },
    "kernelspec": {
      "name": "python3",
      "display_name": "Python 3"
    },
    "language_info": {
      "name": "python"
    },
    "accelerator": "GPU",
    "gpuClass": "standard",
    "widgets": {
      "application/vnd.jupyter.widget-state+json": {
        "1baff80c13084b798bee4fce68c35ef6": {
          "model_module": "@jupyter-widgets/controls",
          "model_name": "HBoxModel",
          "model_module_version": "1.5.0",
          "state": {
            "_dom_classes": [],
            "_model_module": "@jupyter-widgets/controls",
            "_model_module_version": "1.5.0",
            "_model_name": "HBoxModel",
            "_view_count": null,
            "_view_module": "@jupyter-widgets/controls",
            "_view_module_version": "1.5.0",
            "_view_name": "HBoxView",
            "box_style": "",
            "children": [
              "IPY_MODEL_d3b0d2628b7a4895b5c7bb6ef17c7120",
              "IPY_MODEL_cacf14fec74340d69caac7502fd30bee",
              "IPY_MODEL_3cd87e4835184fac9ce4680c53727ffb"
            ],
            "layout": "IPY_MODEL_59500624a44b49c4ad4da942a8712a92"
          }
        },
        "d3b0d2628b7a4895b5c7bb6ef17c7120": {
          "model_module": "@jupyter-widgets/controls",
          "model_name": "HTMLModel",
          "model_module_version": "1.5.0",
          "state": {
            "_dom_classes": [],
            "_model_module": "@jupyter-widgets/controls",
            "_model_module_version": "1.5.0",
            "_model_name": "HTMLModel",
            "_view_count": null,
            "_view_module": "@jupyter-widgets/controls",
            "_view_module_version": "1.5.0",
            "_view_name": "HTMLView",
            "description": "",
            "description_tooltip": null,
            "layout": "IPY_MODEL_1d65cc72867a4b068cd6065f1f88b8bd",
            "placeholder": "​",
            "style": "IPY_MODEL_677cead1156c435bb82f0c679fbe5a64",
            "value": "100%"
          }
        },
        "cacf14fec74340d69caac7502fd30bee": {
          "model_module": "@jupyter-widgets/controls",
          "model_name": "FloatProgressModel",
          "model_module_version": "1.5.0",
          "state": {
            "_dom_classes": [],
            "_model_module": "@jupyter-widgets/controls",
            "_model_module_version": "1.5.0",
            "_model_name": "FloatProgressModel",
            "_view_count": null,
            "_view_module": "@jupyter-widgets/controls",
            "_view_module_version": "1.5.0",
            "_view_name": "ProgressView",
            "bar_style": "success",
            "description": "",
            "description_tooltip": null,
            "layout": "IPY_MODEL_0e70d0408583423d9fade46bbe0aa62a",
            "max": 553433881,
            "min": 0,
            "orientation": "horizontal",
            "style": "IPY_MODEL_39fb44ec7bac450286ce682e6f419d9e",
            "value": 553433881
          }
        },
        "3cd87e4835184fac9ce4680c53727ffb": {
          "model_module": "@jupyter-widgets/controls",
          "model_name": "HTMLModel",
          "model_module_version": "1.5.0",
          "state": {
            "_dom_classes": [],
            "_model_module": "@jupyter-widgets/controls",
            "_model_module_version": "1.5.0",
            "_model_name": "HTMLModel",
            "_view_count": null,
            "_view_module": "@jupyter-widgets/controls",
            "_view_module_version": "1.5.0",
            "_view_name": "HTMLView",
            "description": "",
            "description_tooltip": null,
            "layout": "IPY_MODEL_c0885b19998b4f54ac1fb208dc8eb083",
            "placeholder": "​",
            "style": "IPY_MODEL_8a3ea185867f4c58849e98b79de1363e",
            "value": " 528M/528M [00:05&lt;00:00, 83.8MB/s]"
          }
        },
        "59500624a44b49c4ad4da942a8712a92": {
          "model_module": "@jupyter-widgets/base",
          "model_name": "LayoutModel",
          "model_module_version": "1.2.0",
          "state": {
            "_model_module": "@jupyter-widgets/base",
            "_model_module_version": "1.2.0",
            "_model_name": "LayoutModel",
            "_view_count": null,
            "_view_module": "@jupyter-widgets/base",
            "_view_module_version": "1.2.0",
            "_view_name": "LayoutView",
            "align_content": null,
            "align_items": null,
            "align_self": null,
            "border": null,
            "bottom": null,
            "display": null,
            "flex": null,
            "flex_flow": null,
            "grid_area": null,
            "grid_auto_columns": null,
            "grid_auto_flow": null,
            "grid_auto_rows": null,
            "grid_column": null,
            "grid_gap": null,
            "grid_row": null,
            "grid_template_areas": null,
            "grid_template_columns": null,
            "grid_template_rows": null,
            "height": null,
            "justify_content": null,
            "justify_items": null,
            "left": null,
            "margin": null,
            "max_height": null,
            "max_width": null,
            "min_height": null,
            "min_width": null,
            "object_fit": null,
            "object_position": null,
            "order": null,
            "overflow": null,
            "overflow_x": null,
            "overflow_y": null,
            "padding": null,
            "right": null,
            "top": null,
            "visibility": null,
            "width": null
          }
        },
        "1d65cc72867a4b068cd6065f1f88b8bd": {
          "model_module": "@jupyter-widgets/base",
          "model_name": "LayoutModel",
          "model_module_version": "1.2.0",
          "state": {
            "_model_module": "@jupyter-widgets/base",
            "_model_module_version": "1.2.0",
            "_model_name": "LayoutModel",
            "_view_count": null,
            "_view_module": "@jupyter-widgets/base",
            "_view_module_version": "1.2.0",
            "_view_name": "LayoutView",
            "align_content": null,
            "align_items": null,
            "align_self": null,
            "border": null,
            "bottom": null,
            "display": null,
            "flex": null,
            "flex_flow": null,
            "grid_area": null,
            "grid_auto_columns": null,
            "grid_auto_flow": null,
            "grid_auto_rows": null,
            "grid_column": null,
            "grid_gap": null,
            "grid_row": null,
            "grid_template_areas": null,
            "grid_template_columns": null,
            "grid_template_rows": null,
            "height": null,
            "justify_content": null,
            "justify_items": null,
            "left": null,
            "margin": null,
            "max_height": null,
            "max_width": null,
            "min_height": null,
            "min_width": null,
            "object_fit": null,
            "object_position": null,
            "order": null,
            "overflow": null,
            "overflow_x": null,
            "overflow_y": null,
            "padding": null,
            "right": null,
            "top": null,
            "visibility": null,
            "width": null
          }
        },
        "677cead1156c435bb82f0c679fbe5a64": {
          "model_module": "@jupyter-widgets/controls",
          "model_name": "DescriptionStyleModel",
          "model_module_version": "1.5.0",
          "state": {
            "_model_module": "@jupyter-widgets/controls",
            "_model_module_version": "1.5.0",
            "_model_name": "DescriptionStyleModel",
            "_view_count": null,
            "_view_module": "@jupyter-widgets/base",
            "_view_module_version": "1.2.0",
            "_view_name": "StyleView",
            "description_width": ""
          }
        },
        "0e70d0408583423d9fade46bbe0aa62a": {
          "model_module": "@jupyter-widgets/base",
          "model_name": "LayoutModel",
          "model_module_version": "1.2.0",
          "state": {
            "_model_module": "@jupyter-widgets/base",
            "_model_module_version": "1.2.0",
            "_model_name": "LayoutModel",
            "_view_count": null,
            "_view_module": "@jupyter-widgets/base",
            "_view_module_version": "1.2.0",
            "_view_name": "LayoutView",
            "align_content": null,
            "align_items": null,
            "align_self": null,
            "border": null,
            "bottom": null,
            "display": null,
            "flex": null,
            "flex_flow": null,
            "grid_area": null,
            "grid_auto_columns": null,
            "grid_auto_flow": null,
            "grid_auto_rows": null,
            "grid_column": null,
            "grid_gap": null,
            "grid_row": null,
            "grid_template_areas": null,
            "grid_template_columns": null,
            "grid_template_rows": null,
            "height": null,
            "justify_content": null,
            "justify_items": null,
            "left": null,
            "margin": null,
            "max_height": null,
            "max_width": null,
            "min_height": null,
            "min_width": null,
            "object_fit": null,
            "object_position": null,
            "order": null,
            "overflow": null,
            "overflow_x": null,
            "overflow_y": null,
            "padding": null,
            "right": null,
            "top": null,
            "visibility": null,
            "width": null
          }
        },
        "39fb44ec7bac450286ce682e6f419d9e": {
          "model_module": "@jupyter-widgets/controls",
          "model_name": "ProgressStyleModel",
          "model_module_version": "1.5.0",
          "state": {
            "_model_module": "@jupyter-widgets/controls",
            "_model_module_version": "1.5.0",
            "_model_name": "ProgressStyleModel",
            "_view_count": null,
            "_view_module": "@jupyter-widgets/base",
            "_view_module_version": "1.2.0",
            "_view_name": "StyleView",
            "bar_color": null,
            "description_width": ""
          }
        },
        "c0885b19998b4f54ac1fb208dc8eb083": {
          "model_module": "@jupyter-widgets/base",
          "model_name": "LayoutModel",
          "model_module_version": "1.2.0",
          "state": {
            "_model_module": "@jupyter-widgets/base",
            "_model_module_version": "1.2.0",
            "_model_name": "LayoutModel",
            "_view_count": null,
            "_view_module": "@jupyter-widgets/base",
            "_view_module_version": "1.2.0",
            "_view_name": "LayoutView",
            "align_content": null,
            "align_items": null,
            "align_self": null,
            "border": null,
            "bottom": null,
            "display": null,
            "flex": null,
            "flex_flow": null,
            "grid_area": null,
            "grid_auto_columns": null,
            "grid_auto_flow": null,
            "grid_auto_rows": null,
            "grid_column": null,
            "grid_gap": null,
            "grid_row": null,
            "grid_template_areas": null,
            "grid_template_columns": null,
            "grid_template_rows": null,
            "height": null,
            "justify_content": null,
            "justify_items": null,
            "left": null,
            "margin": null,
            "max_height": null,
            "max_width": null,
            "min_height": null,
            "min_width": null,
            "object_fit": null,
            "object_position": null,
            "order": null,
            "overflow": null,
            "overflow_x": null,
            "overflow_y": null,
            "padding": null,
            "right": null,
            "top": null,
            "visibility": null,
            "width": null
          }
        },
        "8a3ea185867f4c58849e98b79de1363e": {
          "model_module": "@jupyter-widgets/controls",
          "model_name": "DescriptionStyleModel",
          "model_module_version": "1.5.0",
          "state": {
            "_model_module": "@jupyter-widgets/controls",
            "_model_module_version": "1.5.0",
            "_model_name": "DescriptionStyleModel",
            "_view_count": null,
            "_view_module": "@jupyter-widgets/base",
            "_view_module_version": "1.2.0",
            "_view_name": "StyleView",
            "description_width": ""
          }
        }
      }
    }
  },
  "cells": [
    {
      "cell_type": "code",
      "execution_count": 1,
      "metadata": {
        "id": "cmL0dM6mv-rt"
      },
      "outputs": [],
      "source": [
        "import torch\n",
        "import torch.nn as nn\n",
        "import torchvision\n",
        "from torchvision import datasets, transforms, models\n",
        "import numpy as np\n",
        "import matplotlib.pyplot as plt\n",
        "from datetime import datetime\n",
        "import sys, os\n",
        "from glob import glob\n",
        "import imageio"
      ]
    },
    {
      "cell_type": "code",
      "source": [
        "!wget -nc https://lazyprogrammer.me/course_files/Food-5K.zip"
      ],
      "metadata": {
        "colab": {
          "base_uri": "https://localhost:8080/"
        },
        "id": "st16-gWyu7O4",
        "outputId": "3cbd6ff1-5489-47a1-bc48-45e11215bf92"
      },
      "execution_count": 2,
      "outputs": [
        {
          "output_type": "stream",
          "name": "stdout",
          "text": [
            "--2023-03-05 17:04:59--  https://lazyprogrammer.me/course_files/Food-5K.zip\n",
            "Resolving lazyprogrammer.me (lazyprogrammer.me)... 172.67.213.166, 104.21.23.210, 2606:4700:3030::ac43:d5a6, ...\n",
            "Connecting to lazyprogrammer.me (lazyprogrammer.me)|172.67.213.166|:443... connected.\n",
            "HTTP request sent, awaiting response... 200 OK\n",
            "Length: 447001986 (426M) [application/zip]\n",
            "Saving to: ‘Food-5K.zip’\n",
            "\n",
            "Food-5K.zip         100%[===================>] 426.29M   190MB/s    in 2.2s    \n",
            "\n",
            "2023-03-05 17:05:02 (190 MB/s) - ‘Food-5K.zip’ saved [447001986/447001986]\n",
            "\n"
          ]
        }
      ]
    },
    {
      "cell_type": "code",
      "source": [
        "!unzip -qq -o Food-5K.zip"
      ],
      "metadata": {
        "id": "hFxkXqewwZap"
      },
      "execution_count": 3,
      "outputs": []
    },
    {
      "cell_type": "code",
      "execution_count": 4,
      "metadata": {
        "colab": {
          "base_uri": "https://localhost:8080/"
        },
        "id": "XnCPfqOI99_j",
        "outputId": "3b203c07-bc8c-4383-bbfc-8270f130f555"
      },
      "outputs": [
        {
          "output_type": "stream",
          "name": "stdout",
          "text": [
            "Food-5K  Food-5K.zip  __MACOSX\tsample_data\n"
          ]
        }
      ],
      "source": [
        "!ls"
      ]
    },
    {
      "cell_type": "code",
      "execution_count": 5,
      "metadata": {
        "colab": {
          "base_uri": "https://localhost:8080/"
        },
        "id": "g6JAQZrc-ACG",
        "outputId": "c90ca678-8791-4a91-8ea0-2a9c13751a3f"
      },
      "outputs": [
        {
          "output_type": "stream",
          "name": "stdout",
          "text": [
            "0_0.jpg     0_1387.jpg\t0_422.jpg  0_809.jpg   1_1195.jpg  1_230.jpg  1_617.jpg\n",
            "0_1000.jpg  0_1388.jpg\t0_423.jpg  0_80.jpg    1_1196.jpg  1_231.jpg  1_618.jpg\n",
            "0_1001.jpg  0_1389.jpg\t0_424.jpg  0_810.jpg   1_1197.jpg  1_232.jpg  1_619.jpg\n",
            "0_1002.jpg  0_138.jpg\t0_425.jpg  0_811.jpg   1_1198.jpg  1_233.jpg  1_61.jpg\n",
            "0_1003.jpg  0_1390.jpg\t0_426.jpg  0_812.jpg   1_1199.jpg  1_234.jpg  1_620.jpg\n",
            "0_1004.jpg  0_1391.jpg\t0_427.jpg  0_813.jpg   1_119.jpg   1_235.jpg  1_621.jpg\n",
            "0_1005.jpg  0_1392.jpg\t0_428.jpg  0_814.jpg   1_11.jpg    1_236.jpg  1_622.jpg\n",
            "0_1006.jpg  0_1393.jpg\t0_429.jpg  0_815.jpg   1_1200.jpg  1_237.jpg  1_623.jpg\n",
            "0_1007.jpg  0_1394.jpg\t0_42.jpg   0_816.jpg   1_1201.jpg  1_238.jpg  1_624.jpg\n",
            "0_1008.jpg  0_1395.jpg\t0_430.jpg  0_817.jpg   1_1202.jpg  1_239.jpg  1_625.jpg\n",
            "0_1009.jpg  0_1396.jpg\t0_431.jpg  0_818.jpg   1_1203.jpg  1_23.jpg   1_626.jpg\n",
            "0_100.jpg   0_1397.jpg\t0_432.jpg  0_819.jpg   1_1204.jpg  1_240.jpg  1_627.jpg\n",
            "0_1010.jpg  0_1398.jpg\t0_433.jpg  0_81.jpg    1_1205.jpg  1_241.jpg  1_628.jpg\n",
            "0_1011.jpg  0_1399.jpg\t0_434.jpg  0_820.jpg   1_1206.jpg  1_242.jpg  1_629.jpg\n",
            "0_1012.jpg  0_139.jpg\t0_435.jpg  0_821.jpg   1_1207.jpg  1_243.jpg  1_62.jpg\n",
            "0_1013.jpg  0_13.jpg\t0_436.jpg  0_822.jpg   1_1208.jpg  1_244.jpg  1_630.jpg\n",
            "0_1014.jpg  0_1400.jpg\t0_437.jpg  0_823.jpg   1_1209.jpg  1_245.jpg  1_631.jpg\n",
            "0_1015.jpg  0_1401.jpg\t0_438.jpg  0_824.jpg   1_120.jpg   1_246.jpg  1_632.jpg\n",
            "0_1016.jpg  0_1402.jpg\t0_439.jpg  0_825.jpg   1_1210.jpg  1_247.jpg  1_633.jpg\n",
            "0_1017.jpg  0_1403.jpg\t0_43.jpg   0_826.jpg   1_1211.jpg  1_248.jpg  1_634.jpg\n",
            "0_1018.jpg  0_1404.jpg\t0_440.jpg  0_827.jpg   1_1212.jpg  1_249.jpg  1_635.jpg\n",
            "0_1019.jpg  0_1405.jpg\t0_441.jpg  0_828.jpg   1_1213.jpg  1_24.jpg   1_636.jpg\n",
            "0_101.jpg   0_1406.jpg\t0_442.jpg  0_829.jpg   1_1214.jpg  1_250.jpg  1_637.jpg\n",
            "0_1020.jpg  0_1407.jpg\t0_443.jpg  0_82.jpg    1_1215.jpg  1_251.jpg  1_638.jpg\n",
            "0_1021.jpg  0_1408.jpg\t0_444.jpg  0_830.jpg   1_1216.jpg  1_252.jpg  1_639.jpg\n",
            "0_1022.jpg  0_1409.jpg\t0_445.jpg  0_831.jpg   1_1217.jpg  1_253.jpg  1_63.jpg\n",
            "0_1023.jpg  0_140.jpg\t0_446.jpg  0_832.jpg   1_1218.jpg  1_254.jpg  1_640.jpg\n",
            "0_1024.jpg  0_1410.jpg\t0_447.jpg  0_833.jpg   1_1219.jpg  1_255.jpg  1_641.jpg\n",
            "0_1025.jpg  0_1411.jpg\t0_448.jpg  0_834.jpg   1_121.jpg   1_256.jpg  1_642.jpg\n",
            "0_1026.jpg  0_1412.jpg\t0_449.jpg  0_835.jpg   1_1220.jpg  1_257.jpg  1_643.jpg\n",
            "0_1027.jpg  0_1413.jpg\t0_44.jpg   0_836.jpg   1_1221.jpg  1_258.jpg  1_644.jpg\n",
            "0_1028.jpg  0_1414.jpg\t0_450.jpg  0_837.jpg   1_1222.jpg  1_259.jpg  1_645.jpg\n",
            "0_1029.jpg  0_1415.jpg\t0_451.jpg  0_838.jpg   1_1223.jpg  1_25.jpg   1_646.jpg\n",
            "0_102.jpg   0_1416.jpg\t0_452.jpg  0_839.jpg   1_1224.jpg  1_260.jpg  1_647.jpg\n",
            "0_1030.jpg  0_1417.jpg\t0_453.jpg  0_83.jpg    1_1225.jpg  1_261.jpg  1_648.jpg\n",
            "0_1031.jpg  0_1418.jpg\t0_454.jpg  0_840.jpg   1_1226.jpg  1_262.jpg  1_649.jpg\n",
            "0_1032.jpg  0_1419.jpg\t0_455.jpg  0_841.jpg   1_1227.jpg  1_263.jpg  1_64.jpg\n",
            "0_1033.jpg  0_141.jpg\t0_456.jpg  0_842.jpg   1_1228.jpg  1_264.jpg  1_650.jpg\n",
            "0_1034.jpg  0_1420.jpg\t0_457.jpg  0_843.jpg   1_1229.jpg  1_265.jpg  1_651.jpg\n",
            "0_1035.jpg  0_1421.jpg\t0_458.jpg  0_844.jpg   1_122.jpg   1_266.jpg  1_652.jpg\n",
            "0_1036.jpg  0_1422.jpg\t0_459.jpg  0_845.jpg   1_1230.jpg  1_267.jpg  1_653.jpg\n",
            "0_1037.jpg  0_1423.jpg\t0_45.jpg   0_846.jpg   1_1231.jpg  1_268.jpg  1_654.jpg\n",
            "0_1038.jpg  0_1424.jpg\t0_460.jpg  0_847.jpg   1_1232.jpg  1_269.jpg  1_655.jpg\n",
            "0_1039.jpg  0_1425.jpg\t0_461.jpg  0_848.jpg   1_1233.jpg  1_26.jpg   1_656.jpg\n",
            "0_103.jpg   0_1426.jpg\t0_462.jpg  0_849.jpg   1_1234.jpg  1_270.jpg  1_657.jpg\n",
            "0_1040.jpg  0_1427.jpg\t0_463.jpg  0_84.jpg    1_1235.jpg  1_271.jpg  1_658.jpg\n",
            "0_1041.jpg  0_1428.jpg\t0_464.jpg  0_850.jpg   1_1236.jpg  1_272.jpg  1_659.jpg\n",
            "0_1042.jpg  0_1429.jpg\t0_465.jpg  0_851.jpg   1_1237.jpg  1_273.jpg  1_65.jpg\n",
            "0_1043.jpg  0_142.jpg\t0_466.jpg  0_852.jpg   1_1238.jpg  1_274.jpg  1_660.jpg\n",
            "0_1044.jpg  0_1430.jpg\t0_467.jpg  0_853.jpg   1_1239.jpg  1_275.jpg  1_661.jpg\n",
            "0_1045.jpg  0_1431.jpg\t0_468.jpg  0_854.jpg   1_123.jpg   1_276.jpg  1_662.jpg\n",
            "0_1046.jpg  0_1432.jpg\t0_469.jpg  0_855.jpg   1_1240.jpg  1_277.jpg  1_663.jpg\n",
            "0_1047.jpg  0_1433.jpg\t0_46.jpg   0_856.jpg   1_1241.jpg  1_278.jpg  1_664.jpg\n",
            "0_1048.jpg  0_1434.jpg\t0_470.jpg  0_857.jpg   1_1242.jpg  1_279.jpg  1_665.jpg\n",
            "0_1049.jpg  0_1435.jpg\t0_471.jpg  0_858.jpg   1_1243.jpg  1_27.jpg   1_666.jpg\n",
            "0_104.jpg   0_1436.jpg\t0_472.jpg  0_859.jpg   1_1244.jpg  1_280.jpg  1_667.jpg\n",
            "0_1050.jpg  0_1437.jpg\t0_473.jpg  0_85.jpg    1_1245.jpg  1_281.jpg  1_668.jpg\n",
            "0_1051.jpg  0_1438.jpg\t0_474.jpg  0_860.jpg   1_1246.jpg  1_282.jpg  1_669.jpg\n",
            "0_1052.jpg  0_1439.jpg\t0_475.jpg  0_861.jpg   1_1247.jpg  1_283.jpg  1_66.jpg\n",
            "0_1053.jpg  0_143.jpg\t0_476.jpg  0_862.jpg   1_1248.jpg  1_284.jpg  1_670.jpg\n",
            "0_1054.jpg  0_1440.jpg\t0_477.jpg  0_863.jpg   1_1249.jpg  1_285.jpg  1_671.jpg\n",
            "0_1055.jpg  0_1441.jpg\t0_478.jpg  0_864.jpg   1_124.jpg   1_286.jpg  1_672.jpg\n",
            "0_1056.jpg  0_1442.jpg\t0_479.jpg  0_865.jpg   1_1250.jpg  1_287.jpg  1_673.jpg\n",
            "0_1057.jpg  0_1443.jpg\t0_47.jpg   0_866.jpg   1_1251.jpg  1_288.jpg  1_674.jpg\n",
            "0_1058.jpg  0_1444.jpg\t0_480.jpg  0_867.jpg   1_1252.jpg  1_289.jpg  1_675.jpg\n",
            "0_1059.jpg  0_1445.jpg\t0_481.jpg  0_868.jpg   1_1253.jpg  1_28.jpg   1_676.jpg\n",
            "0_105.jpg   0_1446.jpg\t0_482.jpg  0_869.jpg   1_1254.jpg  1_290.jpg  1_677.jpg\n",
            "0_1060.jpg  0_1447.jpg\t0_483.jpg  0_86.jpg    1_1255.jpg  1_291.jpg  1_678.jpg\n",
            "0_1061.jpg  0_1448.jpg\t0_484.jpg  0_870.jpg   1_1256.jpg  1_292.jpg  1_679.jpg\n",
            "0_1062.jpg  0_1449.jpg\t0_485.jpg  0_871.jpg   1_1257.jpg  1_293.jpg  1_67.jpg\n",
            "0_1063.jpg  0_144.jpg\t0_486.jpg  0_872.jpg   1_1258.jpg  1_294.jpg  1_680.jpg\n",
            "0_1064.jpg  0_1450.jpg\t0_487.jpg  0_873.jpg   1_1259.jpg  1_295.jpg  1_681.jpg\n",
            "0_1065.jpg  0_1451.jpg\t0_488.jpg  0_874.jpg   1_125.jpg   1_296.jpg  1_682.jpg\n",
            "0_1066.jpg  0_1452.jpg\t0_489.jpg  0_875.jpg   1_1260.jpg  1_297.jpg  1_683.jpg\n",
            "0_1067.jpg  0_1453.jpg\t0_48.jpg   0_876.jpg   1_1261.jpg  1_298.jpg  1_684.jpg\n",
            "0_1068.jpg  0_1454.jpg\t0_490.jpg  0_877.jpg   1_1262.jpg  1_299.jpg  1_685.jpg\n",
            "0_1069.jpg  0_1455.jpg\t0_491.jpg  0_878.jpg   1_1263.jpg  1_29.jpg   1_686.jpg\n",
            "0_106.jpg   0_1456.jpg\t0_492.jpg  0_879.jpg   1_1264.jpg  1_2.jpg    1_687.jpg\n",
            "0_1070.jpg  0_1457.jpg\t0_493.jpg  0_87.jpg    1_1265.jpg  1_300.jpg  1_688.jpg\n",
            "0_1071.jpg  0_1458.jpg\t0_494.jpg  0_880.jpg   1_1266.jpg  1_301.jpg  1_689.jpg\n",
            "0_1072.jpg  0_1459.jpg\t0_495.jpg  0_881.jpg   1_1267.jpg  1_302.jpg  1_68.jpg\n",
            "0_1073.jpg  0_145.jpg\t0_496.jpg  0_882.jpg   1_1268.jpg  1_303.jpg  1_690.jpg\n",
            "0_1074.jpg  0_1460.jpg\t0_497.jpg  0_883.jpg   1_1269.jpg  1_304.jpg  1_691.jpg\n",
            "0_1075.jpg  0_1461.jpg\t0_498.jpg  0_884.jpg   1_126.jpg   1_305.jpg  1_692.jpg\n",
            "0_1076.jpg  0_1462.jpg\t0_499.jpg  0_885.jpg   1_1270.jpg  1_306.jpg  1_693.jpg\n",
            "0_1077.jpg  0_1463.jpg\t0_49.jpg   0_886.jpg   1_1271.jpg  1_307.jpg  1_694.jpg\n",
            "0_1078.jpg  0_1464.jpg\t0_4.jpg    0_887.jpg   1_1272.jpg  1_308.jpg  1_695.jpg\n",
            "0_1079.jpg  0_1465.jpg\t0_500.jpg  0_888.jpg   1_1273.jpg  1_309.jpg  1_696.jpg\n",
            "0_107.jpg   0_1466.jpg\t0_501.jpg  0_889.jpg   1_1274.jpg  1_30.jpg   1_697.jpg\n",
            "0_1080.jpg  0_1467.jpg\t0_502.jpg  0_88.jpg    1_1275.jpg  1_310.jpg  1_698.jpg\n",
            "0_1081.jpg  0_1468.jpg\t0_503.jpg  0_890.jpg   1_1276.jpg  1_311.jpg  1_699.jpg\n",
            "0_1082.jpg  0_1469.jpg\t0_504.jpg  0_891.jpg   1_1277.jpg  1_312.jpg  1_69.jpg\n",
            "0_1083.jpg  0_146.jpg\t0_505.jpg  0_892.jpg   1_1278.jpg  1_313.jpg  1_6.jpg\n",
            "0_1084.jpg  0_1470.jpg\t0_506.jpg  0_893.jpg   1_1279.jpg  1_314.jpg  1_700.jpg\n",
            "0_1085.jpg  0_1471.jpg\t0_507.jpg  0_894.jpg   1_127.jpg   1_315.jpg  1_701.jpg\n",
            "0_1086.jpg  0_1472.jpg\t0_508.jpg  0_895.jpg   1_1280.jpg  1_316.jpg  1_702.jpg\n",
            "0_1087.jpg  0_1473.jpg\t0_509.jpg  0_896.jpg   1_1281.jpg  1_317.jpg  1_703.jpg\n",
            "0_1088.jpg  0_1474.jpg\t0_50.jpg   0_897.jpg   1_1282.jpg  1_318.jpg  1_704.jpg\n",
            "0_1089.jpg  0_1475.jpg\t0_510.jpg  0_898.jpg   1_1283.jpg  1_319.jpg  1_705.jpg\n",
            "0_108.jpg   0_1476.jpg\t0_511.jpg  0_899.jpg   1_1284.jpg  1_31.jpg   1_706.jpg\n",
            "0_1090.jpg  0_1477.jpg\t0_512.jpg  0_89.jpg    1_1285.jpg  1_320.jpg  1_707.jpg\n",
            "0_1091.jpg  0_1478.jpg\t0_513.jpg  0_8.jpg     1_1286.jpg  1_321.jpg  1_708.jpg\n",
            "0_1092.jpg  0_1479.jpg\t0_514.jpg  0_900.jpg   1_1287.jpg  1_322.jpg  1_709.jpg\n",
            "0_1093.jpg  0_147.jpg\t0_515.jpg  0_901.jpg   1_1288.jpg  1_323.jpg  1_70.jpg\n",
            "0_1094.jpg  0_1480.jpg\t0_516.jpg  0_902.jpg   1_1289.jpg  1_324.jpg  1_710.jpg\n",
            "0_1095.jpg  0_1481.jpg\t0_517.jpg  0_903.jpg   1_128.jpg   1_325.jpg  1_711.jpg\n",
            "0_1096.jpg  0_1482.jpg\t0_518.jpg  0_904.jpg   1_1290.jpg  1_326.jpg  1_712.jpg\n",
            "0_1097.jpg  0_1483.jpg\t0_519.jpg  0_905.jpg   1_1291.jpg  1_327.jpg  1_713.jpg\n",
            "0_1098.jpg  0_1484.jpg\t0_51.jpg   0_906.jpg   1_1292.jpg  1_328.jpg  1_714.jpg\n",
            "0_1099.jpg  0_1485.jpg\t0_520.jpg  0_907.jpg   1_1293.jpg  1_329.jpg  1_715.jpg\n",
            "0_109.jpg   0_1486.jpg\t0_521.jpg  0_908.jpg   1_1294.jpg  1_32.jpg   1_716.jpg\n",
            "0_10.jpg    0_1487.jpg\t0_522.jpg  0_909.jpg   1_1295.jpg  1_330.jpg  1_717.jpg\n",
            "0_1100.jpg  0_1488.jpg\t0_523.jpg  0_90.jpg    1_1296.jpg  1_331.jpg  1_718.jpg\n",
            "0_1101.jpg  0_1489.jpg\t0_524.jpg  0_910.jpg   1_1297.jpg  1_332.jpg  1_719.jpg\n",
            "0_1102.jpg  0_148.jpg\t0_525.jpg  0_911.jpg   1_1298.jpg  1_333.jpg  1_71.jpg\n",
            "0_1103.jpg  0_1490.jpg\t0_526.jpg  0_912.jpg   1_1299.jpg  1_334.jpg  1_720.jpg\n",
            "0_1104.jpg  0_1491.jpg\t0_527.jpg  0_913.jpg   1_129.jpg   1_335.jpg  1_721.jpg\n",
            "0_1105.jpg  0_1492.jpg\t0_528.jpg  0_914.jpg   1_12.jpg    1_336.jpg  1_722.jpg\n",
            "0_1106.jpg  0_1493.jpg\t0_529.jpg  0_915.jpg   1_1300.jpg  1_337.jpg  1_723.jpg\n",
            "0_1107.jpg  0_1494.jpg\t0_52.jpg   0_916.jpg   1_1301.jpg  1_338.jpg  1_724.jpg\n",
            "0_1108.jpg  0_1495.jpg\t0_530.jpg  0_917.jpg   1_1302.jpg  1_339.jpg  1_725.jpg\n",
            "0_1109.jpg  0_1496.jpg\t0_531.jpg  0_918.jpg   1_1303.jpg  1_33.jpg   1_726.jpg\n",
            "0_110.jpg   0_1497.jpg\t0_532.jpg  0_919.jpg   1_1304.jpg  1_340.jpg  1_727.jpg\n",
            "0_1110.jpg  0_1498.jpg\t0_533.jpg  0_91.jpg    1_1305.jpg  1_341.jpg  1_728.jpg\n",
            "0_1111.jpg  0_1499.jpg\t0_534.jpg  0_920.jpg   1_1306.jpg  1_342.jpg  1_729.jpg\n",
            "0_1112.jpg  0_149.jpg\t0_535.jpg  0_921.jpg   1_1307.jpg  1_343.jpg  1_72.jpg\n",
            "0_1113.jpg  0_14.jpg\t0_536.jpg  0_922.jpg   1_1308.jpg  1_344.jpg  1_730.jpg\n",
            "0_1114.jpg  0_150.jpg\t0_537.jpg  0_923.jpg   1_1309.jpg  1_345.jpg  1_731.jpg\n",
            "0_1115.jpg  0_151.jpg\t0_538.jpg  0_924.jpg   1_130.jpg   1_346.jpg  1_732.jpg\n",
            "0_1116.jpg  0_152.jpg\t0_539.jpg  0_925.jpg   1_1310.jpg  1_347.jpg  1_733.jpg\n",
            "0_1117.jpg  0_153.jpg\t0_53.jpg   0_926.jpg   1_1311.jpg  1_348.jpg  1_734.jpg\n",
            "0_1118.jpg  0_154.jpg\t0_540.jpg  0_927.jpg   1_1312.jpg  1_349.jpg  1_735.jpg\n",
            "0_1119.jpg  0_155.jpg\t0_541.jpg  0_928.jpg   1_1313.jpg  1_34.jpg   1_736.jpg\n",
            "0_111.jpg   0_156.jpg\t0_542.jpg  0_929.jpg   1_1314.jpg  1_350.jpg  1_737.jpg\n",
            "0_1120.jpg  0_157.jpg\t0_543.jpg  0_92.jpg    1_1315.jpg  1_351.jpg  1_738.jpg\n",
            "0_1121.jpg  0_158.jpg\t0_544.jpg  0_930.jpg   1_1316.jpg  1_352.jpg  1_739.jpg\n",
            "0_1122.jpg  0_159.jpg\t0_545.jpg  0_931.jpg   1_1317.jpg  1_353.jpg  1_73.jpg\n",
            "0_1123.jpg  0_15.jpg\t0_546.jpg  0_932.jpg   1_1318.jpg  1_354.jpg  1_740.jpg\n",
            "0_1124.jpg  0_160.jpg\t0_547.jpg  0_933.jpg   1_1319.jpg  1_355.jpg  1_741.jpg\n",
            "0_1125.jpg  0_161.jpg\t0_548.jpg  0_934.jpg   1_131.jpg   1_356.jpg  1_742.jpg\n",
            "0_1126.jpg  0_162.jpg\t0_549.jpg  0_935.jpg   1_1320.jpg  1_357.jpg  1_743.jpg\n",
            "0_1127.jpg  0_163.jpg\t0_54.jpg   0_936.jpg   1_1321.jpg  1_358.jpg  1_744.jpg\n",
            "0_1128.jpg  0_164.jpg\t0_550.jpg  0_937.jpg   1_1322.jpg  1_359.jpg  1_745.jpg\n",
            "0_1129.jpg  0_165.jpg\t0_551.jpg  0_938.jpg   1_1323.jpg  1_35.jpg   1_746.jpg\n",
            "0_112.jpg   0_166.jpg\t0_552.jpg  0_939.jpg   1_1324.jpg  1_360.jpg  1_747.jpg\n",
            "0_1130.jpg  0_167.jpg\t0_553.jpg  0_93.jpg    1_1325.jpg  1_361.jpg  1_748.jpg\n",
            "0_1131.jpg  0_168.jpg\t0_554.jpg  0_940.jpg   1_1326.jpg  1_362.jpg  1_749.jpg\n",
            "0_1132.jpg  0_169.jpg\t0_555.jpg  0_941.jpg   1_1327.jpg  1_363.jpg  1_74.jpg\n",
            "0_1133.jpg  0_16.jpg\t0_556.jpg  0_942.jpg   1_1328.jpg  1_364.jpg  1_750.jpg\n",
            "0_1134.jpg  0_170.jpg\t0_557.jpg  0_943.jpg   1_1329.jpg  1_365.jpg  1_751.jpg\n",
            "0_1135.jpg  0_171.jpg\t0_558.jpg  0_944.jpg   1_132.jpg   1_366.jpg  1_752.jpg\n",
            "0_1136.jpg  0_172.jpg\t0_559.jpg  0_945.jpg   1_1330.jpg  1_367.jpg  1_753.jpg\n",
            "0_1137.jpg  0_173.jpg\t0_55.jpg   0_946.jpg   1_1331.jpg  1_368.jpg  1_754.jpg\n",
            "0_1138.jpg  0_174.jpg\t0_560.jpg  0_947.jpg   1_1332.jpg  1_369.jpg  1_755.jpg\n",
            "0_1139.jpg  0_175.jpg\t0_561.jpg  0_948.jpg   1_1333.jpg  1_36.jpg   1_756.jpg\n",
            "0_113.jpg   0_176.jpg\t0_562.jpg  0_949.jpg   1_1334.jpg  1_370.jpg  1_757.jpg\n",
            "0_1140.jpg  0_177.jpg\t0_563.jpg  0_94.jpg    1_1335.jpg  1_371.jpg  1_758.jpg\n",
            "0_1141.jpg  0_178.jpg\t0_564.jpg  0_950.jpg   1_1336.jpg  1_372.jpg  1_759.jpg\n",
            "0_1142.jpg  0_179.jpg\t0_565.jpg  0_951.jpg   1_1337.jpg  1_373.jpg  1_75.jpg\n",
            "0_1143.jpg  0_17.jpg\t0_566.jpg  0_952.jpg   1_1338.jpg  1_374.jpg  1_760.jpg\n",
            "0_1144.jpg  0_180.jpg\t0_567.jpg  0_953.jpg   1_1339.jpg  1_375.jpg  1_761.jpg\n",
            "0_1145.jpg  0_181.jpg\t0_568.jpg  0_954.jpg   1_133.jpg   1_376.jpg  1_762.jpg\n",
            "0_1146.jpg  0_182.jpg\t0_569.jpg  0_955.jpg   1_1340.jpg  1_377.jpg  1_763.jpg\n",
            "0_1147.jpg  0_183.jpg\t0_56.jpg   0_956.jpg   1_1341.jpg  1_378.jpg  1_764.jpg\n",
            "0_1148.jpg  0_184.jpg\t0_570.jpg  0_957.jpg   1_1342.jpg  1_379.jpg  1_765.jpg\n",
            "0_1149.jpg  0_185.jpg\t0_571.jpg  0_958.jpg   1_1343.jpg  1_37.jpg   1_766.jpg\n",
            "0_114.jpg   0_186.jpg\t0_572.jpg  0_959.jpg   1_1344.jpg  1_380.jpg  1_767.jpg\n",
            "0_1150.jpg  0_187.jpg\t0_573.jpg  0_95.jpg    1_1345.jpg  1_381.jpg  1_768.jpg\n",
            "0_1151.jpg  0_188.jpg\t0_574.jpg  0_960.jpg   1_1346.jpg  1_382.jpg  1_769.jpg\n",
            "0_1152.jpg  0_189.jpg\t0_575.jpg  0_961.jpg   1_1347.jpg  1_383.jpg  1_76.jpg\n",
            "0_1153.jpg  0_18.jpg\t0_576.jpg  0_962.jpg   1_1348.jpg  1_384.jpg  1_770.jpg\n",
            "0_1154.jpg  0_190.jpg\t0_577.jpg  0_963.jpg   1_1349.jpg  1_385.jpg  1_771.jpg\n",
            "0_1155.jpg  0_191.jpg\t0_578.jpg  0_964.jpg   1_134.jpg   1_386.jpg  1_772.jpg\n",
            "0_1156.jpg  0_192.jpg\t0_579.jpg  0_965.jpg   1_1350.jpg  1_387.jpg  1_773.jpg\n",
            "0_1157.jpg  0_193.jpg\t0_57.jpg   0_966.jpg   1_1351.jpg  1_388.jpg  1_774.jpg\n",
            "0_1158.jpg  0_194.jpg\t0_580.jpg  0_967.jpg   1_1352.jpg  1_389.jpg  1_775.jpg\n",
            "0_1159.jpg  0_195.jpg\t0_581.jpg  0_968.jpg   1_1353.jpg  1_38.jpg   1_776.jpg\n",
            "0_115.jpg   0_196.jpg\t0_582.jpg  0_969.jpg   1_1354.jpg  1_390.jpg  1_777.jpg\n",
            "0_1160.jpg  0_197.jpg\t0_583.jpg  0_96.jpg    1_1355.jpg  1_391.jpg  1_778.jpg\n",
            "0_1161.jpg  0_198.jpg\t0_584.jpg  0_970.jpg   1_1356.jpg  1_392.jpg  1_779.jpg\n",
            "0_1162.jpg  0_199.jpg\t0_585.jpg  0_971.jpg   1_1357.jpg  1_393.jpg  1_77.jpg\n",
            "0_1163.jpg  0_19.jpg\t0_586.jpg  0_972.jpg   1_1358.jpg  1_394.jpg  1_780.jpg\n",
            "0_1164.jpg  0_1.jpg\t0_587.jpg  0_973.jpg   1_1359.jpg  1_395.jpg  1_781.jpg\n",
            "0_1165.jpg  0_200.jpg\t0_588.jpg  0_974.jpg   1_135.jpg   1_396.jpg  1_782.jpg\n",
            "0_1166.jpg  0_201.jpg\t0_589.jpg  0_975.jpg   1_1360.jpg  1_397.jpg  1_783.jpg\n",
            "0_1167.jpg  0_202.jpg\t0_58.jpg   0_976.jpg   1_1361.jpg  1_398.jpg  1_784.jpg\n",
            "0_1168.jpg  0_203.jpg\t0_590.jpg  0_977.jpg   1_1362.jpg  1_399.jpg  1_785.jpg\n",
            "0_1169.jpg  0_204.jpg\t0_591.jpg  0_978.jpg   1_1363.jpg  1_39.jpg   1_786.jpg\n",
            "0_116.jpg   0_205.jpg\t0_592.jpg  0_979.jpg   1_1364.jpg  1_3.jpg    1_787.jpg\n",
            "0_1170.jpg  0_206.jpg\t0_593.jpg  0_97.jpg    1_1365.jpg  1_400.jpg  1_788.jpg\n",
            "0_1171.jpg  0_207.jpg\t0_594.jpg  0_980.jpg   1_1366.jpg  1_401.jpg  1_789.jpg\n",
            "0_1172.jpg  0_208.jpg\t0_595.jpg  0_981.jpg   1_1367.jpg  1_402.jpg  1_78.jpg\n",
            "0_1173.jpg  0_209.jpg\t0_596.jpg  0_982.jpg   1_1368.jpg  1_403.jpg  1_790.jpg\n",
            "0_1174.jpg  0_20.jpg\t0_597.jpg  0_983.jpg   1_1369.jpg  1_404.jpg  1_791.jpg\n",
            "0_1175.jpg  0_210.jpg\t0_598.jpg  0_984.jpg   1_136.jpg   1_405.jpg  1_792.jpg\n",
            "0_1176.jpg  0_211.jpg\t0_599.jpg  0_985.jpg   1_1370.jpg  1_406.jpg  1_793.jpg\n",
            "0_1177.jpg  0_212.jpg\t0_59.jpg   0_986.jpg   1_1371.jpg  1_407.jpg  1_794.jpg\n",
            "0_1178.jpg  0_213.jpg\t0_5.jpg    0_987.jpg   1_1372.jpg  1_408.jpg  1_795.jpg\n",
            "0_1179.jpg  0_214.jpg\t0_600.jpg  0_988.jpg   1_1373.jpg  1_409.jpg  1_796.jpg\n",
            "0_117.jpg   0_215.jpg\t0_601.jpg  0_989.jpg   1_1374.jpg  1_40.jpg   1_797.jpg\n",
            "0_1180.jpg  0_216.jpg\t0_602.jpg  0_98.jpg    1_1375.jpg  1_410.jpg  1_798.jpg\n",
            "0_1181.jpg  0_217.jpg\t0_603.jpg  0_990.jpg   1_1376.jpg  1_411.jpg  1_799.jpg\n",
            "0_1182.jpg  0_218.jpg\t0_604.jpg  0_991.jpg   1_1377.jpg  1_412.jpg  1_79.jpg\n",
            "0_1183.jpg  0_219.jpg\t0_605.jpg  0_992.jpg   1_1378.jpg  1_413.jpg  1_7.jpg\n",
            "0_1184.jpg  0_21.jpg\t0_606.jpg  0_993.jpg   1_1379.jpg  1_414.jpg  1_800.jpg\n",
            "0_1185.jpg  0_220.jpg\t0_607.jpg  0_994.jpg   1_137.jpg   1_415.jpg  1_801.jpg\n",
            "0_1186.jpg  0_221.jpg\t0_608.jpg  0_995.jpg   1_1380.jpg  1_416.jpg  1_802.jpg\n",
            "0_1187.jpg  0_222.jpg\t0_609.jpg  0_996.jpg   1_1381.jpg  1_417.jpg  1_803.jpg\n",
            "0_1188.jpg  0_223.jpg\t0_60.jpg   0_997.jpg   1_1382.jpg  1_418.jpg  1_804.jpg\n",
            "0_1189.jpg  0_224.jpg\t0_610.jpg  0_998.jpg   1_1383.jpg  1_419.jpg  1_805.jpg\n",
            "0_118.jpg   0_225.jpg\t0_611.jpg  0_999.jpg   1_1384.jpg  1_41.jpg   1_806.jpg\n",
            "0_1190.jpg  0_226.jpg\t0_612.jpg  0_99.jpg    1_1385.jpg  1_420.jpg  1_807.jpg\n",
            "0_1191.jpg  0_227.jpg\t0_613.jpg  0_9.jpg     1_1386.jpg  1_421.jpg  1_808.jpg\n",
            "0_1192.jpg  0_228.jpg\t0_614.jpg  1_0.jpg     1_1387.jpg  1_422.jpg  1_809.jpg\n",
            "0_1193.jpg  0_229.jpg\t0_615.jpg  1_1000.jpg  1_1388.jpg  1_423.jpg  1_80.jpg\n",
            "0_1194.jpg  0_22.jpg\t0_616.jpg  1_1001.jpg  1_1389.jpg  1_424.jpg  1_810.jpg\n",
            "0_1195.jpg  0_230.jpg\t0_617.jpg  1_1002.jpg  1_138.jpg   1_425.jpg  1_811.jpg\n",
            "0_1196.jpg  0_231.jpg\t0_618.jpg  1_1003.jpg  1_1390.jpg  1_426.jpg  1_812.jpg\n",
            "0_1197.jpg  0_232.jpg\t0_619.jpg  1_1004.jpg  1_1391.jpg  1_427.jpg  1_813.jpg\n",
            "0_1198.jpg  0_233.jpg\t0_61.jpg   1_1005.jpg  1_1392.jpg  1_428.jpg  1_814.jpg\n",
            "0_1199.jpg  0_234.jpg\t0_620.jpg  1_1006.jpg  1_1393.jpg  1_429.jpg  1_815.jpg\n",
            "0_119.jpg   0_235.jpg\t0_621.jpg  1_1007.jpg  1_1394.jpg  1_42.jpg   1_816.jpg\n",
            "0_11.jpg    0_236.jpg\t0_622.jpg  1_1008.jpg  1_1395.jpg  1_430.jpg  1_817.jpg\n",
            "0_1200.jpg  0_237.jpg\t0_623.jpg  1_1009.jpg  1_1396.jpg  1_431.jpg  1_818.jpg\n",
            "0_1201.jpg  0_238.jpg\t0_624.jpg  1_100.jpg   1_1397.jpg  1_432.jpg  1_819.jpg\n",
            "0_1202.jpg  0_239.jpg\t0_625.jpg  1_1010.jpg  1_1398.jpg  1_433.jpg  1_81.jpg\n",
            "0_1203.jpg  0_23.jpg\t0_626.jpg  1_1011.jpg  1_1399.jpg  1_434.jpg  1_820.jpg\n",
            "0_1204.jpg  0_240.jpg\t0_627.jpg  1_1012.jpg  1_139.jpg   1_435.jpg  1_821.jpg\n",
            "0_1205.jpg  0_241.jpg\t0_628.jpg  1_1013.jpg  1_13.jpg    1_436.jpg  1_822.jpg\n",
            "0_1206.jpg  0_242.jpg\t0_629.jpg  1_1014.jpg  1_1400.jpg  1_437.jpg  1_823.jpg\n",
            "0_1207.jpg  0_243.jpg\t0_62.jpg   1_1015.jpg  1_1401.jpg  1_438.jpg  1_824.jpg\n",
            "0_1208.jpg  0_244.jpg\t0_630.jpg  1_1016.jpg  1_1402.jpg  1_439.jpg  1_825.jpg\n",
            "0_1209.jpg  0_245.jpg\t0_631.jpg  1_1017.jpg  1_1403.jpg  1_43.jpg   1_826.jpg\n",
            "0_120.jpg   0_246.jpg\t0_632.jpg  1_1018.jpg  1_1404.jpg  1_440.jpg  1_827.jpg\n",
            "0_1210.jpg  0_247.jpg\t0_633.jpg  1_1019.jpg  1_1405.jpg  1_441.jpg  1_828.jpg\n",
            "0_1211.jpg  0_248.jpg\t0_634.jpg  1_101.jpg   1_1406.jpg  1_442.jpg  1_829.jpg\n",
            "0_1212.jpg  0_249.jpg\t0_635.jpg  1_1020.jpg  1_1407.jpg  1_443.jpg  1_82.jpg\n",
            "0_1213.jpg  0_24.jpg\t0_636.jpg  1_1021.jpg  1_1408.jpg  1_444.jpg  1_830.jpg\n",
            "0_1214.jpg  0_250.jpg\t0_637.jpg  1_1022.jpg  1_1409.jpg  1_445.jpg  1_831.jpg\n",
            "0_1215.jpg  0_251.jpg\t0_638.jpg  1_1023.jpg  1_140.jpg   1_446.jpg  1_832.jpg\n",
            "0_1216.jpg  0_252.jpg\t0_639.jpg  1_1024.jpg  1_1410.jpg  1_447.jpg  1_833.jpg\n",
            "0_1217.jpg  0_253.jpg\t0_63.jpg   1_1025.jpg  1_1411.jpg  1_448.jpg  1_834.jpg\n",
            "0_1218.jpg  0_254.jpg\t0_640.jpg  1_1026.jpg  1_1412.jpg  1_449.jpg  1_835.jpg\n",
            "0_1219.jpg  0_255.jpg\t0_641.jpg  1_1027.jpg  1_1413.jpg  1_44.jpg   1_836.jpg\n",
            "0_121.jpg   0_256.jpg\t0_642.jpg  1_1028.jpg  1_1414.jpg  1_450.jpg  1_837.jpg\n",
            "0_1220.jpg  0_257.jpg\t0_643.jpg  1_1029.jpg  1_1415.jpg  1_451.jpg  1_838.jpg\n",
            "0_1221.jpg  0_258.jpg\t0_644.jpg  1_102.jpg   1_1416.jpg  1_452.jpg  1_839.jpg\n",
            "0_1222.jpg  0_259.jpg\t0_645.jpg  1_1030.jpg  1_1417.jpg  1_453.jpg  1_83.jpg\n",
            "0_1223.jpg  0_25.jpg\t0_646.jpg  1_1031.jpg  1_1418.jpg  1_454.jpg  1_840.jpg\n",
            "0_1224.jpg  0_260.jpg\t0_647.jpg  1_1032.jpg  1_1419.jpg  1_455.jpg  1_841.jpg\n",
            "0_1225.jpg  0_261.jpg\t0_648.jpg  1_1033.jpg  1_141.jpg   1_456.jpg  1_842.jpg\n",
            "0_1226.jpg  0_262.jpg\t0_649.jpg  1_1034.jpg  1_1420.jpg  1_457.jpg  1_843.jpg\n",
            "0_1227.jpg  0_263.jpg\t0_64.jpg   1_1035.jpg  1_1421.jpg  1_458.jpg  1_844.jpg\n",
            "0_1228.jpg  0_264.jpg\t0_650.jpg  1_1036.jpg  1_1422.jpg  1_459.jpg  1_845.jpg\n",
            "0_1229.jpg  0_265.jpg\t0_651.jpg  1_1037.jpg  1_1423.jpg  1_45.jpg   1_846.jpg\n",
            "0_122.jpg   0_266.jpg\t0_652.jpg  1_1038.jpg  1_1424.jpg  1_460.jpg  1_847.jpg\n",
            "0_1230.jpg  0_267.jpg\t0_653.jpg  1_1039.jpg  1_1425.jpg  1_461.jpg  1_848.jpg\n",
            "0_1231.jpg  0_268.jpg\t0_654.jpg  1_103.jpg   1_1426.jpg  1_462.jpg  1_849.jpg\n",
            "0_1232.jpg  0_269.jpg\t0_655.jpg  1_1040.jpg  1_1427.jpg  1_463.jpg  1_84.jpg\n",
            "0_1233.jpg  0_26.jpg\t0_656.jpg  1_1041.jpg  1_1428.jpg  1_464.jpg  1_850.jpg\n",
            "0_1234.jpg  0_270.jpg\t0_657.jpg  1_1042.jpg  1_1429.jpg  1_465.jpg  1_851.jpg\n",
            "0_1235.jpg  0_271.jpg\t0_658.jpg  1_1043.jpg  1_142.jpg   1_466.jpg  1_852.jpg\n",
            "0_1236.jpg  0_272.jpg\t0_659.jpg  1_1044.jpg  1_1430.jpg  1_467.jpg  1_853.jpg\n",
            "0_1237.jpg  0_273.jpg\t0_65.jpg   1_1045.jpg  1_1431.jpg  1_468.jpg  1_854.jpg\n",
            "0_1238.jpg  0_274.jpg\t0_660.jpg  1_1046.jpg  1_1432.jpg  1_469.jpg  1_855.jpg\n",
            "0_1239.jpg  0_275.jpg\t0_661.jpg  1_1047.jpg  1_1433.jpg  1_46.jpg   1_856.jpg\n",
            "0_123.jpg   0_276.jpg\t0_662.jpg  1_1048.jpg  1_1434.jpg  1_470.jpg  1_857.jpg\n",
            "0_1240.jpg  0_277.jpg\t0_663.jpg  1_1049.jpg  1_1435.jpg  1_471.jpg  1_858.jpg\n",
            "0_1241.jpg  0_278.jpg\t0_664.jpg  1_104.jpg   1_1436.jpg  1_472.jpg  1_859.jpg\n",
            "0_1242.jpg  0_279.jpg\t0_665.jpg  1_1050.jpg  1_1437.jpg  1_473.jpg  1_85.jpg\n",
            "0_1243.jpg  0_27.jpg\t0_666.jpg  1_1051.jpg  1_1438.jpg  1_474.jpg  1_860.jpg\n",
            "0_1244.jpg  0_280.jpg\t0_667.jpg  1_1052.jpg  1_1439.jpg  1_475.jpg  1_861.jpg\n",
            "0_1245.jpg  0_281.jpg\t0_668.jpg  1_1053.jpg  1_143.jpg   1_476.jpg  1_862.jpg\n",
            "0_1246.jpg  0_282.jpg\t0_669.jpg  1_1054.jpg  1_1440.jpg  1_477.jpg  1_863.jpg\n",
            "0_1247.jpg  0_283.jpg\t0_66.jpg   1_1055.jpg  1_1441.jpg  1_478.jpg  1_864.jpg\n",
            "0_1248.jpg  0_284.jpg\t0_670.jpg  1_1056.jpg  1_1442.jpg  1_479.jpg  1_865.jpg\n",
            "0_1249.jpg  0_285.jpg\t0_671.jpg  1_1057.jpg  1_1443.jpg  1_47.jpg   1_866.jpg\n",
            "0_124.jpg   0_286.jpg\t0_672.jpg  1_1058.jpg  1_1444.jpg  1_480.jpg  1_867.jpg\n",
            "0_1250.jpg  0_287.jpg\t0_673.jpg  1_1059.jpg  1_1445.jpg  1_481.jpg  1_868.jpg\n",
            "0_1251.jpg  0_288.jpg\t0_674.jpg  1_105.jpg   1_1446.jpg  1_482.jpg  1_869.jpg\n",
            "0_1252.jpg  0_289.jpg\t0_675.jpg  1_1060.jpg  1_1447.jpg  1_483.jpg  1_86.jpg\n",
            "0_1253.jpg  0_28.jpg\t0_676.jpg  1_1061.jpg  1_1448.jpg  1_484.jpg  1_870.jpg\n",
            "0_1254.jpg  0_290.jpg\t0_677.jpg  1_1062.jpg  1_1449.jpg  1_485.jpg  1_871.jpg\n",
            "0_1255.jpg  0_291.jpg\t0_678.jpg  1_1063.jpg  1_144.jpg   1_486.jpg  1_872.jpg\n",
            "0_1256.jpg  0_292.jpg\t0_679.jpg  1_1064.jpg  1_1450.jpg  1_487.jpg  1_873.jpg\n",
            "0_1257.jpg  0_293.jpg\t0_67.jpg   1_1065.jpg  1_1451.jpg  1_488.jpg  1_874.jpg\n",
            "0_1258.jpg  0_294.jpg\t0_680.jpg  1_1066.jpg  1_1452.jpg  1_489.jpg  1_875.jpg\n",
            "0_1259.jpg  0_295.jpg\t0_681.jpg  1_1067.jpg  1_1453.jpg  1_48.jpg   1_876.jpg\n",
            "0_125.jpg   0_296.jpg\t0_682.jpg  1_1068.jpg  1_1454.jpg  1_490.jpg  1_877.jpg\n",
            "0_1260.jpg  0_297.jpg\t0_683.jpg  1_1069.jpg  1_1455.jpg  1_491.jpg  1_878.jpg\n",
            "0_1261.jpg  0_298.jpg\t0_684.jpg  1_106.jpg   1_1456.jpg  1_492.jpg  1_879.jpg\n",
            "0_1262.jpg  0_299.jpg\t0_685.jpg  1_1070.jpg  1_1457.jpg  1_493.jpg  1_87.jpg\n",
            "0_1263.jpg  0_29.jpg\t0_686.jpg  1_1071.jpg  1_1458.jpg  1_494.jpg  1_880.jpg\n",
            "0_1264.jpg  0_2.jpg\t0_687.jpg  1_1072.jpg  1_1459.jpg  1_495.jpg  1_881.jpg\n",
            "0_1265.jpg  0_300.jpg\t0_688.jpg  1_1073.jpg  1_145.jpg   1_496.jpg  1_882.jpg\n",
            "0_1266.jpg  0_301.jpg\t0_689.jpg  1_1074.jpg  1_1460.jpg  1_497.jpg  1_883.jpg\n",
            "0_1267.jpg  0_302.jpg\t0_68.jpg   1_1075.jpg  1_1461.jpg  1_498.jpg  1_884.jpg\n",
            "0_1268.jpg  0_303.jpg\t0_690.jpg  1_1076.jpg  1_1462.jpg  1_499.jpg  1_885.jpg\n",
            "0_1269.jpg  0_304.jpg\t0_691.jpg  1_1077.jpg  1_1463.jpg  1_49.jpg   1_886.jpg\n",
            "0_126.jpg   0_305.jpg\t0_692.jpg  1_1078.jpg  1_1464.jpg  1_4.jpg    1_887.jpg\n",
            "0_1270.jpg  0_306.jpg\t0_693.jpg  1_1079.jpg  1_1465.jpg  1_500.jpg  1_888.jpg\n",
            "0_1271.jpg  0_307.jpg\t0_694.jpg  1_107.jpg   1_1466.jpg  1_501.jpg  1_889.jpg\n",
            "0_1272.jpg  0_308.jpg\t0_695.jpg  1_1080.jpg  1_1467.jpg  1_502.jpg  1_88.jpg\n",
            "0_1273.jpg  0_309.jpg\t0_696.jpg  1_1081.jpg  1_1468.jpg  1_503.jpg  1_890.jpg\n",
            "0_1274.jpg  0_30.jpg\t0_697.jpg  1_1082.jpg  1_1469.jpg  1_504.jpg  1_891.jpg\n",
            "0_1275.jpg  0_310.jpg\t0_698.jpg  1_1083.jpg  1_146.jpg   1_505.jpg  1_892.jpg\n",
            "0_1276.jpg  0_311.jpg\t0_699.jpg  1_1084.jpg  1_1470.jpg  1_506.jpg  1_893.jpg\n",
            "0_1277.jpg  0_312.jpg\t0_69.jpg   1_1085.jpg  1_1471.jpg  1_507.jpg  1_894.jpg\n",
            "0_1278.jpg  0_313.jpg\t0_6.jpg    1_1086.jpg  1_1472.jpg  1_508.jpg  1_895.jpg\n",
            "0_1279.jpg  0_314.jpg\t0_700.jpg  1_1087.jpg  1_1473.jpg  1_509.jpg  1_896.jpg\n",
            "0_127.jpg   0_315.jpg\t0_701.jpg  1_1088.jpg  1_1474.jpg  1_50.jpg   1_897.jpg\n",
            "0_1280.jpg  0_316.jpg\t0_702.jpg  1_1089.jpg  1_1475.jpg  1_510.jpg  1_898.jpg\n",
            "0_1281.jpg  0_317.jpg\t0_703.jpg  1_108.jpg   1_1476.jpg  1_511.jpg  1_899.jpg\n",
            "0_1282.jpg  0_318.jpg\t0_704.jpg  1_1090.jpg  1_1477.jpg  1_512.jpg  1_89.jpg\n",
            "0_1283.jpg  0_319.jpg\t0_705.jpg  1_1091.jpg  1_1478.jpg  1_513.jpg  1_8.jpg\n",
            "0_1284.jpg  0_31.jpg\t0_706.jpg  1_1092.jpg  1_1479.jpg  1_514.jpg  1_900.jpg\n",
            "0_1285.jpg  0_320.jpg\t0_707.jpg  1_1093.jpg  1_147.jpg   1_515.jpg  1_901.jpg\n",
            "0_1286.jpg  0_321.jpg\t0_708.jpg  1_1094.jpg  1_1480.jpg  1_516.jpg  1_902.jpg\n",
            "0_1287.jpg  0_322.jpg\t0_709.jpg  1_1095.jpg  1_1481.jpg  1_517.jpg  1_903.jpg\n",
            "0_1288.jpg  0_323.jpg\t0_70.jpg   1_1096.jpg  1_1482.jpg  1_518.jpg  1_904.jpg\n",
            "0_1289.jpg  0_324.jpg\t0_710.jpg  1_1097.jpg  1_1483.jpg  1_519.jpg  1_905.jpg\n",
            "0_128.jpg   0_325.jpg\t0_711.jpg  1_1098.jpg  1_1484.jpg  1_51.jpg   1_906.jpg\n",
            "0_1290.jpg  0_326.jpg\t0_712.jpg  1_1099.jpg  1_1485.jpg  1_520.jpg  1_907.jpg\n",
            "0_1291.jpg  0_327.jpg\t0_713.jpg  1_109.jpg   1_1486.jpg  1_521.jpg  1_908.jpg\n",
            "0_1292.jpg  0_328.jpg\t0_714.jpg  1_10.jpg    1_1487.jpg  1_522.jpg  1_909.jpg\n",
            "0_1293.jpg  0_329.jpg\t0_715.jpg  1_1100.jpg  1_1488.jpg  1_523.jpg  1_90.jpg\n",
            "0_1294.jpg  0_32.jpg\t0_716.jpg  1_1101.jpg  1_1489.jpg  1_524.jpg  1_910.jpg\n",
            "0_1295.jpg  0_330.jpg\t0_717.jpg  1_1102.jpg  1_148.jpg   1_525.jpg  1_911.jpg\n",
            "0_1296.jpg  0_331.jpg\t0_718.jpg  1_1103.jpg  1_1490.jpg  1_526.jpg  1_912.jpg\n",
            "0_1297.jpg  0_332.jpg\t0_719.jpg  1_1104.jpg  1_1491.jpg  1_527.jpg  1_913.jpg\n",
            "0_1298.jpg  0_333.jpg\t0_71.jpg   1_1105.jpg  1_1492.jpg  1_528.jpg  1_914.jpg\n",
            "0_1299.jpg  0_334.jpg\t0_720.jpg  1_1106.jpg  1_1493.jpg  1_529.jpg  1_915.jpg\n",
            "0_129.jpg   0_335.jpg\t0_721.jpg  1_1107.jpg  1_1494.jpg  1_52.jpg   1_916.jpg\n",
            "0_12.jpg    0_336.jpg\t0_722.jpg  1_1108.jpg  1_1495.jpg  1_530.jpg  1_917.jpg\n",
            "0_1300.jpg  0_337.jpg\t0_723.jpg  1_1109.jpg  1_1496.jpg  1_531.jpg  1_918.jpg\n",
            "0_1301.jpg  0_338.jpg\t0_724.jpg  1_110.jpg   1_1497.jpg  1_532.jpg  1_919.jpg\n",
            "0_1302.jpg  0_339.jpg\t0_725.jpg  1_1110.jpg  1_1498.jpg  1_533.jpg  1_91.jpg\n",
            "0_1303.jpg  0_33.jpg\t0_726.jpg  1_1111.jpg  1_1499.jpg  1_534.jpg  1_920.jpg\n",
            "0_1304.jpg  0_340.jpg\t0_727.jpg  1_1112.jpg  1_149.jpg   1_535.jpg  1_921.jpg\n",
            "0_1305.jpg  0_341.jpg\t0_728.jpg  1_1113.jpg  1_14.jpg    1_536.jpg  1_922.jpg\n",
            "0_1306.jpg  0_342.jpg\t0_729.jpg  1_1114.jpg  1_150.jpg   1_537.jpg  1_923.jpg\n",
            "0_1307.jpg  0_343.jpg\t0_72.jpg   1_1115.jpg  1_151.jpg   1_538.jpg  1_924.jpg\n",
            "0_1308.jpg  0_344.jpg\t0_730.jpg  1_1116.jpg  1_152.jpg   1_539.jpg  1_925.jpg\n",
            "0_1309.jpg  0_345.jpg\t0_731.jpg  1_1117.jpg  1_153.jpg   1_53.jpg   1_926.jpg\n",
            "0_130.jpg   0_346.jpg\t0_732.jpg  1_1118.jpg  1_154.jpg   1_540.jpg  1_927.jpg\n",
            "0_1310.jpg  0_347.jpg\t0_733.jpg  1_1119.jpg  1_155.jpg   1_541.jpg  1_928.jpg\n",
            "0_1311.jpg  0_348.jpg\t0_734.jpg  1_111.jpg   1_156.jpg   1_542.jpg  1_929.jpg\n",
            "0_1312.jpg  0_349.jpg\t0_735.jpg  1_1120.jpg  1_157.jpg   1_543.jpg  1_92.jpg\n",
            "0_1313.jpg  0_34.jpg\t0_736.jpg  1_1121.jpg  1_158.jpg   1_544.jpg  1_930.jpg\n",
            "0_1314.jpg  0_350.jpg\t0_737.jpg  1_1122.jpg  1_159.jpg   1_545.jpg  1_931.jpg\n",
            "0_1315.jpg  0_351.jpg\t0_738.jpg  1_1123.jpg  1_15.jpg    1_546.jpg  1_932.jpg\n",
            "0_1316.jpg  0_352.jpg\t0_739.jpg  1_1124.jpg  1_160.jpg   1_547.jpg  1_933.jpg\n",
            "0_1317.jpg  0_353.jpg\t0_73.jpg   1_1125.jpg  1_161.jpg   1_548.jpg  1_934.jpg\n",
            "0_1318.jpg  0_354.jpg\t0_740.jpg  1_1126.jpg  1_162.jpg   1_549.jpg  1_935.jpg\n",
            "0_1319.jpg  0_355.jpg\t0_741.jpg  1_1127.jpg  1_163.jpg   1_54.jpg   1_936.jpg\n",
            "0_131.jpg   0_356.jpg\t0_742.jpg  1_1128.jpg  1_164.jpg   1_550.jpg  1_937.jpg\n",
            "0_1320.jpg  0_357.jpg\t0_743.jpg  1_1129.jpg  1_165.jpg   1_551.jpg  1_938.jpg\n",
            "0_1321.jpg  0_358.jpg\t0_744.jpg  1_112.jpg   1_166.jpg   1_552.jpg  1_939.jpg\n",
            "0_1322.jpg  0_359.jpg\t0_745.jpg  1_1130.jpg  1_167.jpg   1_553.jpg  1_93.jpg\n",
            "0_1323.jpg  0_35.jpg\t0_746.jpg  1_1131.jpg  1_168.jpg   1_554.jpg  1_940.jpg\n",
            "0_1324.jpg  0_360.jpg\t0_747.jpg  1_1132.jpg  1_169.jpg   1_555.jpg  1_941.jpg\n",
            "0_1325.jpg  0_361.jpg\t0_748.jpg  1_1133.jpg  1_16.jpg    1_556.jpg  1_942.jpg\n",
            "0_1326.jpg  0_362.jpg\t0_749.jpg  1_1134.jpg  1_170.jpg   1_557.jpg  1_943.jpg\n",
            "0_1327.jpg  0_363.jpg\t0_74.jpg   1_1135.jpg  1_171.jpg   1_558.jpg  1_944.jpg\n",
            "0_1328.jpg  0_364.jpg\t0_750.jpg  1_1136.jpg  1_172.jpg   1_559.jpg  1_945.jpg\n",
            "0_1329.jpg  0_365.jpg\t0_751.jpg  1_1137.jpg  1_173.jpg   1_55.jpg   1_946.jpg\n",
            "0_132.jpg   0_366.jpg\t0_752.jpg  1_1138.jpg  1_174.jpg   1_560.jpg  1_947.jpg\n",
            "0_1330.jpg  0_367.jpg\t0_753.jpg  1_1139.jpg  1_175.jpg   1_561.jpg  1_948.jpg\n",
            "0_1331.jpg  0_368.jpg\t0_754.jpg  1_113.jpg   1_176.jpg   1_562.jpg  1_949.jpg\n",
            "0_1332.jpg  0_369.jpg\t0_755.jpg  1_1140.jpg  1_177.jpg   1_563.jpg  1_94.jpg\n",
            "0_1333.jpg  0_36.jpg\t0_756.jpg  1_1141.jpg  1_178.jpg   1_564.jpg  1_950.jpg\n",
            "0_1334.jpg  0_370.jpg\t0_757.jpg  1_1142.jpg  1_179.jpg   1_565.jpg  1_951.jpg\n",
            "0_1335.jpg  0_371.jpg\t0_758.jpg  1_1143.jpg  1_17.jpg    1_566.jpg  1_952.jpg\n",
            "0_1336.jpg  0_372.jpg\t0_759.jpg  1_1144.jpg  1_180.jpg   1_567.jpg  1_953.jpg\n",
            "0_1337.jpg  0_373.jpg\t0_75.jpg   1_1145.jpg  1_181.jpg   1_568.jpg  1_954.jpg\n",
            "0_1338.jpg  0_374.jpg\t0_760.jpg  1_1146.jpg  1_182.jpg   1_569.jpg  1_955.jpg\n",
            "0_1339.jpg  0_375.jpg\t0_761.jpg  1_1147.jpg  1_183.jpg   1_56.jpg   1_956.jpg\n",
            "0_133.jpg   0_376.jpg\t0_762.jpg  1_1148.jpg  1_184.jpg   1_570.jpg  1_957.jpg\n",
            "0_1340.jpg  0_377.jpg\t0_763.jpg  1_1149.jpg  1_185.jpg   1_571.jpg  1_958.jpg\n",
            "0_1341.jpg  0_378.jpg\t0_764.jpg  1_114.jpg   1_186.jpg   1_572.jpg  1_959.jpg\n",
            "0_1342.jpg  0_379.jpg\t0_765.jpg  1_1150.jpg  1_187.jpg   1_573.jpg  1_95.jpg\n",
            "0_1343.jpg  0_37.jpg\t0_766.jpg  1_1151.jpg  1_188.jpg   1_574.jpg  1_960.jpg\n",
            "0_1344.jpg  0_380.jpg\t0_767.jpg  1_1152.jpg  1_189.jpg   1_575.jpg  1_961.jpg\n",
            "0_1345.jpg  0_381.jpg\t0_768.jpg  1_1153.jpg  1_18.jpg    1_576.jpg  1_962.jpg\n",
            "0_1346.jpg  0_382.jpg\t0_769.jpg  1_1154.jpg  1_190.jpg   1_577.jpg  1_963.jpg\n",
            "0_1347.jpg  0_383.jpg\t0_76.jpg   1_1155.jpg  1_191.jpg   1_578.jpg  1_964.jpg\n",
            "0_1348.jpg  0_384.jpg\t0_770.jpg  1_1156.jpg  1_192.jpg   1_579.jpg  1_965.jpg\n",
            "0_1349.jpg  0_385.jpg\t0_771.jpg  1_1157.jpg  1_193.jpg   1_57.jpg   1_966.jpg\n",
            "0_134.jpg   0_386.jpg\t0_772.jpg  1_1158.jpg  1_194.jpg   1_580.jpg  1_967.jpg\n",
            "0_1350.jpg  0_387.jpg\t0_773.jpg  1_1159.jpg  1_195.jpg   1_581.jpg  1_968.jpg\n",
            "0_1351.jpg  0_388.jpg\t0_774.jpg  1_115.jpg   1_196.jpg   1_582.jpg  1_969.jpg\n",
            "0_1352.jpg  0_389.jpg\t0_775.jpg  1_1160.jpg  1_197.jpg   1_583.jpg  1_96.jpg\n",
            "0_1353.jpg  0_38.jpg\t0_776.jpg  1_1161.jpg  1_198.jpg   1_584.jpg  1_970.jpg\n",
            "0_1354.jpg  0_390.jpg\t0_777.jpg  1_1162.jpg  1_199.jpg   1_585.jpg  1_971.jpg\n",
            "0_1355.jpg  0_391.jpg\t0_778.jpg  1_1163.jpg  1_19.jpg    1_586.jpg  1_972.jpg\n",
            "0_1356.jpg  0_392.jpg\t0_779.jpg  1_1164.jpg  1_1.jpg\t   1_587.jpg  1_973.jpg\n",
            "0_1357.jpg  0_393.jpg\t0_77.jpg   1_1165.jpg  1_200.jpg   1_588.jpg  1_974.jpg\n",
            "0_1358.jpg  0_394.jpg\t0_780.jpg  1_1166.jpg  1_201.jpg   1_589.jpg  1_975.jpg\n",
            "0_1359.jpg  0_395.jpg\t0_781.jpg  1_1167.jpg  1_202.jpg   1_58.jpg   1_976.jpg\n",
            "0_135.jpg   0_396.jpg\t0_782.jpg  1_1168.jpg  1_203.jpg   1_590.jpg  1_977.jpg\n",
            "0_1360.jpg  0_397.jpg\t0_783.jpg  1_1169.jpg  1_204.jpg   1_591.jpg  1_978.jpg\n",
            "0_1361.jpg  0_398.jpg\t0_784.jpg  1_116.jpg   1_205.jpg   1_592.jpg  1_979.jpg\n",
            "0_1362.jpg  0_399.jpg\t0_785.jpg  1_1170.jpg  1_206.jpg   1_593.jpg  1_97.jpg\n",
            "0_1363.jpg  0_39.jpg\t0_786.jpg  1_1171.jpg  1_207.jpg   1_594.jpg  1_980.jpg\n",
            "0_1364.jpg  0_3.jpg\t0_787.jpg  1_1172.jpg  1_208.jpg   1_595.jpg  1_981.jpg\n",
            "0_1365.jpg  0_400.jpg\t0_788.jpg  1_1173.jpg  1_209.jpg   1_596.jpg  1_982.jpg\n",
            "0_1366.jpg  0_401.jpg\t0_789.jpg  1_1174.jpg  1_20.jpg    1_597.jpg  1_983.jpg\n",
            "0_1367.jpg  0_402.jpg\t0_78.jpg   1_1175.jpg  1_210.jpg   1_598.jpg  1_984.jpg\n",
            "0_1368.jpg  0_403.jpg\t0_790.jpg  1_1176.jpg  1_211.jpg   1_599.jpg  1_985.jpg\n",
            "0_1369.jpg  0_404.jpg\t0_791.jpg  1_1177.jpg  1_212.jpg   1_59.jpg   1_986.jpg\n",
            "0_136.jpg   0_405.jpg\t0_792.jpg  1_1178.jpg  1_213.jpg   1_5.jpg    1_987.jpg\n",
            "0_1370.jpg  0_406.jpg\t0_793.jpg  1_1179.jpg  1_214.jpg   1_600.jpg  1_988.jpg\n",
            "0_1371.jpg  0_407.jpg\t0_794.jpg  1_117.jpg   1_215.jpg   1_601.jpg  1_989.jpg\n",
            "0_1372.jpg  0_408.jpg\t0_795.jpg  1_1180.jpg  1_216.jpg   1_602.jpg  1_98.jpg\n",
            "0_1373.jpg  0_409.jpg\t0_796.jpg  1_1181.jpg  1_217.jpg   1_603.jpg  1_990.jpg\n",
            "0_1374.jpg  0_40.jpg\t0_797.jpg  1_1182.jpg  1_218.jpg   1_604.jpg  1_991.jpg\n",
            "0_1375.jpg  0_410.jpg\t0_798.jpg  1_1183.jpg  1_219.jpg   1_605.jpg  1_992.jpg\n",
            "0_1376.jpg  0_411.jpg\t0_799.jpg  1_1184.jpg  1_21.jpg    1_606.jpg  1_993.jpg\n",
            "0_1377.jpg  0_412.jpg\t0_79.jpg   1_1185.jpg  1_220.jpg   1_607.jpg  1_994.jpg\n",
            "0_1378.jpg  0_413.jpg\t0_7.jpg    1_1186.jpg  1_221.jpg   1_608.jpg  1_995.jpg\n",
            "0_1379.jpg  0_414.jpg\t0_800.jpg  1_1187.jpg  1_222.jpg   1_609.jpg  1_996.jpg\n",
            "0_137.jpg   0_415.jpg\t0_801.jpg  1_1188.jpg  1_223.jpg   1_60.jpg   1_997.jpg\n",
            "0_1380.jpg  0_416.jpg\t0_802.jpg  1_1189.jpg  1_224.jpg   1_610.jpg  1_998.jpg\n",
            "0_1381.jpg  0_417.jpg\t0_803.jpg  1_118.jpg   1_225.jpg   1_611.jpg  1_999.jpg\n",
            "0_1382.jpg  0_418.jpg\t0_804.jpg  1_1190.jpg  1_226.jpg   1_612.jpg  1_99.jpg\n",
            "0_1383.jpg  0_419.jpg\t0_805.jpg  1_1191.jpg  1_227.jpg   1_613.jpg  1_9.jpg\n",
            "0_1384.jpg  0_41.jpg\t0_806.jpg  1_1192.jpg  1_228.jpg   1_614.jpg\n",
            "0_1385.jpg  0_420.jpg\t0_807.jpg  1_1193.jpg  1_229.jpg   1_615.jpg\n",
            "0_1386.jpg  0_421.jpg\t0_808.jpg  1_1194.jpg  1_22.jpg    1_616.jpg\n"
          ]
        }
      ],
      "source": [
        "!ls Food-5K/training/"
      ]
    },
    {
      "cell_type": "code",
      "execution_count": 6,
      "metadata": {
        "id": "yAxW0154-E79"
      },
      "outputs": [],
      "source": [
        "!mv Food-5K/* ."
      ]
    },
    {
      "cell_type": "code",
      "execution_count": 7,
      "metadata": {
        "colab": {
          "base_uri": "https://localhost:8080/",
          "height": 269
        },
        "id": "180qyRo9-SXt",
        "outputId": "7735836b-93d1-40a5-b33a-77a6330fe250"
      },
      "outputs": [
        {
          "output_type": "display_data",
          "data": {
            "text/plain": [
              "<Figure size 432x288 with 1 Axes>"
            ],
            "image/png": "[encoded data removed]"
          },
          "metadata": {
            "needs_background": "light"
          }
        }
      ],
      "source": [
        "plt.imshow(imageio.imread(\"training/0_808.jpg\"));"
      ]
    },
    {
      "cell_type": "code",
      "execution_count": 8,
      "metadata": {
        "id": "7gf0mD_4-afn",
        "colab": {
          "base_uri": "https://localhost:8080/",
          "height": 269
        },
        "outputId": "a07b1128-b62c-474f-ea67-50547c0ac3bf"
      },
      "outputs": [
        {
          "output_type": "display_data",
          "data": {
            "text/plain": [
              "<Figure size 432x288 with 1 Axes>"
            ],
            "image/png": "[encoded data removed]"
          },
          "metadata": {
            "needs_background": "light"
          }
        }
      ],
      "source": [
        "plt.imshow(imageio.imread(\"training/1_616.jpg\"));"
      ]
    },
    {
      "cell_type": "code",
      "execution_count": 9,
      "metadata": {
        "id": "7RLDIfNM-hY5"
      },
      "outputs": [],
      "source": [
        "!mkdir data\n",
        "!mkdir data/train\n",
        "!mkdir data/test\n",
        "!mkdir data/train/food\n",
        "!mkdir data/train/nonfood\n",
        "!mkdir data/test/nonfood\n",
        "!mkdir data/test/food"
      ]
    },
    {
      "cell_type": "code",
      "execution_count": 10,
      "metadata": {
        "id": "NWC24bGY-zNN"
      },
      "outputs": [],
      "source": [
        "!mv training/0*.jpg data/train/nonfood\n",
        "!mv training/1*.jpg data/train/food\n",
        "!mv validation/0*.jpg data/test/nonfood\n",
        "!mv validation/1*.jpg data/test/food"
      ]
    },
    {
      "cell_type": "code",
      "source": [
        "transform = transforms.Compose([\n",
        "    transforms.Resize(size=256),\n",
        "    transforms.CenterCrop(size=224),\n",
        "    transforms.ToTensor(),\n",
        "    transforms.Normalize([0.485, 0.456, 0.406], [0.229, 0.224, 0.225])\n",
        "])"
      ],
      "metadata": {
        "id": "eTvHm4X4JKL_"
      },
      "execution_count": 11,
      "outputs": []
    },
    {
      "cell_type": "code",
      "execution_count": 12,
      "metadata": {
        "id": "iDlNZUdFFAop"
      },
      "outputs": [],
      "source": [
        "train_dataset = datasets.ImageFolder(\n",
        "    \"data/train\",\n",
        "    transform=transform\n",
        ")\n",
        "\n",
        "test_dataset = datasets.ImageFolder(\n",
        "    \"data/test\",\n",
        "    transform=transform\n",
        ")"
      ]
    },
    {
      "cell_type": "code",
      "execution_count": 13,
      "metadata": {
        "id": "QJndgH7DFgrP"
      },
      "outputs": [],
      "source": [
        "batch_size = 128\n",
        "train_loader = torch.utils.data.DataLoader(\n",
        "    train_dataset,\n",
        "    batch_size=batch_size,\n",
        "    shuffle=True\n",
        ")\n",
        "\n",
        "test_loader = torch.utils.data.DataLoader(\n",
        "    test_dataset,\n",
        "    batch_size=batch_size\n",
        ")"
      ]
    },
    {
      "cell_type": "code",
      "execution_count": 14,
      "metadata": {
        "id": "F0jdoq8FF5kA",
        "colab": {
          "base_uri": "https://localhost:8080/",
          "height": 161,
          "referenced_widgets": [
            "1baff80c13084b798bee4fce68c35ef6",
            "d3b0d2628b7a4895b5c7bb6ef17c7120",
            "cacf14fec74340d69caac7502fd30bee",
            "3cd87e4835184fac9ce4680c53727ffb",
            "59500624a44b49c4ad4da942a8712a92",
            "1d65cc72867a4b068cd6065f1f88b8bd",
            "677cead1156c435bb82f0c679fbe5a64",
            "0e70d0408583423d9fade46bbe0aa62a",
            "39fb44ec7bac450286ce682e6f419d9e",
            "c0885b19998b4f54ac1fb208dc8eb083",
            "8a3ea185867f4c58849e98b79de1363e"
          ]
        },
        "outputId": "d5f0b78c-6f6e-4982-fd5b-eeae5b3de748"
      },
      "outputs": [
        {
          "output_type": "stream",
          "name": "stderr",
          "text": [
            "/usr/local/lib/python3.8/dist-packages/torchvision/models/_utils.py:208: UserWarning: The parameter 'pretrained' is deprecated since 0.13 and may be removed in the future, please use 'weights' instead.\n",
            "  warnings.warn(\n",
            "/usr/local/lib/python3.8/dist-packages/torchvision/models/_utils.py:223: UserWarning: Arguments other than a weight enum or `None` for 'weights' are deprecated since 0.13 and may be removed in the future. The current behavior is equivalent to passing `weights=VGG16_Weights.IMAGENET1K_V1`. You can also use `weights=VGG16_Weights.DEFAULT` to get the most up-to-date weights.\n",
            "  warnings.warn(msg)\n",
            "Downloading: \"https://download.pytorch.org/models/vgg16-397923af.pth\" to /root/.cache/torch/hub/checkpoints/vgg16-397923af.pth\n"
          ]
        },
        {
          "output_type": "display_data",
          "data": {
            "text/plain": [
              "  0%|          | 0.00/528M [00:00<?, ?B/s]"
            ],
            "application/vnd.jupyter.widget-view+json": {
              "version_major": 2,
              "version_minor": 0,
              "model_id": "1baff80c13084b798bee4fce68c35ef6"
            }
          },
          "metadata": {}
        }
      ],
      "source": [
        "# Define the model\n",
        "model = models.vgg16(pretrained=True)"
      ]
    },
    {
      "cell_type": "code",
      "execution_count": 15,
      "metadata": {
        "id": "56F6cqC1HxAG",
        "colab": {
          "base_uri": "https://localhost:8080/"
        },
        "outputId": "0ab541ec-88a8-47b3-f550-31bda61f966a"
      },
      "outputs": [
        {
          "output_type": "stream",
          "name": "stdout",
          "text": [
            "VGG(\n",
            "  (features): Sequential(\n",
            "    (0): Conv2d(3, 64, kernel_size=(3, 3), stride=(1, 1), padding=(1, 1))\n",
            "    (1): ReLU(inplace=True)\n",
            "    (2): Conv2d(64, 64, kernel_size=(3, 3), stride=(1, 1), padding=(1, 1))\n",
            "    (3): ReLU(inplace=True)\n",
            "    (4): MaxPool2d(kernel_size=2, stride=2, padding=0, dilation=1, ceil_mode=False)\n",
            "    (5): Conv2d(64, 128, kernel_size=(3, 3), stride=(1, 1), padding=(1, 1))\n",
            "    (6): ReLU(inplace=True)\n",
            "    (7): Conv2d(128, 128, kernel_size=(3, 3), stride=(1, 1), padding=(1, 1))\n",
            "    (8): ReLU(inplace=True)\n",
            "    (9): MaxPool2d(kernel_size=2, stride=2, padding=0, dilation=1, ceil_mode=False)\n",
            "    (10): Conv2d(128, 256, kernel_size=(3, 3), stride=(1, 1), padding=(1, 1))\n",
            "    (11): ReLU(inplace=True)\n",
            "    (12): Conv2d(256, 256, kernel_size=(3, 3), stride=(1, 1), padding=(1, 1))\n",
            "    (13): ReLU(inplace=True)\n",
            "    (14): Conv2d(256, 256, kernel_size=(3, 3), stride=(1, 1), padding=(1, 1))\n",
            "    (15): ReLU(inplace=True)\n",
            "    (16): MaxPool2d(kernel_size=2, stride=2, padding=0, dilation=1, ceil_mode=False)\n",
            "    (17): Conv2d(256, 512, kernel_size=(3, 3), stride=(1, 1), padding=(1, 1))\n",
            "    (18): ReLU(inplace=True)\n",
            "    (19): Conv2d(512, 512, kernel_size=(3, 3), stride=(1, 1), padding=(1, 1))\n",
            "    (20): ReLU(inplace=True)\n",
            "    (21): Conv2d(512, 512, kernel_size=(3, 3), stride=(1, 1), padding=(1, 1))\n",
            "    (22): ReLU(inplace=True)\n",
            "    (23): MaxPool2d(kernel_size=2, stride=2, padding=0, dilation=1, ceil_mode=False)\n",
            "    (24): Conv2d(512, 512, kernel_size=(3, 3), stride=(1, 1), padding=(1, 1))\n",
            "    (25): ReLU(inplace=True)\n",
            "    (26): Conv2d(512, 512, kernel_size=(3, 3), stride=(1, 1), padding=(1, 1))\n",
            "    (27): ReLU(inplace=True)\n",
            "    (28): Conv2d(512, 512, kernel_size=(3, 3), stride=(1, 1), padding=(1, 1))\n",
            "    (29): ReLU(inplace=True)\n",
            "    (30): MaxPool2d(kernel_size=2, stride=2, padding=0, dilation=1, ceil_mode=False)\n",
            "  )\n",
            "  (avgpool): AdaptiveAvgPool2d(output_size=(7, 7))\n",
            "  (classifier): Sequential(\n",
            "    (0): Linear(in_features=25088, out_features=4096, bias=True)\n",
            "    (1): ReLU(inplace=True)\n",
            "    (2): Dropout(p=0.5, inplace=False)\n",
            "    (3): Linear(in_features=4096, out_features=4096, bias=True)\n",
            "    (4): ReLU(inplace=True)\n",
            "    (5): Dropout(p=0.5, inplace=False)\n",
            "    (6): Linear(in_features=4096, out_features=1000, bias=True)\n",
            "  )\n",
            ")\n"
          ]
        }
      ],
      "source": [
        "print(model)"
      ]
    },
    {
      "cell_type": "code",
      "source": [
        "class VGGFeatures(nn.Module):\n",
        "  def __init__(self, vgg):\n",
        "    super(VGGFeatures, self).__init__()\n",
        "    self.vgg = vgg\n",
        "  \n",
        "  def forward(self, X):\n",
        "    out = self.vgg.features(X)\n",
        "    out = self.vgg.avgpool(out)\n",
        "    out = out.view(out.size(0), -1) # Flatten\n",
        "    return out"
      ],
      "metadata": {
        "id": "HenE4AbkJ3AN"
      },
      "execution_count": 16,
      "outputs": []
    },
    {
      "cell_type": "code",
      "source": [
        "vggf = VGGFeatures(model)"
      ],
      "metadata": {
        "id": "Vv9BO1vrKv5m"
      },
      "execution_count": 17,
      "outputs": []
    },
    {
      "cell_type": "code",
      "source": [
        "out = vggf(torch.rand(1, 3, 224, 224))\n",
        "out.shape"
      ],
      "metadata": {
        "id": "I6I1T5bfK0LW",
        "colab": {
          "base_uri": "https://localhost:8080/"
        },
        "outputId": "b7f7b1b1-d92d-4bdc-c7d3-ed566c7fc532"
      },
      "execution_count": 18,
      "outputs": [
        {
          "output_type": "execute_result",
          "data": {
            "text/plain": [
              "torch.Size([1, 25088])"
            ]
          },
          "metadata": {},
          "execution_count": 18
        }
      ]
    },
    {
      "cell_type": "code",
      "source": [
        "Ntrain, Ntest = len(train_dataset), len(test_dataset)\n",
        "Ntrain, Ntest"
      ],
      "metadata": {
        "id": "28DVjVmWLDiu",
        "colab": {
          "base_uri": "https://localhost:8080/"
        },
        "outputId": "3e2db032-ad63-4d68-f0d3-dd89cb7682e2"
      },
      "execution_count": 19,
      "outputs": [
        {
          "output_type": "execute_result",
          "data": {
            "text/plain": [
              "(3000, 1000)"
            ]
          },
          "metadata": {},
          "execution_count": 19
        }
      ]
    },
    {
      "cell_type": "code",
      "source": [
        "D = out.shape[1] # Dimensionality"
      ],
      "metadata": {
        "id": "v0J37KGHLMoN"
      },
      "execution_count": 20,
      "outputs": []
    },
    {
      "cell_type": "code",
      "source": [
        "Xtrain, Ytrain, Xtest, Ytest = np.zeros((Ntrain, D)), np.zeros((Ntrain, 1)), np.zeros((Ntest, D)), np.zeros((Ntest, 1))"
      ],
      "metadata": {
        "id": "-06wKViCLXWL"
      },
      "execution_count": 21,
      "outputs": []
    },
    {
      "cell_type": "code",
      "source": [
        "device = torch.device(\"cuda:0\" if torch.cuda.is_available() else \"cpu\")\n",
        "print(device)\n",
        "vggf.to(device)"
      ],
      "metadata": {
        "id": "cu4t4FoBLml0",
        "colab": {
          "base_uri": "https://localhost:8080/"
        },
        "outputId": "9fab7ca0-bf04-41e5-b849-806de42e000b"
      },
      "execution_count": 22,
      "outputs": [
        {
          "output_type": "stream",
          "name": "stdout",
          "text": [
            "cuda:0\n"
          ]
        },
        {
          "output_type": "execute_result",
          "data": {
            "text/plain": [
              "VGGFeatures(\n",
              "  (vgg): VGG(\n",
              "    (features): Sequential(\n",
              "      (0): Conv2d(3, 64, kernel_size=(3, 3), stride=(1, 1), padding=(1, 1))\n",
              "      (1): ReLU(inplace=True)\n",
              "      (2): Conv2d(64, 64, kernel_size=(3, 3), stride=(1, 1), padding=(1, 1))\n",
              "      (3): ReLU(inplace=True)\n",
              "      (4): MaxPool2d(kernel_size=2, stride=2, padding=0, dilation=1, ceil_mode=False)\n",
              "      (5): Conv2d(64, 128, kernel_size=(3, 3), stride=(1, 1), padding=(1, 1))\n",
              "      (6): ReLU(inplace=True)\n",
              "      (7): Conv2d(128, 128, kernel_size=(3, 3), stride=(1, 1), padding=(1, 1))\n",
              "      (8): ReLU(inplace=True)\n",
              "      (9): MaxPool2d(kernel_size=2, stride=2, padding=0, dilation=1, ceil_mode=False)\n",
              "      (10): Conv2d(128, 256, kernel_size=(3, 3), stride=(1, 1), padding=(1, 1))\n",
              "      (11): ReLU(inplace=True)\n",
              "      (12): Conv2d(256, 256, kernel_size=(3, 3), stride=(1, 1), padding=(1, 1))\n",
              "      (13): ReLU(inplace=True)\n",
              "      (14): Conv2d(256, 256, kernel_size=(3, 3), stride=(1, 1), padding=(1, 1))\n",
              "      (15): ReLU(inplace=True)\n",
              "      (16): MaxPool2d(kernel_size=2, stride=2, padding=0, dilation=1, ceil_mode=False)\n",
              "      (17): Conv2d(256, 512, kernel_size=(3, 3), stride=(1, 1), padding=(1, 1))\n",
              "      (18): ReLU(inplace=True)\n",
              "      (19): Conv2d(512, 512, kernel_size=(3, 3), stride=(1, 1), padding=(1, 1))\n",
              "      (20): ReLU(inplace=True)\n",
              "      (21): Conv2d(512, 512, kernel_size=(3, 3), stride=(1, 1), padding=(1, 1))\n",
              "      (22): ReLU(inplace=True)\n",
              "      (23): MaxPool2d(kernel_size=2, stride=2, padding=0, dilation=1, ceil_mode=False)\n",
              "      (24): Conv2d(512, 512, kernel_size=(3, 3), stride=(1, 1), padding=(1, 1))\n",
              "      (25): ReLU(inplace=True)\n",
              "      (26): Conv2d(512, 512, kernel_size=(3, 3), stride=(1, 1), padding=(1, 1))\n",
              "      (27): ReLU(inplace=True)\n",
              "      (28): Conv2d(512, 512, kernel_size=(3, 3), stride=(1, 1), padding=(1, 1))\n",
              "      (29): ReLU(inplace=True)\n",
              "      (30): MaxPool2d(kernel_size=2, stride=2, padding=0, dilation=1, ceil_mode=False)\n",
              "    )\n",
              "    (avgpool): AdaptiveAvgPool2d(output_size=(7, 7))\n",
              "    (classifier): Sequential(\n",
              "      (0): Linear(in_features=25088, out_features=4096, bias=True)\n",
              "      (1): ReLU(inplace=True)\n",
              "      (2): Dropout(p=0.5, inplace=False)\n",
              "      (3): Linear(in_features=4096, out_features=4096, bias=True)\n",
              "      (4): ReLU(inplace=True)\n",
              "      (5): Dropout(p=0.5, inplace=False)\n",
              "      (6): Linear(in_features=4096, out_features=1000, bias=True)\n",
              "    )\n",
              "  )\n",
              ")"
            ]
          },
          "metadata": {},
          "execution_count": 22
        }
      ]
    },
    {
      "cell_type": "code",
      "source": [
        "# Populate Xtrain and Ytrain\n",
        "i = 0\n",
        "with torch.no_grad():\n",
        "  for inputs, targets in train_loader:\n",
        "    # move data to GPU\n",
        "    inputs = inputs.to(device)\n",
        "    \n",
        "    # get output\n",
        "    output = vggf(inputs)\n",
        "\n",
        "    # size of the batch (may not always be the batch_size)\n",
        "    sz = len(output)\n",
        "\n",
        "    # assign to Xtrain and Ytrain\n",
        "    Xtrain[i: i+sz] = output.cpu().detach().numpy()\n",
        "    Ytrain[i: i+sz] = targets.view(-1, 1).numpy()\n",
        "\n",
        "    # increment i\n",
        "    i += sz\n",
        "    print(i)"
      ],
      "metadata": {
        "id": "XKdajSAZLyiJ",
        "colab": {
          "base_uri": "https://localhost:8080/"
        },
        "outputId": "b9751ab0-fc94-4919-a4af-59a2e24b6b9f"
      },
      "execution_count": 23,
      "outputs": [
        {
          "output_type": "stream",
          "name": "stdout",
          "text": [
            "128\n",
            "256\n",
            "384\n",
            "512\n",
            "640\n",
            "768\n",
            "896\n",
            "1024\n",
            "1152\n",
            "1280\n",
            "1408\n",
            "1536\n",
            "1664\n",
            "1792\n",
            "1920\n",
            "2048\n",
            "2176\n",
            "2304\n",
            "2432\n",
            "2560\n",
            "2688\n",
            "2816\n",
            "2944\n",
            "3000\n"
          ]
        }
      ]
    },
    {
      "cell_type": "code",
      "source": [
        "# Populate Xtest and Ytest\n",
        "i = 0\n",
        "with torch.no_grad():\n",
        "  for inputs, targets in test_loader:\n",
        "    # move data to GPU\n",
        "    inputs = inputs.to(device)\n",
        "    \n",
        "    # get output\n",
        "    output = vggf(inputs)\n",
        "\n",
        "    # size of the batch (may not always be the batch_size)\n",
        "    sz = len(output)\n",
        "\n",
        "    # assign to Xtrain and Ytrain\n",
        "    Xtest[i: i+sz] = output.cpu().detach().numpy()\n",
        "    Ytest[i: i+sz] = targets.view(-1, 1).numpy()\n",
        "\n",
        "    # increment i\n",
        "    i += sz\n",
        "    print(i)"
      ],
      "metadata": {
        "id": "TNbaUW0vN1LY",
        "colab": {
          "base_uri": "https://localhost:8080/"
        },
        "outputId": "62f02df3-a3d5-4021-9151-3150edb88095"
      },
      "execution_count": 24,
      "outputs": [
        {
          "output_type": "stream",
          "name": "stdout",
          "text": [
            "128\n",
            "256\n",
            "384\n",
            "512\n",
            "640\n",
            "768\n",
            "896\n",
            "1000\n"
          ]
        }
      ]
    },
    {
      "cell_type": "code",
      "source": [
        "Xtrain.max(), Xtrain.min() # The values are not normalized in NN."
      ],
      "metadata": {
        "id": "gyg_rraUOIIR",
        "colab": {
          "base_uri": "https://localhost:8080/"
        },
        "outputId": "2386c0ce-5560-427e-a47b-6a28d1581a2c"
      },
      "execution_count": 25,
      "outputs": [
        {
          "output_type": "execute_result",
          "data": {
            "text/plain": [
              "(61.94459533691406, 0.0)"
            ]
          },
          "metadata": {},
          "execution_count": 25
        }
      ]
    },
    {
      "cell_type": "code",
      "source": [
        "from sklearn.preprocessing import StandardScaler\n",
        "\n",
        "scaler = StandardScaler()\n",
        "Xtrain_transformed = scaler.fit_transform(Xtrain)\n",
        "Xtest_transformed = scaler.transform(Xtest)"
      ],
      "metadata": {
        "id": "gvorluxIOLdz"
      },
      "execution_count": 26,
      "outputs": []
    },
    {
      "cell_type": "code",
      "source": [
        "# Try the built-in Logistic Regression\n",
        "\n",
        "from sklearn.linear_model import LogisticRegression\n",
        "logr = LogisticRegression()\n",
        "logr.fit(Xtrain_transformed, Ytrain.flatten())\n",
        "print(f\"Train Score: {logr.score(Xtrain_transformed, Ytrain.flatten())}\")\n",
        "print(f\"Test Score: {logr.score(Xtest_transformed, Ytest.flatten())}\")"
      ],
      "metadata": {
        "id": "Tk1YsbdkOfSY",
        "colab": {
          "base_uri": "https://localhost:8080/"
        },
        "outputId": "0e572588-0010-4101-d16a-9324ff57da9b"
      },
      "execution_count": 27,
      "outputs": [
        {
          "output_type": "stream",
          "name": "stdout",
          "text": [
            "Train Score: 1.0\n",
            "Test Score: 0.987\n"
          ]
        }
      ]
    },
    {
      "cell_type": "code",
      "source": [
        "# Do Logistic Regression in PyTorch\n",
        "model = nn.Linear(D, 1)"
      ],
      "metadata": {
        "id": "5QM86yHkPkuH"
      },
      "execution_count": 28,
      "outputs": []
    },
    {
      "cell_type": "code",
      "source": [
        "device = torch.device(\"cuda:0\" if torch.cuda.is_available() else \"cpu\")\n",
        "print(device)\n",
        "model.to(device)"
      ],
      "metadata": {
        "id": "Ll9Czi4zP4KX",
        "colab": {
          "base_uri": "https://localhost:8080/"
        },
        "outputId": "03314382-c2f1-4f44-d51a-a405c8dcb668"
      },
      "execution_count": 29,
      "outputs": [
        {
          "output_type": "stream",
          "name": "stdout",
          "text": [
            "cuda:0\n"
          ]
        },
        {
          "output_type": "execute_result",
          "data": {
            "text/plain": [
              "Linear(in_features=25088, out_features=1, bias=True)"
            ]
          },
          "metadata": {},
          "execution_count": 29
        }
      ]
    },
    {
      "cell_type": "code",
      "source": [
        "# Loss and Optimizer\n",
        "criterion = nn.BCEWithLogitsLoss()\n",
        "optimizer = torch.optim.Adam(model.parameters())"
      ],
      "metadata": {
        "id": "XRDlmPJtP-qm"
      },
      "execution_count": 30,
      "outputs": []
    },
    {
      "cell_type": "code",
      "source": [
        "# Make datasets\n",
        "train_dataset2 = torch.utils.data.TensorDataset(\n",
        "    torch.from_numpy(Xtrain_transformed.astype(np.float32)),\n",
        "    torch.from_numpy(Ytrain.astype(np.float32))\n",
        ")\n",
        "\n",
        "test_dataset2 = torch.utils.data.TensorDataset(\n",
        "    torch.from_numpy(Xtest_transformed.astype(np.float32)),\n",
        "    torch.from_numpy(Ytest.astype(np.float32))\n",
        ")"
      ],
      "metadata": {
        "id": "IaxEFoxcQH1a"
      },
      "execution_count": 31,
      "outputs": []
    },
    {
      "cell_type": "code",
      "source": [
        "batch_size = 128\n",
        "train_loader2 = torch.utils.data.DataLoader(\n",
        "    train_dataset2,\n",
        "    batch_size=batch_size,\n",
        "    shuffle=True\n",
        ")\n",
        "\n",
        "test_loader2 = torch.utils.data.DataLoader(\n",
        "    test_dataset2,\n",
        "    batch_size=batch_size\n",
        ")"
      ],
      "metadata": {
        "id": "42CSrKEyQrPI"
      },
      "execution_count": 32,
      "outputs": []
    },
    {
      "cell_type": "code",
      "source": [
        "def batch_gd(model, criterion, optimizer, train_loader, test_loader, epochs):\n",
        "  train_losses = np.zeros(epochs)\n",
        "  test_losses = np.zeros(epochs)\n",
        "\n",
        "  for i in range(epochs):\n",
        "    model.train()\n",
        "    t0 = datetime.now()\n",
        "    train_loss = []\n",
        "    for inputs, targets in train_loader:\n",
        "      # move data to GPU\n",
        "      inputs, targets = inputs.to(device), targets.to(device)\n",
        "\n",
        "      # zero the parameter gradients\n",
        "      optimizer.zero_grad()\n",
        "\n",
        "      # Forward pass\n",
        "      outputs = model(inputs)\n",
        "      loss = criterion(outputs, targets)\n",
        "\n",
        "      # Backward and Optimize\n",
        "      loss.backward()\n",
        "      optimizer.step()\n",
        "      \n",
        "      train_loss.append(loss.item())\n",
        "\n",
        "    train_losses[i] = np.mean(train_loss)\n",
        "\n",
        "    model.eval()\n",
        "    test_loss = []\n",
        "    for inputs, targets in test_loader:\n",
        "      inputs, targets = inputs.to(device), targets.to(device)\n",
        "      outputs = model(inputs)\n",
        "      loss = criterion(outputs, targets)\n",
        "      test_loss.append(loss.item())\n",
        "    \n",
        "    test_losses[i] = np.mean(test_loss)\n",
        "\n",
        "    dt = datetime.now() - t0\n",
        "    print(f\"Epoch: {i+1} / {epochs}, Train Loss: {train_losses[i]:.4f}, Test Loss: {test_losses[i]:.4f}, Duration: {dt}\")\n",
        "  \n",
        "  return train_losses, test_losses"
      ],
      "metadata": {
        "id": "g1ZG7wM9Q30R"
      },
      "execution_count": 37,
      "outputs": []
    },
    {
      "cell_type": "code",
      "source": [
        "train_losses, test_losses = batch_gd(model, criterion, optimizer, train_loader2, test_loader2, epochs=10)"
      ],
      "metadata": {
        "id": "95QHgmczQ4qT",
        "colab": {
          "base_uri": "https://localhost:8080/"
        },
        "outputId": "c64a4381-4a82-4e38-deed-7333c625c962"
      },
      "execution_count": 38,
      "outputs": [
        {
          "output_type": "stream",
          "name": "stdout",
          "text": [
            "Epoch: 1 / 10, Train Loss: 0.0911, Test Loss: 0.0396, Duration: 0:00:00.309641\n",
            "Epoch: 2 / 10, Train Loss: 0.0053, Test Loss: 0.0411, Duration: 0:00:00.291213\n",
            "Epoch: 3 / 10, Train Loss: 0.0012, Test Loss: 0.0402, Duration: 0:00:00.448665\n",
            "Epoch: 4 / 10, Train Loss: 0.0007, Test Loss: 0.0394, Duration: 0:00:00.344465\n",
            "Epoch: 5 / 10, Train Loss: 0.0006, Test Loss: 0.0392, Duration: 0:00:00.202487\n",
            "Epoch: 6 / 10, Train Loss: 0.0005, Test Loss: 0.0389, Duration: 0:00:00.201848\n",
            "Epoch: 7 / 10, Train Loss: 0.0004, Test Loss: 0.0389, Duration: 0:00:00.209775\n",
            "Epoch: 8 / 10, Train Loss: 0.0003, Test Loss: 0.0389, Duration: 0:00:00.200526\n",
            "Epoch: 9 / 10, Train Loss: 0.0003, Test Loss: 0.0388, Duration: 0:00:00.197443\n",
            "Epoch: 10 / 10, Train Loss: 0.0003, Test Loss: 0.0388, Duration: 0:00:00.212469\n"
          ]
        }
      ]
    },
    {
      "cell_type": "code",
      "source": [
        "plt.plot(train_losses, label='Train Loss')\n",
        "plt.plot(test_losses, label='Test Loss')\n",
        "plt.legend();"
      ],
      "metadata": {
        "id": "msDjaXfpQ8he",
        "colab": {
          "base_uri": "https://localhost:8080/",
          "height": 265
        },
        "outputId": "74ed3083-96e6-473d-fccb-645998872772"
      },
      "execution_count": 39,
      "outputs": [
        {
          "output_type": "display_data",
          "data": {
            "text/plain": [
              "<Figure size 432x288 with 1 Axes>"
            ],
            "image/png": "[encoded data removed]"
          },
          "metadata": {
            "needs_background": "light"
          }
        }
      ]
    },
    {
      "cell_type": "code",
      "source": [
        "# Accuracy\n",
        "model.eval()\n",
        "\n",
        "n_correct = 0.\n",
        "n_total = 0.\n",
        " \n",
        "for inputs, targets in train_loader2:\n",
        "  # move data to GPU\n",
        "  inputs, targets = inputs.to(device), targets.to(device)\n",
        "\n",
        "  # Forward Pass\n",
        "  outputs = model(inputs)\n",
        "\n",
        "  # Get predictions \n",
        "  predictions = (outputs > 0)\n",
        "\n",
        "  # update counts\n",
        "  n_correct += (predictions == targets).sum().item()\n",
        "  n_total += targets.shape[0]\n",
        "\n",
        "train_acc = n_correct / n_total\n",
        "\n",
        "n_correct = 0.\n",
        "n_total = 0.\n",
        "\n",
        "for inputs, targets in test_loader2:\n",
        "  # move data to GPU\n",
        "  inputs, targets = inputs.to(device), targets.to(device)\n",
        "\n",
        "  # Forward Pass\n",
        "  outputs = model(inputs)\n",
        "\n",
        "  # Get predictions \n",
        "  predictions = (outputs > 0)\n",
        "\n",
        "  # update counts\n",
        "  n_correct += (predictions == targets).sum().item()\n",
        "  n_total += targets.shape[0]\n",
        "\n",
        "test_acc = n_correct / n_total\n",
        "\n",
        "print(f\"Train Accuracy:{train_acc:.4f}, Test Accuracy:{test_acc:.4f}\")"
      ],
      "metadata": {
        "colab": {
          "base_uri": "https://localhost:8080/"
        },
        "id": "bKfF0RYKv4z0",
        "outputId": "14b03a41-8cdf-4dc4-c345-81f66399503b"
      },
      "execution_count": 42,
      "outputs": [
        {
          "output_type": "stream",
          "name": "stdout",
          "text": [
            "Train Accuracy:1.0000, Test Accuracy:0.9870\n"
          ]
        }
      ]
    }
  ]
}